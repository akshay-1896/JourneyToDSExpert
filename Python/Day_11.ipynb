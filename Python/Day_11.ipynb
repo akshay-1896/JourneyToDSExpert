{
 "cells": [
  {
   "cell_type": "markdown",
   "metadata": {},
   "source": [
    "## Practice on Functions"
   ]
  },
  {
   "cell_type": "markdown",
   "metadata": {},
   "source": [
    "Parameters"
   ]
  },
  {
   "cell_type": "code",
   "execution_count": null,
   "metadata": {},
   "outputs": [],
   "source": [
    "def test(num1, num2):\n",
    "    result = num1 + num2\n",
    "    # return \"Sum operation executed!!\"\n",
    "    return result\n",
    "\n",
    "n1 = int(input(\"Enter the first number: \")) # by default it accepts string as an input\n",
    "n2 = int(input(\"Enter the second number: \"))\n",
    "output = test(n1,n2)\n",
    "print(output)"
   ]
  },
  {
   "cell_type": "code",
   "execution_count": null,
   "metadata": {},
   "outputs": [],
   "source": [
    "inputdata_ls = [10,20,30,40,50,60,70,80,90]\n",
    "def total_sum(list):\n",
    "    total = 0\n",
    "    for item in list:\n",
    "        total += item\n",
    "    return total\n",
    "output = total_sum(inputdata_ls)\n",
    "print(f'Your sum is: {output}')"
   ]
  },
  {
   "cell_type": "code",
   "execution_count": null,
   "metadata": {},
   "outputs": [],
   "source": [
    "inputdata_ls = [52,36,75,95,66,55,44,22,15,36,87,78,94,42,36]\n",
    "def item_filter(ls):\n",
    "    filter_data = []\n",
    "    for item in ls:\n",
    "        if item <= 50:\n",
    "            filter_data.append(item)\n",
    "    return filter_data\n",
    "output = item_filter(inputdata_ls)\n",
    "print(output)"
   ]
  },
  {
   "cell_type": "markdown",
   "metadata": {},
   "source": [
    "Default Parameter"
   ]
  },
  {
   "cell_type": "code",
   "execution_count": null,
   "metadata": {},
   "outputs": [],
   "source": [
    "# def test(n1 = 25, n2): # SyntaxError: parameter without a default follows parameter with a default\n",
    "# def test(n1, n2 = 25):\n",
    "def test(n1 = 25, n2 = 20):\n",
    "    return n1 + n2\n",
    "\n",
    "# print(test(n1 = 25, n2 = 50)) # value of n2 gets updated\n",
    "print(test())"
   ]
  },
  {
   "cell_type": "markdown",
   "metadata": {},
   "source": [
    "*args ==> Arguments"
   ]
  },
  {
   "cell_type": "code",
   "execution_count": null,
   "metadata": {},
   "outputs": [],
   "source": [
    "# def total_sum(*args):\n",
    "def total_sum(*n):\n",
    "    print(type(n))\n",
    "    for item in n:\n",
    "        print(item,end=',')\n",
    "output= total_sum(10,20,30,40,50,60,70,80,90,50,45,60,75,84,86,33)"
   ]
  },
  {
   "cell_type": "code",
   "execution_count": null,
   "metadata": {},
   "outputs": [],
   "source": [
    "def square_calculator(*square):\n",
    "    squared_result = []\n",
    "    squared_number = 0\n",
    "    for item in square:\n",
    "        number = item ** 2\n",
    "        squared_result.append(number)\n",
    "    return squared_result\n",
    "output = square_calculator(2,3,4,5,6,7,8,9)\n",
    "print(output)"
   ]
  },
  {
   "cell_type": "markdown",
   "metadata": {},
   "source": [
    "**kwargs ==> Keyword Arguments"
   ]
  },
  {
   "cell_type": "code",
   "execution_count": null,
   "metadata": {},
   "outputs": [],
   "source": [
    "def testing(**data): # stores in the form of dictionary\n",
    "    # print(data)\n",
    "    for key, values in data.items():\n",
    "        print(f'{key} --> {values}')\n",
    "\n",
    "testing(name='ayush',branch='cse',roll_no=102,college='jecrc')"
   ]
  }
 ],
 "metadata": {
  "kernelspec": {
   "display_name": "Python 3",
   "language": "python",
   "name": "python3"
  },
  "language_info": {
   "codemirror_mode": {
    "name": "ipython",
    "version": 3
   },
   "file_extension": ".py",
   "mimetype": "text/x-python",
   "name": "python",
   "nbconvert_exporter": "python",
   "pygments_lexer": "ipython3",
   "version": "3.12.4"
  }
 },
 "nbformat": 4,
 "nbformat_minor": 2
}
