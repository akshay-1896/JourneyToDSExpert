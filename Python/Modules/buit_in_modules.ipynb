{
 "cells": [
  {
   "cell_type": "code",
   "execution_count": 2,
   "metadata": {},
   "outputs": [],
   "source": [
    "import os"
   ]
  },
  {
   "cell_type": "code",
   "execution_count": 14,
   "metadata": {},
   "outputs": [
    {
     "name": "stdout",
     "output_type": "stream",
     "text": [
      " Volume in drive C has no label.\n",
      " Volume Serial Number is 76EB-E140\n",
      "\n",
      " Directory of C:\\Administrator\\Wallpaper\n",
      "\n",
      "03-07-2024  11.28 AM    <DIR>          .\n",
      "06-09-2024  05.30 PM    <DIR>          ..\n",
      "26-06-2024  08.13 PM    <DIR>          darshans\n",
      "26-07-2023  07.09 PM           853,960 galaxy-tab-s8-samsung-stock-amoled-dark-mode-black-2560x1440-7524.jpg\n",
      "26-07-2023  07.09 PM         2,039,729 galaxy-tab-s8-samsung-stock-amoled-dark-mode-black-2560x1440-7530.jpg\n",
      "01-11-2023  07.58 PM         3,945,586 gerald-berliner-Br0UDTYATQc-unsplash.jpg\n",
      "17-10-2023  10.31 PM         1,130,465 peakpx (1).jpg\n",
      "17-10-2023  10.32 PM           471,669 peakpx (2).jpg\n",
      "19-10-2023  08.03 AM           786,007 pkpx (3).jpg\n",
      "09-11-2021  08.33 AM         5,854,311 Samsung Wallpaper_01.jpg\n",
      "09-11-2021  08.33 AM         5,851,014 Samsung Wallpaper_02.jpg\n",
      "14-10-2022  01.59 PM            75,155 w1.jpg\n",
      "12-10-2022  05.17 PM           369,125 w3.jpg\n",
      "22-07-2022  09.32 PM         5,674,314 w5.jpg\n",
      "26-08-2022  03.29 PM           136,743 w8.jpg\n",
      "31-07-2022  05.50 PM           353,431 w8e.jpg\n",
      "              13 File(s)     27,541,509 bytes\n",
      "               3 Dir(s)  325,999,128,576 bytes free\n"
     ]
    }
   ],
   "source": [
    "ls"
   ]
  },
  {
   "cell_type": "code",
   "execution_count": 15,
   "metadata": {},
   "outputs": [
    {
     "data": {
      "text/plain": [
       "'C:\\\\Administrator\\\\Wallpaper'"
      ]
     },
     "execution_count": 15,
     "metadata": {},
     "output_type": "execute_result"
    }
   ],
   "source": [
    "pwd # print working directory"
   ]
  },
  {
   "cell_type": "code",
   "execution_count": 23,
   "metadata": {},
   "outputs": [
    {
     "data": {
      "text/plain": [
       "'C:\\\\Administrator\\\\Wallpaper'"
      ]
     },
     "execution_count": 23,
     "metadata": {},
     "output_type": "execute_result"
    }
   ],
   "source": [
    "os.getcwd() # get current working directory"
   ]
  },
  {
   "cell_type": "code",
   "execution_count": 22,
   "metadata": {},
   "outputs": [
    {
     "data": {
      "text/plain": [
       "['darshans',\n",
       " 'desktop.ini',\n",
       " 'galaxy-tab-s8-samsung-stock-amoled-dark-mode-black-2560x1440-7524.jpg',\n",
       " 'galaxy-tab-s8-samsung-stock-amoled-dark-mode-black-2560x1440-7530.jpg',\n",
       " 'gerald-berliner-Br0UDTYATQc-unsplash.jpg',\n",
       " 'peakpx (1).jpg',\n",
       " 'peakpx (2).jpg',\n",
       " 'pkpx (3).jpg',\n",
       " 'Samsung Wallpaper_01.jpg',\n",
       " 'Samsung Wallpaper_02.jpg',\n",
       " 'w1.jpg',\n",
       " 'w3.jpg',\n",
       " 'w5.jpg',\n",
       " 'w8.jpg',\n",
       " 'w8e.jpg']"
      ]
     },
     "execution_count": 22,
     "metadata": {},
     "output_type": "execute_result"
    }
   ],
   "source": [
    "os.listdir()"
   ]
  },
  {
   "cell_type": "code",
   "execution_count": 18,
   "metadata": {},
   "outputs": [
    {
     "name": "stdout",
     "output_type": "stream",
     "text": [
      "15\n"
     ]
    },
    {
     "data": {
      "text/plain": [
       "['darshans',\n",
       " 'desktop.ini',\n",
       " 'galaxy-tab-s8-samsung-stock-amoled-dark-mode-black-2560x1440-7524.jpg',\n",
       " 'galaxy-tab-s8-samsung-stock-amoled-dark-mode-black-2560x1440-7530.jpg',\n",
       " 'gerald-berliner-Br0UDTYATQc-unsplash.jpg',\n",
       " 'peakpx (1).jpg',\n",
       " 'peakpx (2).jpg',\n",
       " 'pkpx (3).jpg',\n",
       " 'Samsung Wallpaper_01.jpg',\n",
       " 'Samsung Wallpaper_02.jpg',\n",
       " 'w1.jpg',\n",
       " 'w3.jpg',\n",
       " 'w5.jpg',\n",
       " 'w8.jpg',\n",
       " 'w8e.jpg']"
      ]
     },
     "execution_count": 18,
     "metadata": {},
     "output_type": "execute_result"
    }
   ],
   "source": [
    "wallpaper_path = r\"C:\\Administrator\\Wallpaper\"\n",
    "print(len(os.listdir(wallpaper_path)))\n",
    "os.listdir(wallpaper_path)"
   ]
  },
  {
   "cell_type": "code",
   "execution_count": 26,
   "metadata": {},
   "outputs": [],
   "source": [
    "os.chdir(wallpaper_path)"
   ]
  },
  {
   "cell_type": "code",
   "execution_count": 3,
   "metadata": {},
   "outputs": [
    {
     "data": {
      "text/plain": [
       "'c:\\\\Users\\\\bhart\\\\OneDrive\\\\Desktop\\\\Data Science\\\\JourneyToDSExpert\\\\Python\\\\Modules'"
      ]
     },
     "execution_count": 3,
     "metadata": {},
     "output_type": "execute_result"
    }
   ],
   "source": [
    "os.getcwd()"
   ]
  },
  {
   "cell_type": "code",
   "execution_count": 21,
   "metadata": {},
   "outputs": [
    {
     "data": {
      "text/plain": [
       "['darshans',\n",
       " 'desktop.ini',\n",
       " 'galaxy-tab-s8-samsung-stock-amoled-dark-mode-black-2560x1440-7524.jpg',\n",
       " 'galaxy-tab-s8-samsung-stock-amoled-dark-mode-black-2560x1440-7530.jpg',\n",
       " 'gerald-berliner-Br0UDTYATQc-unsplash.jpg',\n",
       " 'peakpx (1).jpg',\n",
       " 'peakpx (2).jpg',\n",
       " 'pkpx (3).jpg',\n",
       " 'Samsung Wallpaper_01.jpg',\n",
       " 'Samsung Wallpaper_02.jpg',\n",
       " 'w1.jpg',\n",
       " 'w3.jpg',\n",
       " 'w5.jpg',\n",
       " 'w8.jpg',\n",
       " 'w8e.jpg']"
      ]
     },
     "execution_count": 21,
     "metadata": {},
     "output_type": "execute_result"
    }
   ],
   "source": [
    "os.listdir()"
   ]
  },
  {
   "cell_type": "code",
   "execution_count": 4,
   "metadata": {},
   "outputs": [],
   "source": [
    "os.mkdir('testing')"
   ]
  },
  {
   "cell_type": "code",
   "execution_count": 8,
   "metadata": {},
   "outputs": [],
   "source": [
    "os.rmdir('testing')"
   ]
  },
  {
   "cell_type": "code",
   "execution_count": 9,
   "metadata": {},
   "outputs": [],
   "source": [
    "os.makedirs('testing')"
   ]
  },
  {
   "cell_type": "code",
   "execution_count": null,
   "metadata": {},
   "outputs": [],
   "source": [
    "os.makedirs('testing',exist_ok=True) # mkdir does not have exist_ok feature"
   ]
  },
  {
   "cell_type": "code",
   "execution_count": null,
   "metadata": {},
   "outputs": [],
   "source": [
    "os.makedirs(\"testing2/testing3/testing4\") # can make multiple inherited folders at single execution"
   ]
  },
  {
   "cell_type": "code",
   "execution_count": null,
   "metadata": {},
   "outputs": [],
   "source": [
    "os.removedirs(\"testing2/testing3/testing4\") "
   ]
  },
  {
   "cell_type": "code",
   "execution_count": 19,
   "metadata": {},
   "outputs": [
    {
     "name": "stdout",
     "output_type": "stream",
     "text": [
      "renames(old, new)\n",
      "\n",
      "    Super-rename; create directories as necessary and delete any left\n",
      "    empty.  Works like rename, except creation of any intermediate\n",
      "    directories needed to make the new pathname good is attempted\n",
      "    first.  After the rename, directories corresponding to rightmost\n",
      "    path segments of the old name will be pruned until either the\n",
      "    whole path is consumed or a nonempty directory is found.\n",
      "\n",
      "    Note: this function can fail with the new directory structure made\n",
      "    if you lack permissions needed to unlink the leaf directory or\n",
      "    file.\n",
      "\n",
      "    \n"
     ]
    }
   ],
   "source": [
    "print(os.renames.__doc__)"
   ]
  },
  {
   "cell_type": "code",
   "execution_count": 20,
   "metadata": {},
   "outputs": [],
   "source": [
    "for i in range(1,11):\n",
    "    os.mkdir(\"folder\" + str(i))"
   ]
  },
  {
   "cell_type": "code",
   "execution_count": 21,
   "metadata": {},
   "outputs": [],
   "source": [
    "for i in range(1,11):\n",
    "    if os.path.exists(\"folder\" + str(i)):\n",
    "        os.rename(\"folder\" + str(i), \"Directory\" + str(i))"
   ]
  },
  {
   "cell_type": "code",
   "execution_count": 23,
   "metadata": {},
   "outputs": [],
   "source": [
    "for i in range(1,11):\n",
    "    if os.path.exists(\"Directory\" + str(i)):\n",
    "        os.rmdir(\"Directory\" + str(i))"
   ]
  },
  {
   "cell_type": "code",
   "execution_count": null,
   "metadata": {},
   "outputs": [],
   "source": [
    "# os.path.join()"
   ]
  },
  {
   "cell_type": "code",
   "execution_count": 36,
   "metadata": {},
   "outputs": [
    {
     "name": "stdout",
     "output_type": "stream",
     "text": [
      "c:\\Users\\bhart\\OneDrive\\Desktop\\Data Science\\\n"
     ]
    }
   ],
   "source": [
    "path1 = \"c:\\\\Users\\\\bhart\\\\OneDrive\\\\Desktop\\\\Data Science\\\\\"\n",
    "path2 = \"JourneyToDSExpert\\\\Python\\\\Modules\"\n",
    "print(path1)"
   ]
  },
  {
   "cell_type": "code",
   "execution_count": 30,
   "metadata": {},
   "outputs": [
    {
     "data": {
      "text/plain": [
       "'c:\\\\Users\\\\bhart\\\\OneDrive\\\\Desktop\\\\Data Science\\\\JourneyToDSExpert\\\\Python\\\\Modules'"
      ]
     },
     "execution_count": 30,
     "metadata": {},
     "output_type": "execute_result"
    }
   ],
   "source": [
    "os.path.join(path1,path2)"
   ]
  },
  {
   "cell_type": "code",
   "execution_count": 31,
   "metadata": {},
   "outputs": [
    {
     "data": {
      "text/plain": [
       "'c:\\\\Users\\\\bhart\\\\OneDrive\\\\Desktop\\\\Data Science\\\\ITS'"
      ]
     },
     "execution_count": 31,
     "metadata": {},
     "output_type": "execute_result"
    }
   ],
   "source": [
    "os.path.join(path1,\"ITS\")"
   ]
  },
  {
   "cell_type": "code",
   "execution_count": 39,
   "metadata": {},
   "outputs": [
    {
     "data": {
      "text/plain": [
       "'c:\\\\Users\\\\bhart\\\\OneDrive\\\\Desktop\\\\Data Science\\\\45DayOfData\\\\Python'"
      ]
     },
     "execution_count": 39,
     "metadata": {},
     "output_type": "execute_result"
    }
   ],
   "source": [
    "os.path.join(path1,\"45DayOfData\",\"Python\")"
   ]
  },
  {
   "cell_type": "code",
   "execution_count": 38,
   "metadata": {},
   "outputs": [
    {
     "name": "stdout",
     "output_type": "stream",
     "text": [
      "hello \\ upflairs\n",
      "hello \\ upflairs\n",
      "hello \\\\ upflairs\n"
     ]
    },
    {
     "name": "stderr",
     "output_type": "stream",
     "text": [
      "<>:1: SyntaxWarning: invalid escape sequence '\\ '\n",
      "<>:1: SyntaxWarning: invalid escape sequence '\\ '\n",
      "C:\\Users\\bhart\\AppData\\Local\\Temp\\ipykernel_12492\\1487128803.py:1: SyntaxWarning: invalid escape sequence '\\ '\n",
      "  print(\"hello \\ upflairs\")\n"
     ]
    }
   ],
   "source": [
    "print(\"hello \\ upflairs\")\n",
    "print(\"hello \\\\ upflairs\") # In python, \\\\ ==> \\, while considering as string\n",
    "print(r\"hello \\\\ upflairs\")"
   ]
  },
  {
   "cell_type": "code",
   "execution_count": 26,
   "metadata": {},
   "outputs": [
    {
     "name": "stdout",
     "output_type": "stream",
     "text": [
      "upflairs pvt ltd jaipur rajasthan\n"
     ]
    }
   ],
   "source": [
    "st1 = \"upflairs\"\n",
    "st2 = \"pvt ltd jaipur rajasthan\"\n",
    "print(st1+ \" \"+st2,)"
   ]
  },
  {
   "cell_type": "code",
   "execution_count": 41,
   "metadata": {},
   "outputs": [
    {
     "data": {
      "text/plain": [
       "\"Utility functions for copying and archiving files and directory trees.\\n\\nXXX The functions here don't copy the resource fork or other metadata on Mac.\\n\\n\""
      ]
     },
     "execution_count": 41,
     "metadata": {},
     "output_type": "execute_result"
    }
   ],
   "source": [
    "import shutil\n",
    "shutil.__doc__"
   ]
  },
  {
   "cell_type": "code",
   "execution_count": null,
   "metadata": {},
   "outputs": [],
   "source": [
    "shutil.rmtree() # to remove the directory, deletes permanently\n",
    "shutil.move() # to move the files and folders\n",
    "shutil.copy() # to copy the files and folders"
   ]
  },
  {
   "cell_type": "code",
   "execution_count": null,
   "metadata": {},
   "outputs": [
    {
     "data": {
      "text/plain": [
       "'branch/testing'"
      ]
     },
     "execution_count": 43,
     "metadata": {},
     "output_type": "execute_result"
    }
   ],
   "source": [
    "source_path = \"testing\"\n",
    "destination_path = \"branch/testing\"\n",
    "shutil.move(source_path,destination_path)"
   ]
  },
  {
   "cell_type": "code",
   "execution_count": null,
   "metadata": {},
   "outputs": [
    {
     "ename": "PermissionError",
     "evalue": "[Errno 13] Permission denied: 'testing'",
     "output_type": "error",
     "traceback": [
      "\u001b[1;31m---------------------------------------------------------------------------\u001b[0m",
      "\u001b[1;31mPermissionError\u001b[0m                           Traceback (most recent call last)",
      "Cell \u001b[1;32mIn[45], line 3\u001b[0m\n\u001b[0;32m      1\u001b[0m source_path \u001b[38;5;241m=\u001b[39m \u001b[38;5;124m\"\u001b[39m\u001b[38;5;124mtesting\u001b[39m\u001b[38;5;124m\"\u001b[39m\n\u001b[0;32m      2\u001b[0m destination_path \u001b[38;5;241m=\u001b[39m \u001b[38;5;124m\"\u001b[39m\u001b[38;5;124mbranch/testing_copied\u001b[39m\u001b[38;5;124m\"\u001b[39m\n\u001b[1;32m----> 3\u001b[0m \u001b[43mshutil\u001b[49m\u001b[38;5;241;43m.\u001b[39;49m\u001b[43mcopy\u001b[49m\u001b[43m(\u001b[49m\u001b[43msource_path\u001b[49m\u001b[43m,\u001b[49m\u001b[43mdestination_path\u001b[49m\u001b[43m)\u001b[49m\n",
      "File \u001b[1;32mc:\\Users\\bhart\\AppData\\Local\\Programs\\Python\\Python312\\Lib\\shutil.py:435\u001b[0m, in \u001b[0;36mcopy\u001b[1;34m(src, dst, follow_symlinks)\u001b[0m\n\u001b[0;32m    433\u001b[0m \u001b[38;5;28;01mif\u001b[39;00m os\u001b[38;5;241m.\u001b[39mpath\u001b[38;5;241m.\u001b[39misdir(dst):\n\u001b[0;32m    434\u001b[0m     dst \u001b[38;5;241m=\u001b[39m os\u001b[38;5;241m.\u001b[39mpath\u001b[38;5;241m.\u001b[39mjoin(dst, os\u001b[38;5;241m.\u001b[39mpath\u001b[38;5;241m.\u001b[39mbasename(src))\n\u001b[1;32m--> 435\u001b[0m \u001b[43mcopyfile\u001b[49m\u001b[43m(\u001b[49m\u001b[43msrc\u001b[49m\u001b[43m,\u001b[49m\u001b[43m \u001b[49m\u001b[43mdst\u001b[49m\u001b[43m,\u001b[49m\u001b[43m \u001b[49m\u001b[43mfollow_symlinks\u001b[49m\u001b[38;5;241;43m=\u001b[39;49m\u001b[43mfollow_symlinks\u001b[49m\u001b[43m)\u001b[49m\n\u001b[0;32m    436\u001b[0m copymode(src, dst, follow_symlinks\u001b[38;5;241m=\u001b[39mfollow_symlinks)\n\u001b[0;32m    437\u001b[0m \u001b[38;5;28;01mreturn\u001b[39;00m dst\n",
      "File \u001b[1;32mc:\\Users\\bhart\\AppData\\Local\\Programs\\Python\\Python312\\Lib\\shutil.py:260\u001b[0m, in \u001b[0;36mcopyfile\u001b[1;34m(src, dst, follow_symlinks)\u001b[0m\n\u001b[0;32m    258\u001b[0m     os\u001b[38;5;241m.\u001b[39msymlink(os\u001b[38;5;241m.\u001b[39mreadlink(src), dst)\n\u001b[0;32m    259\u001b[0m \u001b[38;5;28;01melse\u001b[39;00m:\n\u001b[1;32m--> 260\u001b[0m     \u001b[38;5;28;01mwith\u001b[39;00m \u001b[38;5;28;43mopen\u001b[39;49m\u001b[43m(\u001b[49m\u001b[43msrc\u001b[49m\u001b[43m,\u001b[49m\u001b[43m \u001b[49m\u001b[38;5;124;43m'\u001b[39;49m\u001b[38;5;124;43mrb\u001b[39;49m\u001b[38;5;124;43m'\u001b[39;49m\u001b[43m)\u001b[49m \u001b[38;5;28;01mas\u001b[39;00m fsrc:\n\u001b[0;32m    261\u001b[0m         \u001b[38;5;28;01mtry\u001b[39;00m:\n\u001b[0;32m    262\u001b[0m             \u001b[38;5;28;01mwith\u001b[39;00m \u001b[38;5;28mopen\u001b[39m(dst, \u001b[38;5;124m'\u001b[39m\u001b[38;5;124mwb\u001b[39m\u001b[38;5;124m'\u001b[39m) \u001b[38;5;28;01mas\u001b[39;00m fdst:\n\u001b[0;32m    263\u001b[0m                 \u001b[38;5;66;03m# macOS\u001b[39;00m\n",
      "\u001b[1;31mPermissionError\u001b[0m: [Errno 13] Permission denied: 'testing'"
     ]
    }
   ],
   "source": [
    "source_path = \"testing\"\n",
    "destination_path = \"branch/testing_copied\" # renames the testing folder to testing_copied\n",
    "shutil.copy(source_path,destination_path)"
   ]
  },
  {
   "cell_type": "code",
   "execution_count": 46,
   "metadata": {},
   "outputs": [],
   "source": [
    "import time, datetime"
   ]
  },
  {
   "cell_type": "code",
   "execution_count": null,
   "metadata": {},
   "outputs": [],
   "source": []
  },
  {
   "cell_type": "code",
   "execution_count": null,
   "metadata": {},
   "outputs": [],
   "source": []
  },
  {
   "cell_type": "code",
   "execution_count": null,
   "metadata": {},
   "outputs": [],
   "source": []
  },
  {
   "cell_type": "code",
   "execution_count": null,
   "metadata": {},
   "outputs": [],
   "source": []
  },
  {
   "cell_type": "code",
   "execution_count": null,
   "metadata": {},
   "outputs": [],
   "source": []
  }
 ],
 "metadata": {
  "kernelspec": {
   "display_name": "Python 3",
   "language": "python",
   "name": "python3"
  },
  "language_info": {
   "codemirror_mode": {
    "name": "ipython",
    "version": 3
   },
   "file_extension": ".py",
   "mimetype": "text/x-python",
   "name": "python",
   "nbconvert_exporter": "python",
   "pygments_lexer": "ipython3",
   "version": "3.12.4"
  }
 },
 "nbformat": 4,
 "nbformat_minor": 2
}
