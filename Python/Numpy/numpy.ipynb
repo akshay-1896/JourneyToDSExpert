{
 "cells": [
  {
   "cell_type": "code",
   "execution_count": 1,
   "metadata": {},
   "outputs": [],
   "source": [
    "import numpy as np"
   ]
  },
  {
   "cell_type": "code",
   "execution_count": 2,
   "metadata": {},
   "outputs": [
    {
     "name": "stdout",
     "output_type": "stream",
     "text": [
      "[1 2 3 4 5]\n",
      "<class 'numpy.ndarray'>\n"
     ]
    },
    {
     "data": {
      "text/plain": [
       "dtype('int64')"
      ]
     },
     "execution_count": 2,
     "metadata": {},
     "output_type": "execute_result"
    }
   ],
   "source": [
    "arr = np.array([1, 2, 3, 4, 5]) # 1D array\n",
    "print(arr)\n",
    "print(type(arr)) # <class 'numpy.ndarray'>\n",
    "arr.dtype # dtype('int64')"
   ]
  },
  {
   "cell_type": "markdown",
   "metadata": {},
   "source": [
    "Data types"
   ]
  },
  {
   "cell_type": "code",
   "execution_count": 3,
   "metadata": {},
   "outputs": [
    {
     "name": "stdout",
     "output_type": "stream",
     "text": [
      "[ 1  2  3  4  5 20]\n"
     ]
    }
   ],
   "source": [
    "arr = np.array([1, 2, 3, 4, 5, 20.3]) # On introducing float value, all values are converted to float\n",
    "arr = np.array([1, 2, 3, 4, 5, 20.3, \"hii\"]) # On introducing string value, all values are converted to string\n",
    "arr = np.array([1, 2, 3, 4, 5, 20.3], dtype='int32') # Explicitly specifying the data type which means all values will be converted to int\n",
    "print(arr)"
   ]
  },
  {
   "cell_type": "markdown",
   "metadata": {},
   "source": [
    "Multiple Dimensions"
   ]
  },
  {
   "cell_type": "code",
   "execution_count": 4,
   "metadata": {},
   "outputs": [
    {
     "data": {
      "text/plain": [
       "array([[1, 2, 3],\n",
       "       [4, 5, 6],\n",
       "       [1, 2, 3],\n",
       "       [4, 5, 6]])"
      ]
     },
     "execution_count": 4,
     "metadata": {},
     "output_type": "execute_result"
    }
   ],
   "source": [
    "arr2 = np.array([[1, 2, 3], [4, 5, 6], [1, 2, 3], [4, 5, 6]]) # 2D array\n",
    "arr2.ndim # returns the number of dimensions of the array\n",
    "arr2.shape # returns the shape of the array\n",
    "arr2"
   ]
  },
  {
   "cell_type": "code",
   "execution_count": 5,
   "metadata": {},
   "outputs": [
    {
     "data": {
      "text/plain": [
       "array([[[1, 2, 3],\n",
       "        [4, 5, 6]],\n",
       "\n",
       "       [[1, 2, 3],\n",
       "        [4, 5, 6]]])"
      ]
     },
     "execution_count": 5,
     "metadata": {},
     "output_type": "execute_result"
    }
   ],
   "source": [
    "arr3 = np.array([[[1, 2, 3], [4, 5, 6]], [[1, 2, 3], [4, 5, 6]]]) # 3D array\n",
    "arr3.ndim\n",
    "arr3.shape\n",
    "arr3"
   ]
  },
  {
   "cell_type": "markdown",
   "metadata": {},
   "source": [
    "Indexing"
   ]
  },
  {
   "cell_type": "code",
   "execution_count": 6,
   "metadata": {},
   "outputs": [
    {
     "data": {
      "text/plain": [
       "array([4, 2])"
      ]
     },
     "execution_count": 6,
     "metadata": {},
     "output_type": "execute_result"
    }
   ],
   "source": [
    "arr = np.array([1, 2, 3, 4, 5])\n",
    "arr[-4:-1] # [2, 3, 4]\n",
    "arr[-2:0] # [] - empty array because the start index is greater than the end index\n",
    "arr[-2:0:-1] # [4, 3, 2] - reverse the array\n",
    "arr[-2:] # [4, 5]\n",
    "arr[-4:-2:-1] # [] - empty array because the start index is greater than the end index\n",
    "arr[2:-1:1] # [3, 4]\n",
    "arr[-2:-5:-2] # [4, 2]"
   ]
  },
  {
   "cell_type": "code",
   "execution_count": 7,
   "metadata": {},
   "outputs": [
    {
     "data": {
      "text/plain": [
       "array([[1, 2, 3],\n",
       "       [4, 5, 6],\n",
       "       [1, 2, 3],\n",
       "       [4, 5, 6]])"
      ]
     },
     "execution_count": 7,
     "metadata": {},
     "output_type": "execute_result"
    }
   ],
   "source": [
    "arr2"
   ]
  },
  {
   "cell_type": "code",
   "execution_count": 8,
   "metadata": {},
   "outputs": [
    {
     "data": {
      "text/plain": [
       "array([[30, 40],\n",
       "       [30, 40]])"
      ]
     },
     "execution_count": 8,
     "metadata": {},
     "output_type": "execute_result"
    }
   ],
   "source": [
    "arr2 = np.array([[10,20,30,40,50], [10,20,30,40,50], [10,20,30,40,50], [10,20,30,40,50]])\n",
    "arr2[-4:-1:2, -3:-1]"
   ]
  },
  {
   "cell_type": "code",
   "execution_count": 9,
   "metadata": {},
   "outputs": [
    {
     "data": {
      "text/plain": [
       "array([[[19,  1, 29, 14],\n",
       "        [45, 24,  3, 33],\n",
       "        [20, 45, 21, 12],\n",
       "        [ 5, 20, 34, 49],\n",
       "        [ 7, 22,  5, 45]],\n",
       "\n",
       "       [[ 5, 25, 11, 12],\n",
       "        [48, 13, 10, 20],\n",
       "        [ 9, 39, 39, 43],\n",
       "        [22,  2, 37, 23],\n",
       "        [ 2,  5,  3, 42]],\n",
       "\n",
       "       [[38, 29, 21, 31],\n",
       "        [48, 35, 18, 34],\n",
       "        [34, 32, 38, 26],\n",
       "        [33,  2, 19, 30],\n",
       "        [18, 45, 34, 38]]], dtype=int32)"
      ]
     },
     "execution_count": 9,
     "metadata": {},
     "output_type": "execute_result"
    }
   ],
   "source": [
    "arr3 = np.random.randint(1, 50, (3, 5, 4)) # 3D array with random values\n",
    "arr3"
   ]
  },
  {
   "cell_type": "code",
   "execution_count": 10,
   "metadata": {},
   "outputs": [
    {
     "data": {
      "text/plain": [
       "array([[[24,  3],\n",
       "        [45, 21]],\n",
       "\n",
       "       [[13, 10],\n",
       "        [39, 39]],\n",
       "\n",
       "       [[35, 18],\n",
       "        [32, 38]]], dtype=int32)"
      ]
     },
     "execution_count": 10,
     "metadata": {},
     "output_type": "execute_result"
    }
   ],
   "source": [
    "# arr3[1, 2:4, 1:3]\n",
    "# arr3[0:, 0, 1:3]\n",
    "# arr3[:, 1:3, 1:3]\n",
    "arr3[:, -4:-2, -3:-1]"
   ]
  },
  {
   "cell_type": "code",
   "execution_count": 11,
   "metadata": {},
   "outputs": [
    {
     "data": {
      "text/plain": [
       "array([[[0.61264373, 0.58857227, 0.90335053, 0.81682367],\n",
       "        [0.82350711, 0.42521335, 0.06712931, 0.71632614],\n",
       "        [0.18937423, 0.9383247 , 0.3412231 , 0.66166772],\n",
       "        [0.74703042, 0.97299948, 0.76632415, 0.78725829],\n",
       "        [0.07056866, 0.98065511, 0.1296323 , 0.70676868]],\n",
       "\n",
       "       [[0.96456545, 0.56164553, 0.46196203, 0.07436239],\n",
       "        [0.64054999, 0.06536617, 0.71853305, 0.13012842],\n",
       "        [0.79543111, 0.8565362 , 0.69291695, 0.4429782 ],\n",
       "        [0.46655895, 0.20187823, 0.27682131, 0.0601596 ],\n",
       "        [0.62216377, 0.2278385 , 0.4469002 , 0.25501081]]])"
      ]
     },
     "execution_count": 11,
     "metadata": {},
     "output_type": "execute_result"
    }
   ],
   "source": [
    "arr4 = np.random.random((2, 5, 4)) # 3D array with random float values\n",
    "arr4"
   ]
  },
  {
   "cell_type": "code",
   "execution_count": 12,
   "metadata": {},
   "outputs": [
    {
     "data": {
      "text/plain": [
       "array([[[0, 0, 0, 0],\n",
       "        [0, 0, 0, 0],\n",
       "        [0, 0, 0, 0],\n",
       "        [0, 0, 0, 0],\n",
       "        [0, 0, 0, 0]],\n",
       "\n",
       "       [[0, 0, 0, 0],\n",
       "        [0, 0, 0, 0],\n",
       "        [0, 0, 0, 0],\n",
       "        [0, 0, 0, 0],\n",
       "        [0, 0, 0, 0]]])"
      ]
     },
     "execution_count": 12,
     "metadata": {},
     "output_type": "execute_result"
    }
   ],
   "source": [
    "# arr4 = np.ones((2, 5, 4)) # 3D array with all values as 1\n",
    "arr4 = np.zeros((2, 5, 4)) # 3D array with all values as 1\n",
    "arr4.astype(int, copy=False) # copy=False will change the original array"
   ]
  },
  {
   "cell_type": "code",
   "execution_count": 13,
   "metadata": {},
   "outputs": [
    {
     "data": {
      "text/plain": [
       "array([1, 3, 5, 7, 9])"
      ]
     },
     "execution_count": 13,
     "metadata": {},
     "output_type": "execute_result"
    }
   ],
   "source": [
    "arr4 = np.linspace(1, 10, 5) # 20 values between 1 and 10 with equal difference(uniform distribution)\n",
    "arr4 = np.arange(1, 10, 2) # it will generate values between 1 and 10 with difference of 2 (non-uniform distribution)\n",
    "arr4"
   ]
  },
  {
   "cell_type": "code",
   "execution_count": 14,
   "metadata": {},
   "outputs": [
    {
     "data": {
      "text/plain": [
       "array([1, 5, 5, 8, 8, 5, 1, 2, 8, 8], dtype=int32)"
      ]
     },
     "execution_count": 14,
     "metadata": {},
     "output_type": "execute_result"
    }
   ],
   "source": [
    "arr4 = np.random.randint(1, 12, 10)\n",
    "arr4"
   ]
  },
  {
   "cell_type": "code",
   "execution_count": 15,
   "metadata": {},
   "outputs": [],
   "source": [
    "# Aggregate functions\n",
    "# 1. np.sum() or arr.sum()\n",
    "# 2. np.mean() or arr.mean()\n",
    "# 3. np.median()\n",
    "# 4. np.std() or arr.std()\n",
    "# 5. np.var() or arr.var()\n",
    "# 6. np.min() or arr.min()\n",
    "# 7. np.max() or arr.max()\n",
    "# 8. np.argmin() or arr.argmin() - returns the index of the minimum value\n",
    "# 9. np.argmax() or arr.argmax() - returns the index of the maximum value\n",
    "# 10. np.percentile() or \n",
    "# 11. np.any() - returns True if any of the value is True"
   ]
  },
  {
   "cell_type": "code",
   "execution_count": 16,
   "metadata": {},
   "outputs": [
    {
     "name": "stdout",
     "output_type": "stream",
     "text": [
      "[1 5 5 8 8 5 1 2 8 8]\n",
      "[ 1  6 11 19 27 32 33 35 43 51]\n",
      "[      1       5      25     200    1600    8000    8000   16000  128000\n",
      " 1024000]\n",
      "[ 4  0  3  0 -3 -4  1  6  0]\n"
     ]
    }
   ],
   "source": [
    "np.power(2,10)\n",
    "print(arr4)\n",
    "print(np.cumsum(arr4)) # cumulative sum - returns an array with the sum of all the values till that index\n",
    "print(np.cumprod(arr4)) # cumulative product - returns an array with the product of all the values till that index\n",
    "print(np.diff(arr4)) # difference between the consecutive values"
   ]
  },
  {
   "cell_type": "code",
   "execution_count": 17,
   "metadata": {},
   "outputs": [
    {
     "data": {
      "text/plain": [
       "array([1, 1, 2, 5, 5, 5, 8, 8, 8, 8], dtype=int32)"
      ]
     },
     "execution_count": 17,
     "metadata": {},
     "output_type": "execute_result"
    }
   ],
   "source": [
    "arr4.sort() # by default it will sort in ascending order\n",
    "arr4"
   ]
  },
  {
   "cell_type": "code",
   "execution_count": 18,
   "metadata": {},
   "outputs": [
    {
     "data": {
      "text/plain": [
       "array([1, 1, 4, 5, 5, 5, 8, 8, 8, 8], dtype=int32)"
      ]
     },
     "execution_count": 18,
     "metadata": {},
     "output_type": "execute_result"
    }
   ],
   "source": [
    "arr4[2] = 4\n",
    "arr4"
   ]
  },
  {
   "cell_type": "code",
   "execution_count": 19,
   "metadata": {},
   "outputs": [
    {
     "data": {
      "text/plain": [
       "array([4, 5, 3, 1, 0, 2])"
      ]
     },
     "execution_count": 19,
     "metadata": {},
     "output_type": "execute_result"
    }
   ],
   "source": [
    "arr4 = np.array([8, 7, 9, 5, 2, 3])\n",
    "arr4.argmin()\n",
    "arr4.argmax()\n",
    "arr4.argsort() # returns the indices of the sorted array"
   ]
  },
  {
   "cell_type": "code",
   "execution_count": 20,
   "metadata": {},
   "outputs": [
    {
     "data": {
      "text/plain": [
       "array([32, 17, 30, 31,  3, 22, 20, 22,  7, 38, 41,  9, 32, 35, 36,  9, 36,\n",
       "       28, 11, 20, 26, 34,  9, 32, 37, 22, 49, 45, 49,  8, 36, 15, 26,  7,\n",
       "       10, 13, 10, 29,  8, 46, 19, 48,  5, 23, 30,  2,  5, 49, 22, 44, 13,\n",
       "       27, 21, 39, 23,  6,  5, 39, 24, 48], dtype=int32)"
      ]
     },
     "execution_count": 20,
     "metadata": {},
     "output_type": "execute_result"
    }
   ],
   "source": [
    "arr4 = np.random.randint(1, 50, (3, 5, 4))\n",
    "arr4.shape\n",
    "arr4.ravel() # converts the 3D array to 1D array but it creates a view of the array which means if the original array is changed, the view will also be changed\n",
    "arr4.flatten() # converts the 3D array to 1D array but it creates a copy of the array which means if the original array is changed, the copy will not be changed"
   ]
  },
  {
   "cell_type": "code",
   "execution_count": 21,
   "metadata": {},
   "outputs": [],
   "source": [
    "arr4.size # returns the total number of elements in the array\n",
    "arr4.itemsize # returns the size of each element in the array\n",
    "arr4.nbytes # returns the total number of bytes occupied by the array\n",
    "arr4.reshape(60) # reshapes the array to 1D array\n",
    "arr4.reshape(10, 6) # reshapes the array to 2D array but it creates a copy of the array which means if the original array is changed, the copy will not be changed\n",
    "arr4.resize(10, 6) # reshapes the array to 2D array but it changes the original array"
   ]
  },
  {
   "cell_type": "code",
   "execution_count": 22,
   "metadata": {},
   "outputs": [
    {
     "data": {
      "text/plain": [
       "array([[ 4, 33, 40],\n",
       "       [30,  2, 41],\n",
       "       [22,  4, 23],\n",
       "       [42, 36,  6],\n",
       "       [ 8, 12,  6]], dtype=int32)"
      ]
     },
     "execution_count": 22,
     "metadata": {},
     "output_type": "execute_result"
    }
   ],
   "source": [
    "# Transpose of an array\n",
    "arr4 = np.random.randint(1, 50, (5, 3))\n",
    "arr4"
   ]
  },
  {
   "cell_type": "code",
   "execution_count": 23,
   "metadata": {},
   "outputs": [
    {
     "data": {
      "text/plain": [
       "array([[ 4, 30, 22, 42,  8],\n",
       "       [33,  2,  4, 36, 12],\n",
       "       [40, 41, 23,  6,  6]], dtype=int32)"
      ]
     },
     "execution_count": 23,
     "metadata": {},
     "output_type": "execute_result"
    }
   ],
   "source": [
    "np.transpose(arr4) # returns the transpose of the array, creates copy of the array\n",
    "arr4.T # returns the transpose of the array, changes original array"
   ]
  },
  {
   "cell_type": "code",
   "execution_count": 24,
   "metadata": {},
   "outputs": [
    {
     "name": "stdout",
     "output_type": "stream",
     "text": [
      "[10 20 30 40]\n",
      "[1 2 3 4]\n",
      "[11 22 33 44]\n"
     ]
    }
   ],
   "source": [
    "arr1 = np.array([10, 20, 30, 40])\n",
    "arr2 = np.array([1, 2, 3, 4])\n",
    "print(arr1)\n",
    "print(arr2)\n",
    "print(arr1 + arr2) # element wise addition and same for subtraction, multiplication and division"
   ]
  },
  {
   "cell_type": "code",
   "execution_count": 25,
   "metadata": {},
   "outputs": [
    {
     "data": {
      "text/plain": [
       "array([10, 20, 30, 40,  1,  2,  3,  4])"
      ]
     },
     "execution_count": 25,
     "metadata": {},
     "output_type": "execute_result"
    }
   ],
   "source": [
    "# combining arrays\n",
    "np.concatenate((arr1, arr2)) # combines the arrays along the axis 0 but it creates a copy of the array, for permanent changes use axis=1\n",
    "# np.vstack((arr1, arr2)) # vertically stacks the arrays\n",
    "# np.hstack((arr1, arr2)) # horizontally stacks the arrays"
   ]
  },
  {
   "cell_type": "code",
   "execution_count": 36,
   "metadata": {},
   "outputs": [
    {
     "name": "stdout",
     "output_type": "stream",
     "text": [
      "[[10 19 17 14]\n",
      " [19 13  8 16]\n",
      " [14 10 17 14]\n",
      " [ 8  1  3 13]\n",
      " [ 4 16 12  7]]\n",
      "\n",
      "[[11]\n",
      " [ 7]\n",
      " [ 5]\n",
      " [ 7]\n",
      " [ 1]]\n"
     ]
    }
   ],
   "source": [
    "arr1 = np.random.randint(1, 20, (5, 4))\n",
    "arr2 = np.random.randint(1, 20, (5, 1))\n",
    "print(arr1)\n",
    "print()\n",
    "print(arr2)"
   ]
  },
  {
   "cell_type": "code",
   "execution_count": 39,
   "metadata": {},
   "outputs": [
    {
     "data": {
      "text/plain": [
       "array([[10, 19, 17, 14, 11],\n",
       "       [19, 13,  8, 16,  7],\n",
       "       [14, 10, 17, 14,  5],\n",
       "       [ 8,  1,  3, 13,  7],\n",
       "       [ 4, 16, 12,  7,  1]], dtype=int32)"
      ]
     },
     "execution_count": 39,
     "metadata": {},
     "output_type": "execute_result"
    }
   ],
   "source": [
    "np.concatenate((arr1,arr2), axis=1) # axis= 1 is columnwise"
   ]
  },
  {
   "cell_type": "code",
   "execution_count": 46,
   "metadata": {},
   "outputs": [
    {
     "name": "stdout",
     "output_type": "stream",
     "text": [
      "[[ 7 10  9 19]\n",
      " [ 2 12 15 10]\n",
      " [13  1 12  7]\n",
      " [10 14 13 17]\n",
      " [ 4  2 16  2]]\n",
      "\n",
      "[[10]\n",
      " [ 3]\n",
      " [ 3]\n",
      " [15]]\n"
     ]
    }
   ],
   "source": [
    "arr1 = np.random.randint(1, 20, (5, 4))\n",
    "arr2 = np.random.randint(1, 20, (4, 1))\n",
    "print(arr1)\n",
    "print()\n",
    "print(arr2)"
   ]
  },
  {
   "cell_type": "code",
   "execution_count": 47,
   "metadata": {},
   "outputs": [
    {
     "data": {
      "text/plain": [
       "array([[ 7, 10,  9, 19],\n",
       "       [ 2, 12, 15, 10],\n",
       "       [13,  1, 12,  7],\n",
       "       [10, 14, 13, 17],\n",
       "       [ 4,  2, 16,  2],\n",
       "       [10,  3,  3, 15]], dtype=int32)"
      ]
     },
     "execution_count": 47,
     "metadata": {},
     "output_type": "execute_result"
    }
   ],
   "source": [
    "np.concatenate((arr1,arr2.T)) # by defualt axis= 0 for rowise"
   ]
  },
  {
   "cell_type": "markdown",
   "metadata": {},
   "source": [
    "Matrix Operations"
   ]
  },
  {
   "cell_type": "code",
   "execution_count": 26,
   "metadata": {},
   "outputs": [],
   "source": [
    "arr4 = np.random.randint(1, 12, 11)"
   ]
  },
  {
   "cell_type": "code",
   "execution_count": 27,
   "metadata": {},
   "outputs": [
    {
     "name": "stdout",
     "output_type": "stream",
     "text": [
      "[ 9  7  1  6  9 11 10  8  9  8  5]\n",
      "[11  9  3  8 11 13 12 10 11 10  7]\n",
      "[18 14  2 12 18 22 20 16 18 16 10]\n"
     ]
    }
   ],
   "source": [
    "print(arr4)\n",
    "print(arr4 + 2)\n",
    "print(arr4 * 2)"
   ]
  },
  {
   "cell_type": "code",
   "execution_count": 28,
   "metadata": {},
   "outputs": [
    {
     "data": {
      "text/plain": [
       "array([ 30, 192,  34, 126, 130, 176,  89,  87, 128,  14,  51,  54,  77,\n",
       "       178, 170, 165, 107,  60, 142, 176, 137, 160,  11, 114, 145,  44,\n",
       "        25, 105, 198,  70, 132,  15, 116,  32,  56, 105, 173, 179, 161,\n",
       "       132, 167, 161, 115, 162, 106, 175,  82,  19,  21,  13,  49,  55,\n",
       "       153, 111,  72, 144,  92,  48,  16,  18, 153,  70,  65,  43,  91,\n",
       "       136,  22,   4, 156,  40, 193, 127,  55, 174,  14, 157,  58,  20,\n",
       "        66, 188, 189, 111, 128, 127,  82, 109,  14, 148,   5, 192, 142,\n",
       "        88, 178, 118, 179,  40, 173, 165,  50, 156,  29,   3,  86, 150,\n",
       "        92, 190, 132, 172, 144, 158, 144,  68,  49,  80,   6, 130, 113,\n",
       "        19,  82,  81, 153,  67, 131,  25, 160,  57,  19, 166,  30,  37,\n",
       "       139, 157, 193,  36, 182, 170,   1, 169,  41, 129, 161, 104,  85,\n",
       "        87,  70,  75, 158, 163, 176,  91, 183, 157, 177,  78, 119,  95,\n",
       "        86, 160, 136,  94,  40,  52,  52,  97,   6, 154, 109, 137,  30,\n",
       "       155, 172, 145,  72,  10, 184, 118, 169,  40, 123, 138, 171,  41,\n",
       "        19, 187, 182, 185, 136,  25, 170, 138,  19,   5,   9,  32, 199,\n",
       "        86,  82,   9, 135, 128], dtype=int32)"
      ]
     },
     "execution_count": 28,
     "metadata": {},
     "output_type": "execute_result"
    }
   ],
   "source": [
    "arr1 = np.random.randint(1, 200, 200)\n",
    "arr1"
   ]
  },
  {
   "cell_type": "code",
   "execution_count": 29,
   "metadata": {},
   "outputs": [
    {
     "name": "stdout",
     "output_type": "stream",
     "text": [
      "[np.int32(30), np.int32(34), np.int32(89), np.int32(87), np.int32(14), np.int32(51), np.int32(54), np.int32(77), np.int32(60), np.int32(11), np.int32(44), np.int32(25), np.int32(70), np.int32(15), np.int32(32), np.int32(56), np.int32(82), np.int32(19), np.int32(21), np.int32(13), np.int32(49), np.int32(55), np.int32(72), np.int32(92), np.int32(48), np.int32(16), np.int32(18), np.int32(70), np.int32(65), np.int32(43), np.int32(91), np.int32(22), np.int32(4), np.int32(40), np.int32(55), np.int32(14), np.int32(58), np.int32(20), np.int32(66), np.int32(82), np.int32(14), np.int32(5), np.int32(88), np.int32(40), np.int32(50), np.int32(29), np.int32(3), np.int32(86), np.int32(92), np.int32(68), np.int32(49), np.int32(80), np.int32(6), np.int32(19), np.int32(82), np.int32(81), np.int32(67), np.int32(25), np.int32(57), np.int32(19), np.int32(30), np.int32(37), np.int32(36), np.int32(1), np.int32(41), np.int32(85), np.int32(87), np.int32(70), np.int32(75), np.int32(91), np.int32(78), np.int32(95), np.int32(86), np.int32(94), np.int32(40), np.int32(52), np.int32(52), np.int32(97), np.int32(6), np.int32(30), np.int32(72), np.int32(10), np.int32(40), np.int32(41), np.int32(19), np.int32(25), np.int32(19), np.int32(5), np.int32(9), np.int32(32), np.int32(86), np.int32(82), np.int32(9)]\n",
      "93\n"
     ]
    }
   ],
   "source": [
    "temp = []\n",
    "for item in arr1:\n",
    "    if item < 100:\n",
    "        temp.append(item)\n",
    "\n",
    "print(temp)\n",
    "print(len(temp))"
   ]
  },
  {
   "cell_type": "code",
   "execution_count": 31,
   "metadata": {},
   "outputs": [
    {
     "data": {
      "text/plain": [
       "array([30, 34, 89, 87, 14, 51, 54, 77, 60, 11, 44, 25, 70, 15, 32, 56, 82,\n",
       "       19, 21, 13, 49, 55, 72, 92, 48, 16, 18, 70, 65, 43, 91, 22,  4, 40,\n",
       "       55, 14, 58, 20, 66, 82, 14,  5, 88, 40, 50, 29,  3, 86, 92, 68, 49,\n",
       "       80,  6, 19, 82, 81, 67, 25, 57, 19, 30, 37, 36,  1, 41, 85, 87, 70,\n",
       "       75, 91, 78, 95, 86, 94, 40, 52, 52, 97,  6, 30, 72, 10, 40, 41, 19,\n",
       "       25, 19,  5,  9, 32, 86, 82,  9], dtype=int32)"
      ]
     },
     "execution_count": 31,
     "metadata": {},
     "output_type": "execute_result"
    }
   ],
   "source": [
    "arr1[arr1 < 100] # returns the values less than 100"
   ]
  },
  {
   "cell_type": "code",
   "execution_count": 32,
   "metadata": {},
   "outputs": [
    {
     "data": {
      "text/plain": [
       "array([1, 0, 0, 0, 0, 1, 1, 1, 0, 0, 1, 1, 0, 1, 0, 0, 0, 1, 1, 1])"
      ]
     },
     "execution_count": 32,
     "metadata": {},
     "output_type": "execute_result"
    }
   ],
   "source": [
    "arr = np.random.randint(1, 40, 20)\n",
    "np.where(arr < 20, 0, 1) # if the value is less than 20, replace it with 0 else replace it with 1"
   ]
  },
  {
   "cell_type": "code",
   "execution_count": 33,
   "metadata": {},
   "outputs": [
    {
     "data": {
      "text/plain": [
       "array([28, 10,  2, 18,  5, 24, 33, 26, 11,  5, 22, 23, 16, 38, 11, 11, 10,\n",
       "       25, 31, 39], dtype=int32)"
      ]
     },
     "execution_count": 33,
     "metadata": {},
     "output_type": "execute_result"
    }
   ],
   "source": [
    "arr1 = np.random.randint(1, 20, 5)\n",
    "arr2 = np.random.randint"
   ]
  }
 ],
 "metadata": {
  "kernelspec": {
   "display_name": "Python 3",
   "language": "python",
   "name": "python3"
  },
  "language_info": {
   "codemirror_mode": {
    "name": "ipython",
    "version": 3
   },
   "file_extension": ".py",
   "mimetype": "text/x-python",
   "name": "python",
   "nbconvert_exporter": "python",
   "pygments_lexer": "ipython3",
   "version": "3.12.4"
  }
 },
 "nbformat": 4,
 "nbformat_minor": 2
}
