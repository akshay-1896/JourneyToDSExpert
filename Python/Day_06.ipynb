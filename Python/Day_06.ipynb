{
 "cells": [
  {
   "cell_type": "markdown",
   "metadata": {},
   "source": [
    "## DICTIONARIES"
   ]
  },
  {
   "cell_type": "code",
   "execution_count": 32,
   "metadata": {},
   "outputs": [
    {
     "name": "stdout",
     "output_type": "stream",
     "text": [
      "dict_keys(['A', 'B', 'C', 'D'])\n",
      "dict_values([25, 50, 75, 100])\n"
     ]
    }
   ],
   "source": [
    "dt = {'A':25,'B':50,'C':75,'D':100}\n",
    "\n",
    "print(dt.keys())\n",
    "print(dt.values())"
   ]
  },
  {
   "cell_type": "code",
   "execution_count": 33,
   "metadata": {},
   "outputs": [
    {
     "name": "stdout",
     "output_type": "stream",
     "text": [
      "25\n"
     ]
    }
   ],
   "source": [
    "dt = {'A':25,'B':50,'C':75,'D':100}\n",
    "print(dt['A']) # accessing items"
   ]
  },
  {
   "cell_type": "code",
   "execution_count": 34,
   "metadata": {},
   "outputs": [
    {
     "name": "stdout",
     "output_type": "stream",
     "text": [
      "{'A': 25, 'B': 50, 'C': 75, 'D': 500, 'E': 200}\n"
     ]
    }
   ],
   "source": [
    "dt = {'A':25,'B':50,'C':75,'D':100}\n",
    "dt['D'] = 500 # to update the value of a particular key\n",
    "dt['E'] = 200 # to insert a new key\n",
    "print(dt)"
   ]
  },
  {
   "cell_type": "code",
   "execution_count": 35,
   "metadata": {},
   "outputs": [
    {
     "name": "stdout",
     "output_type": "stream",
     "text": [
      "None\n",
      "Not Found\n"
     ]
    }
   ],
   "source": [
    "dt = {'A':25,'B':50,'C':75,'D':100}\n",
    "# print(dt['Bl']) # returns the corresponding value but raises KeyError if key is not present\n",
    "print(dt.get(\"Bl\")) # returns the corresponding value but returns None if key is not present\n",
    "print(dt.get('Bl','Not Found')) # Editing the return message for absent keys"
   ]
  },
  {
   "cell_type": "code",
   "execution_count": 36,
   "metadata": {},
   "outputs": [
    {
     "name": "stdout",
     "output_type": "stream",
     "text": [
      "50\n",
      "('D', 100)\n",
      "{'A': 25, 'C': 75}\n"
     ]
    }
   ],
   "source": [
    "dt = {'A':25,'B':50,'C':75,'D':100}\n",
    "# dt2 = dt.copy()\n",
    "print(dt.pop('B')) # removes specified key-value pair on passing the corresponding key and returns the value of respective key\n",
    "print(dt.popitem()) # removes last-key-value pair and returns the same pair\n",
    "print(dt)"
   ]
  },
  {
   "cell_type": "code",
   "execution_count": 45,
   "metadata": {},
   "outputs": [
    {
     "name": "stdout",
     "output_type": "stream",
     "text": [
      "{'A': 25, 'B': 50, 'C': 75, 'D': 100, 'E': 200, 'F': 300}\n"
     ]
    }
   ],
   "source": [
    "dt1 = {'A':25,'B':50,'C':75,'D':100}\n",
    "dt2 = {'E':200,'F':300}\n",
    "dt1.update(dt2)\n",
    "print(dt1)"
   ]
  },
  {
   "cell_type": "code",
   "execution_count": 43,
   "metadata": {},
   "outputs": [
    {
     "name": "stdout",
     "output_type": "stream",
     "text": [
      "{'A': 100, 'B': 100, 'C': 100, 'D': 100, 'E': 100}\n"
     ]
    }
   ],
   "source": [
    "ls = ['A','B','C','D','E']\n",
    "dt = dict.fromkeys(ls,100) # to create dictionary with same values\n",
    "print(dt)"
   ]
  },
  {
   "cell_type": "code",
   "execution_count": null,
   "metadata": {},
   "outputs": [],
   "source": [
    "# dt.setdefault()"
   ]
  },
  {
   "cell_type": "code",
   "execution_count": 1,
   "metadata": {},
   "outputs": [
    {
     "name": "stdout",
     "output_type": "stream",
     "text": [
      "75\n"
     ]
    }
   ],
   "source": [
    "dt = {'A':25,'B':50,'C':75,'D':100}\n",
    "output = list(dt.items())\n",
    "print(output[2][1])"
   ]
  },
  {
   "cell_type": "markdown",
   "metadata": {},
   "source": [
    "## DICTIONARY PRACTICE"
   ]
  },
  {
   "cell_type": "code",
   "execution_count": 13,
   "metadata": {},
   "outputs": [
    {
     "name": "stdout",
     "output_type": "stream",
     "text": [
      "4\n"
     ]
    }
   ],
   "source": [
    "student_marks = {'name':[\"rahul kumar\",\"Rocky\",\"mohit\",\"suresh\"],\n",
    "                'marks':[25,36,45,29],\n",
    "                'subject':'science'} \n",
    "# print(type(student_marks))\n",
    "# print(student_marks)\n",
    "\n",
    "# TO ACCESS NO. OF NAMES IN THE DICTIONARY\n",
    "\n",
    "# out = list(student_marks.items())\n",
    "# print(len(out[0][1]))\n",
    "\n",
    "# print(len(student_marks['name']))"
   ]
  },
  {
   "cell_type": "code",
   "execution_count": 27,
   "metadata": {},
   "outputs": [
    {
     "name": "stdout",
     "output_type": "stream",
     "text": [
      "['rahul kumar', 'Rocky', 'mohit', 'mahesh']\n"
     ]
    }
   ],
   "source": [
    "student_marks = {'name':[\"rahul kumar\",\"Rocky\",\"mohit\",\"suresh\"],\n",
    "                'marks':[25,36,45,29],\n",
    "                'subject':'science'} \n",
    "\n",
    "# ls = student_marks['name']\n",
    "# ls[3] =\"mahesh\"\n",
    "# # print(ls)\n",
    "# student_marks['name'] = ls\n",
    "# print(student_marks['name'])\n",
    "\n",
    "# student_marks['name'][3] = 'mahesh'\n",
    "# print(student_marks['name'])"
   ]
  },
  {
   "cell_type": "code",
   "execution_count": 33,
   "metadata": {},
   "outputs": [
    {
     "name": "stdout",
     "output_type": "stream",
     "text": [
      "{'name': ['rahul kumar', 'roshni', 'mohit', 'suresh'], 'marks': [25, 49, 45, 29], 'subject': 'maths'}\n"
     ]
    }
   ],
   "source": [
    "student_marks = {'name':[\"rahul kumar\",\"Rocky\",\"mohit\",\"suresh\"],\n",
    "                'marks':[25,36,45,29],\n",
    "                'subject':'science'} \n",
    "\n",
    "student_marks['subject'] = 'maths'\n",
    "student_marks['name'].remove('Rocky')\n",
    "student_marks['marks'].remove(36)\n",
    "student_marks['name'].insert(1,'roshni')\n",
    "student_marks['marks'].insert(1, 49)\n",
    "print(student_marks)"
   ]
  },
  {
   "cell_type": "code",
   "execution_count": 38,
   "metadata": {},
   "outputs": [
    {
     "name": "stdout",
     "output_type": "stream",
     "text": [
      "5.0\n"
     ]
    }
   ],
   "source": [
    "x = 10\n",
    "y = 2\n",
    "print(x/y)"
   ]
  }
 ],
 "metadata": {
  "kernelspec": {
   "display_name": "Python 3",
   "language": "python",
   "name": "python3"
  },
  "language_info": {
   "codemirror_mode": {
    "name": "ipython",
    "version": 3
   },
   "file_extension": ".py",
   "mimetype": "text/x-python",
   "name": "python",
   "nbconvert_exporter": "python",
   "pygments_lexer": "ipython3",
   "version": "3.12.4"
  }
 },
 "nbformat": 4,
 "nbformat_minor": 2
}
