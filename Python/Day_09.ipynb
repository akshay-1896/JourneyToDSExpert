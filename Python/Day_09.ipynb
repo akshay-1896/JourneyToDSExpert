{
 "cells": [
  {
   "cell_type": "markdown",
   "metadata": {},
   "source": [
    "## Loop Practice"
   ]
  },
  {
   "cell_type": "code",
   "execution_count": null,
   "metadata": {},
   "outputs": [],
   "source": [
    "import random\n",
    "\n",
    "ls = random.sample(range(1,100), 30)\n",
    "# print(ls)\n",
    "\n",
    "ls1 = []\n",
    "\n",
    "for item in ls:\n",
    "    if item > 70 and item < 90 and item % 2 == 0:\n",
    "        ls1.append(item)\n",
    "\n",
    "# for item in ls:\n",
    "#     if item > 70 or item < 90 and item % 2 == 0:  #(True/False or True/False and True/False)\n",
    "#         ls1.append(item)\n",
    "        \n",
    "print(ls1)\n",
    "total = 0\n",
    "for item in ls1:\n",
    "    total += item\n",
    "    \n",
    "avg = total/len(ls1)\n",
    "print(avg)"
   ]
  },
  {
   "cell_type": "code",
   "execution_count": null,
   "metadata": {},
   "outputs": [],
   "source": [
    "st = 'upflairs pvt ltd jaipur rajasthan'\n",
    "dt = {}\n",
    "for char in st:\n",
    "    # keys = char\n",
    "    # values = st.count(char)\n",
    "    # dict[keys] = st.count(values)\n",
    "    dt[char] = st.count(char)\n",
    "\n",
    "dt.pop(' ')\n",
    "# dt1 = list(dt.items())\n",
    "# # # d = dt1[0]\n",
    "# # i = 0\n",
    "# ls = []\n",
    "# for i in range(len(dt1)):\n",
    "#     ls.append(dt1[i][1])\n",
    "\n",
    "# for i in range(len(dt1)):\n",
    "#     if i == ls.index(max(ls)):\n",
    "#         st1 = dt1[i]\n",
    "\n",
    "# # print(ls.index(max(ls)))\n",
    "# # print(ls)\n",
    "# # print(dt)\n",
    "# print(dt1)\n",
    "# print(st1)\n",
    "\n",
    "s = max(dt.values())"
   ]
  },
  {
   "cell_type": "code",
   "execution_count": null,
   "metadata": {},
   "outputs": [],
   "source": [
    "n = int(input(\"no: \"))\n",
    "\n",
    "for i in range(0,n):\n",
    "    for j in range(0,i+1):\n",
    "      print(\"* \",end=\"\")\n",
    "      \n",
    "    print()"
   ]
  }
 ],
 "metadata": {
  "kernelspec": {
   "display_name": "Python 3",
   "language": "python",
   "name": "python3"
  },
  "language_info": {
   "codemirror_mode": {
    "name": "ipython",
    "version": 3
   },
   "file_extension": ".py",
   "mimetype": "text/x-python",
   "name": "python",
   "nbconvert_exporter": "python",
   "pygments_lexer": "ipython3",
   "version": "3.12.4"
  }
 },
 "nbformat": 4,
 "nbformat_minor": 2
}
