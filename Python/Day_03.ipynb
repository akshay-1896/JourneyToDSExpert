{
 "cells": [
  {
   "cell_type": "markdown",
   "metadata": {},
   "source": [
    "## Checking Methods"
   ]
  },
  {
   "cell_type": "code",
   "execution_count": null,
   "metadata": {},
   "outputs": [],
   "source": [
    "str = \"98\"\n",
    "print(str.isalpha()) # checks for all alphabets only"
   ]
  },
  {
   "cell_type": "code",
   "execution_count": null,
   "metadata": {},
   "outputs": [],
   "source": [
    "str = \"98\"\n",
    "print(str.isalnum()) # checks for alphabets and numbers only"
   ]
  },
  {
   "cell_type": "code",
   "execution_count": null,
   "metadata": {},
   "outputs": [],
   "source": [
    "str = \"98\"\n",
    "print(str.isspace()) # checks for all spaces only"
   ]
  },
  {
   "cell_type": "markdown",
   "metadata": {},
   "source": [
    "isdigit()  vs  isdecimal()  vs  isnumeric()"
   ]
  },
  {
   "cell_type": "code",
   "execution_count": null,
   "metadata": {},
   "outputs": [],
   "source": [
    "str = \"98\"\n",
    "print(str.isdigit()) # checks for digits including superscript numbers and Roman numerals, which aren’t strictly decimal"
   ]
  },
  {
   "cell_type": "code",
   "execution_count": null,
   "metadata": {},
   "outputs": [],
   "source": [
    "str = \"5\" # decimal character\n",
    "str = \"11\" # non-decimal character\n",
    "print(str.isdecimal()) # checks for decimal characters only "
   ]
  },
  {
   "cell_type": "code",
   "execution_count": null,
   "metadata": {},
   "outputs": [],
   "source": [
    "str = \"78\"\n",
    "print(str.isnumeric()) # checks for numerical value and also accepting other numeric symbols like fractions, Roman numerals, and Unicode numerals."
   ]
  },
  {
   "cell_type": "code",
   "execution_count": null,
   "metadata": {},
   "outputs": [],
   "source": [
    "str = \"akshay\"\n",
    "print(str.islower()) # checks whether all characters are in lower case or not"
   ]
  },
  {
   "cell_type": "code",
   "execution_count": null,
   "metadata": {},
   "outputs": [],
   "source": [
    "str = \"DEEPAK\"\n",
    "print(str.isupper()) # checks whether all characters are in upper case or not"
   ]
  },
  {
   "cell_type": "markdown",
   "metadata": {},
   "source": [
    "## String Methods"
   ]
  },
  {
   "cell_type": "code",
   "execution_count": null,
   "metadata": {},
   "outputs": [],
   "source": [
    "str = \"\\t\\takshay\"\n",
    "print(str.expandtabs(tabsize=2)) #returns a copy of the string with all tab characters (\\t) replaced by one or more spaces"
   ]
  },
  {
   "cell_type": "code",
   "execution_count": null,
   "metadata": {},
   "outputs": [],
   "source": [
    "str = \"Python Programming\"\n",
    "print(str.removeprefix(\"Python \")) # to remove a specific prefix from a string"
   ]
  },
  {
   "cell_type": "code",
   "execution_count": null,
   "metadata": {},
   "outputs": [],
   "source": [
    "str = \"Python Programming\"\n",
    "print(str.removesuffix(\" Programming\")) # to remove a specific suffix from a string"
   ]
  },
  {
   "cell_type": "code",
   "execution_count": null,
   "metadata": {},
   "outputs": [],
   "source": [
    "str = \"Python is fun, and Python is powerful\"\n",
    "print(str.rfind('u')) # to find the last occurrence of a substring within a string, and returns -1 if it does not exist"
   ]
  },
  {
   "cell_type": "code",
   "execution_count": null,
   "metadata": {},
   "outputs": [],
   "source": [
    "str = \"Python is fun, and Python is powerful\"\n",
    "print(str.rindex('r')) # to find the last occurrence of a substring within a string, and raises ValueError if it does not exist"
   ]
  },
  {
   "cell_type": "code",
   "execution_count": null,
   "metadata": {},
   "outputs": [],
   "source": [
    "str = \"98\"\n",
    "print(str.replace('8','0')) # to replace the entered string from a given respective string"
   ]
  },
  {
   "cell_type": "code",
   "execution_count": null,
   "metadata": {},
   "outputs": [],
   "source": [
    "str = \"Python is fun | Python is powerful, Python is dynamic | hii | hello | \"\n",
    "print(str)\n",
    "print(str.split(sep='| ')) # to split a string into a list of substrings based on a specified delimiter (separator)\n",
    "print(str.split(' | ', maxsplit=1)) # maxsplit is used to specify the maximum number of splits to perform"
   ]
  },
  {
   "cell_type": "code",
   "execution_count": null,
   "metadata": {},
   "outputs": [],
   "source": [
    "str = \"Python is fun, Python is powerful, Python is dynamic\"\n",
    "print(str)\n",
    "print(str.rsplit(sep=', ')) # to split a string into a list of substrings, starting from the right side (the end) of the string\n",
    "print(str.rsplit(', ', maxsplit=1)) # maxsplit is used to specify the maximum number of splits to perform from end"
   ]
  },
  {
   "cell_type": "code",
   "execution_count": null,
   "metadata": {},
   "outputs": [],
   "source": [
    "str = \"Line1 \\nLine2 \\r\\nLine3 \\n\"\n",
    "print(str)\n",
    "print(str.splitlines(False)) # to split a string into a list of lines, breaking at line boundaries. \n",
    "print(str.splitlines(True)) # if keepends is True, the newline characters (\\n, \\r\\n, or \\r) are included at the end of each line."
   ]
  },
  {
   "cell_type": "markdown",
   "metadata": {},
   "source": [
    "## str.translate()"
   ]
  },
  {
   "cell_type": "markdown",
   "metadata": {},
   "source": [
    "The translate() function in Python is a string method used to replace characters in a string based on a translation table. The table defines the mapping of characters you want to replace with other characters, or it can remove characters altogether\n",
    "\n",
    "--> string: The string that you want to apply the translation to.\n",
    "--> table: A translation table specifying the mapping of characters to be replaced."
   ]
  },
  {
   "cell_type": "code",
   "execution_count": null,
   "metadata": {},
   "outputs": [],
   "source": [
    "str1 = \"98\"\n",
    "table = str.maketrans('98','12')\n",
    "result = str1.translate(table)\n",
    "print(result)"
   ]
  },
  {
   "cell_type": "markdown",
   "metadata": {},
   "source": [
    "To remove certain characters"
   ]
  },
  {
   "cell_type": "code",
   "execution_count": null,
   "metadata": {},
   "outputs": [],
   "source": [
    "st = \"hello world\"\n",
    "rm_table = str.maketrans('aeiou','12345','wh')\n",
    "rm_string = st.translate(rm_table)\n",
    "print(rm_string)"
   ]
  },
  {
   "cell_type": "markdown",
   "metadata": {},
   "source": [
    "Use of None for deletion"
   ]
  },
  {
   "cell_type": "code",
   "execution_count": null,
   "metadata": {},
   "outputs": [],
   "source": [
    "test_string = \"hello world\"\n",
    "none_insertion = str.maketrans('','','eo')\n",
    "result_string = test_string.translate(none_insertion)\n",
    "print(result_string)"
   ]
  },
  {
   "cell_type": "markdown",
   "metadata": {},
   "source": [
    "Use of dictionary"
   ]
  },
  {
   "cell_type": "code",
   "execution_count": null,
   "metadata": {},
   "outputs": [],
   "source": [
    "# Create translation table to convert 'A' to 'a', 'B' to 'b', etc.\n",
    "\n",
    "translation_text = \"ABC DEF GHI\"\n",
    "translation_table = str.maketrans({'D': 'd', 'E': 'e', 'F': 'f', ' ': '_'})\n",
    "output_string = translation_text.translate(translation_table)\n",
    "print(output_string)\n"
   ]
  },
  {
   "cell_type": "markdown",
   "metadata": {},
   "source": [
    "<h4>Difference between replace() and translate()</h4>\n",
    "\n",
    "--> While replace() replaces substrings in a string, translate() works character by character and is more efficient when you need to perform multiple replacements.\n",
    "\n",
    "--> replace() works only with exact substrings, whereas translate() is optimized for character-level translations and deletions."
   ]
  }
 ],
 "metadata": {
  "kernelspec": {
   "display_name": "Python 3",
   "language": "python",
   "name": "python3"
  },
  "language_info": {
   "codemirror_mode": {
    "name": "ipython",
    "version": 3
   },
   "file_extension": ".py",
   "mimetype": "text/x-python",
   "name": "python",
   "nbconvert_exporter": "python",
   "pygments_lexer": "ipython3",
   "version": "3.12.4"
  }
 },
 "nbformat": 4,
 "nbformat_minor": 2
}
