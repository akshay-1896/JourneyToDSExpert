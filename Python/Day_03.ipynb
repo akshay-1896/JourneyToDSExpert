{
 "cells": [
  {
   "cell_type": "markdown",
   "metadata": {},
   "source": [
    "## Checking Methods"
   ]
  },
  {
   "cell_type": "code",
   "execution_count": null,
   "metadata": {},
   "outputs": [],
   "source": [
    "str = \"98\"\n",
    "print(str.isalpha()) # checks for all alphabets only"
   ]
  },
  {
   "cell_type": "code",
   "execution_count": null,
   "metadata": {},
   "outputs": [],
   "source": [
    "str = \"98\"\n",
    "print(str.isalnum()) # checks for alphabets and numbers only"
   ]
  },
  {
   "cell_type": "code",
   "execution_count": null,
   "metadata": {},
   "outputs": [],
   "source": [
    "str = \"98\"\n",
    "print(str.isdigit()) # checks for digits only "
   ]
  },
  {
   "cell_type": "code",
   "execution_count": null,
   "metadata": {},
   "outputs": [],
   "source": [
    "str = \"98\"\n",
    "print(str.isspace()) # checks for all spaces only"
   ]
  },
  {
   "cell_type": "code",
   "execution_count": null,
   "metadata": {},
   "outputs": [],
   "source": [
    "str = \"98\"\n",
    "print(str.isdecimal()) # checks for decimal characters only "
   ]
  },
  {
   "cell_type": "code",
   "execution_count": null,
   "metadata": {},
   "outputs": [],
   "source": [
    "str = \"98\"\n",
    "print(str.isnumeric()) # checks for numerical value only"
   ]
  },
  {
   "cell_type": "code",
   "execution_count": null,
   "metadata": {},
   "outputs": [],
   "source": [
    "str = \"akshay\"\n",
    "print(str.islower()) # checks whether all characters are in lower case or not"
   ]
  },
  {
   "cell_type": "code",
   "execution_count": null,
   "metadata": {},
   "outputs": [],
   "source": [
    "str = \"DEEPAK\"\n",
    "print(str.isupper()) # checks whether all characters are in upper case or not"
   ]
  },
  {
   "cell_type": "markdown",
   "metadata": {},
   "source": [
    "## String Methods"
   ]
  },
  {
   "cell_type": "code",
   "execution_count": null,
   "metadata": {},
   "outputs": [],
   "source": [
    "str = \"\\t\\tferal\"\n",
    "print(str.expandtabs(tabsize=2)) #returns a copy of the string with all tab characters (\\t) replaced by one or more spaces"
   ]
  },
  {
   "cell_type": "code",
   "execution_count": null,
   "metadata": {},
   "outputs": [],
   "source": [
    "str = \"Python Programming\"\n",
    "print(str.removeprefix(\"Python \")) # to remove a specific prefix from a string"
   ]
  },
  {
   "cell_type": "code",
   "execution_count": null,
   "metadata": {},
   "outputs": [],
   "source": [
    "str = \"Python Programming\"\n",
    "print(str.removesuffix(\" Programming\")) # to remove a specific suffix from a string"
   ]
  },
  {
   "cell_type": "code",
   "execution_count": null,
   "metadata": {},
   "outputs": [],
   "source": [
    "str = \"Python is fun, and Python is powerful\"\n",
    "print(str.rfind('u')) # to find the last occurrence of a substring within a string, and returns -1 if it does not exist"
   ]
  },
  {
   "cell_type": "code",
   "execution_count": null,
   "metadata": {},
   "outputs": [],
   "source": [
    "str = \"Python is fun, and Python is powerful\"\n",
    "print(str.rindex('r')) # to find the last occurrence of a substring within a string, and raises ValueError if it does not exist"
   ]
  },
  {
   "cell_type": "code",
   "execution_count": null,
   "metadata": {},
   "outputs": [],
   "source": [
    "str = \"98\"\n",
    "print(str.replace('8','0')) # to replace the entered string from a given respective string"
   ]
  },
  {
   "cell_type": "code",
   "execution_count": null,
   "metadata": {},
   "outputs": [],
   "source": [
    "str = \"Python is fun, Python is powerful, Python is dynamic\"\n",
    "print(str)\n",
    "print(str.split(sep=', ')) # to split a string into a list of substrings based on a specified delimiter (separator)\n",
    "print(str.split(', ', maxsplit=1)) # maxsplit is used to specify the maximum number of splits to perform"
   ]
  },
  {
   "cell_type": "code",
   "execution_count": null,
   "metadata": {},
   "outputs": [],
   "source": [
    "str = \"Python is fun, Python is powerful, Python is dynamic\"\n",
    "print(str)\n",
    "print(str.rsplit(sep=', ')) # to split a string into a list of substrings, starting from the right side (the end) of the string\n",
    "print(str.rsplit(', ', maxsplit=1)) # maxsplit is used to specify the maximum number of splits to perform from end"
   ]
  },
  {
   "cell_type": "code",
   "execution_count": null,
   "metadata": {},
   "outputs": [],
   "source": [
    "str = \"Line1 \\nLine2 \\r\\nLine3 \\n\"\n",
    "print(str)\n",
    "print(str.splitlines(False)) # to split a string into a list of lines, breaking at line boundaries. \n",
    "print(str.splitlines(True)) # if keepends is True, the newline characters (\\n, \\r\\n, or \\r) are included at the end of each line."
   ]
  },
  {
   "cell_type": "code",
   "execution_count": null,
   "metadata": {},
   "outputs": [],
   "source": [
    "str = \"98\"\n",
    "print(str.translate())"
   ]
  },
  {
   "cell_type": "code",
   "execution_count": null,
   "metadata": {},
   "outputs": [],
   "source": [
    "str = \"98\"\n"
   ]
  },
  {
   "cell_type": "code",
   "execution_count": null,
   "metadata": {},
   "outputs": [],
   "source": [
    "str = \"98\"\n"
   ]
  },
  {
   "cell_type": "code",
   "execution_count": null,
   "metadata": {},
   "outputs": [],
   "source": [
    "str = \"98\"\n"
   ]
  },
  {
   "cell_type": "code",
   "execution_count": null,
   "metadata": {},
   "outputs": [],
   "source": [
    "str = \"98\"\n"
   ]
  }
 ],
 "metadata": {
  "kernelspec": {
   "display_name": "Python 3",
   "language": "python",
   "name": "python3"
  },
  "language_info": {
   "codemirror_mode": {
    "name": "ipython",
    "version": 3
   },
   "file_extension": ".py",
   "mimetype": "text/x-python",
   "name": "python",
   "nbconvert_exporter": "python",
   "pygments_lexer": "ipython3",
   "version": "3.12.4"
  }
 },
 "nbformat": 4,
 "nbformat_minor": 2
}
