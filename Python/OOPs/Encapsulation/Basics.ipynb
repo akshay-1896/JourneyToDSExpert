{
 "cells": [
  {
   "cell_type": "markdown",
   "metadata": {},
   "source": [
    "<h2>Variables</h2>"
   ]
  },
  {
   "cell_type": "code",
   "execution_count": null,
   "metadata": {},
   "outputs": [],
   "source": [
    "class Student:\n",
    "    def __init__(self):\n",
    "        # public variables --> accessible from within the class, outside of the class and subclass\n",
    "        self.student_name = \"Akshay\"\n",
    "        self.student_city = \"Jaipur\"\n",
    "        # print(self.student_name)\n",
    "        \n",
    "        # protected variables\n",
    "        self._mobile_no = 47839492017\n",
    "        self._student_id = 101\n",
    "        # print(self._mobile_no)\n",
    "        # print(self._student_id)\n",
    "        \n",
    "        # private variables --> accessible from within the class\n",
    "        self.__email_id = \"akshay@gmail.com\"\n",
    "        self.__password = \"ak2003\"\n",
    "        # print(self.__password)\n",
    "\n",
    "class Temp(Student):\n",
    "    def __init__(self):\n",
    "        self.temp_info = \"testing\"\n",
    "        super().__init__()\n",
    "        print(self.__password)\n",
    "        \n",
    "# obj = Student()\n",
    "# obj.__password\n",
    "# ob = Temp()\n",
    "# ob.__password\n",
    "# ob._mobile_no"
   ]
  },
  {
   "cell_type": "markdown",
   "metadata": {},
   "source": [
    "<h2>Methods</h2>"
   ]
  },
  {
   "cell_type": "code",
   "execution_count": null,
   "metadata": {},
   "outputs": [],
   "source": [
    "class Student:\n",
    "    # public method\n",
    "    def display(self):\n",
    "        pass\n",
    "    # protected method\n",
    "    def _display(self):\n",
    "        pass\n",
    "    \n",
    "    # private method\n",
    "    def __display(self):\n",
    "        pass"
   ]
  },
  {
   "cell_type": "markdown",
   "metadata": {},
   "source": [
    "<h3>Name Mangling</h3>"
   ]
  },
  {
   "cell_type": "code",
   "execution_count": 30,
   "metadata": {},
   "outputs": [],
   "source": [
    "class Student:\n",
    "    def __init__(self):\n",
    "        # public variables --> accessible from within the class, outside of the class and subclass\n",
    "        self.student_name = \"Akshay\"\n",
    "        self.student_city = \"Jaipur\"\n",
    "        # print(self.student_name)\n",
    "        \n",
    "        # protected variables\n",
    "        self._mobile_no = 47839492017\n",
    "        self._student_id = 101\n",
    "        # print(self._mobile_no)\n",
    "        # print(self._student_id)\n",
    "        \n",
    "        # private variables --> accessible from within the class\n",
    "        self.__email_id = \"akshay@gmail.com\"\n",
    "        self.__password = \"ak2003\"\n",
    "        # print(self.__password)"
   ]
  },
  {
   "cell_type": "code",
   "execution_count": null,
   "metadata": {},
   "outputs": [
    {
     "name": "stdout",
     "output_type": "stream",
     "text": [
      "6\n"
     ]
    },
    {
     "data": {
      "text/plain": [
       "'akshay@gmail.com'"
      ]
     },
     "execution_count": 37,
     "metadata": {},
     "output_type": "execute_result"
    }
   ],
   "source": [
    "st = Student()\n",
    "print(len(st.__dict__)) # magic keyword\n",
    "st._Student__email_id"
   ]
  }
 ],
 "metadata": {
  "kernelspec": {
   "display_name": "Python 3",
   "language": "python",
   "name": "python3"
  },
  "language_info": {
   "codemirror_mode": {
    "name": "ipython",
    "version": 3
   },
   "file_extension": ".py",
   "mimetype": "text/x-python",
   "name": "python",
   "nbconvert_exporter": "python",
   "pygments_lexer": "ipython3",
   "version": "3.12.4"
  }
 },
 "nbformat": 4,
 "nbformat_minor": 2
}
