{
 "cells": [
  {
   "cell_type": "markdown",
   "metadata": {},
   "source": [
    "### <i> __Instance Variable__ </i>\n",
    "An instance variable is a variable that is defined inside a class and <i>belongs to a specific instance (object) of that class</i>. Each object created from the class has its own separate copy of the instance variables, and <i>these variables store data that is unique to that particular object</i>."
   ]
  },
  {
   "cell_type": "code",
   "execution_count": 2,
   "metadata": {},
   "outputs": [],
   "source": [
    "# View the working of the code visually at https://pythontutor.com/visualize.html#mode=edit\n",
    "\n",
    "class Person:\n",
    "\n",
    "  def __init__(self,name_input,country_input):\n",
    "    self.name = name_input\n",
    "    self.country = country_input\n",
    "\n",
    "p1 = Person('nitish','india')\n",
    "p2 = Person('steve','australia')"
   ]
  },
  {
   "cell_type": "code",
   "execution_count": 3,
   "metadata": {},
   "outputs": [
    {
     "name": "stdout",
     "output_type": "stream",
     "text": [
      "nitish\n",
      "steve\n"
     ]
    }
   ],
   "source": [
    "# same variable (name) but different object and different values\n",
    "print(p1.name) \n",
    "print(p2.name)"
   ]
  },
  {
   "cell_type": "markdown",
   "metadata": {},
   "source": [
    "# <i> __Encapsulation__\n",
    "\n",
    "It is used in OOP to:\n",
    "\n",
    "- Protect data from unauthorized access --> <i> __Name Mangling__ </i>\n",
    "- Control how data is modified --> <i> __Getter & Setter Methods__ </i>"
   ]
  },
  {
   "cell_type": "code",
   "execution_count": null,
   "metadata": {},
   "outputs": [],
   "source": [
    "class Atm:\n",
    "    \n",
    "    # Constructor --> special function\n",
    "    def __init__(self):\n",
    "        print(id(self))\n",
    "        self.pin = ''\n",
    "        self.__balance = 0 # private variable\n",
    "        # print(\"Constructor executed\")\n",
    "        # self.menu()\n",
    "        \n",
    "    def menu(self):\n",
    "        user_input = input(\"\"\"\n",
    "              Hi, how can I help you?\n",
    "              1. Press 1 to create pin\n",
    "              2. Press 2 to change pin\n",
    "              3. Press 3 to check balance\n",
    "              4. Press 4 to deposit\n",
    "              5 Press 5 to withdraw\n",
    "              6. Press 6 to exit\n",
    "              \"\"\")\n",
    "        \n",
    "        if user_input == '1':\n",
    "            self.create_pin()\n",
    "        elif user_input == '2':\n",
    "            self.change_pin()\n",
    "        elif user_input == '3':\n",
    "            self.check_balance()\n",
    "        elif user_input == '4':\n",
    "            self.deposit()\n",
    "        elif user_input == '5':\n",
    "            self.withdraw()\n",
    "        elif user_input == '6':\n",
    "            self.exit()\n",
    "        else:\n",
    "            print(\"Invalid input\")\n",
    "            \n",
    "    def create_pin(self):\n",
    "        self.pin = input(\"Enter your pin: \")\n",
    "        print(\"Pin created successfully\")\n",
    "        self.__balance = int(input(\"Enter your balance: \"))\n",
    "        self.menu()\n",
    "            \n",
    "    def change_pin(self):\n",
    "        old_pin = input(\"Enter your old pin: \")\n",
    "        if old_pin == self.pin:\n",
    "            new_pin = input(\"Enter your new pin:\")\n",
    "            self.pin = new_pin\n",
    "            print(\"Pin changed successfully\")\n",
    "            self.menu()\n",
    "        else:\n",
    "            print(\"Invalid pin\")\n",
    "            self.menu()\n",
    "            \n",
    "    def check_balance(self):\n",
    "        user_pin = input(\"Enter your pin:\")\n",
    "        if user_pin == self.pin:\n",
    "            print(f\"Your balance is {self.__balance}\")\n",
    "            self.menu()\n",
    "        else:\n",
    "            print(\"Vinamrata ek saath nikal yaha se!!\")\n",
    "            self.menu()\n",
    "            \n",
    "    def deposit(self):\n",
    "        user_pin = input(\"Enter your pin: \")\n",
    "        if user_pin == self.pin:\n",
    "            amount = int(input(\"Enter the amount you want to deposit: \"))\n",
    "            self.__balance += amount\n",
    "            print(\"Amount deposited successfully\")\n",
    "            self.menu()\n",
    "        else:\n",
    "            print(\"Vinamrata ek saath nikal yaha se!!\")\n",
    "            self.menu()\n",
    "\n",
    "    def withdraw(self):\n",
    "        user_pin = input(\"Enter your pin: \")\n",
    "        if user_pin == self.pin:\n",
    "            amount = int(input(\"Enter the amount you want to withdraw: \"))\n",
    "            if amount <= self.__balance:\n",
    "                self.__balance -= amount\n",
    "                print(\"Amount withdrawn successfully\")\n",
    "                print(\"Your remaining balance is\", self.__balance)\n",
    "                self.menu()\n",
    "            else:\n",
    "                print(\"Insufficient balance\")\n",
    "                self.menu()\n",
    "        else:\n",
    "            print(\"Saale chor!!\")\n",
    "            self.menu()\n",
    "            \n",
    "    def exit(self):\n",
    "        print(\"Thank you for using our services!!\")\n"
   ]
  },
  {
   "cell_type": "code",
   "execution_count": 9,
   "metadata": {},
   "outputs": [
    {
     "name": "stdout",
     "output_type": "stream",
     "text": [
      "2128492528224\n"
     ]
    }
   ],
   "source": [
    "obj = Atm()"
   ]
  },
  {
   "cell_type": "markdown",
   "metadata": {},
   "source": [
    "## <i> __Private Variable:__ \n",
    "### Triggers name mangling, making the attribute harder to access directly"
   ]
  },
  {
   "cell_type": "markdown",
   "metadata": {},
   "source": [
    "Situation when the 'balance' is a public variable"
   ]
  },
  {
   "cell_type": "code",
   "execution_count": 6,
   "metadata": {},
   "outputs": [
    {
     "name": "stdout",
     "output_type": "stream",
     "text": [
      "Pin created successfully\n",
      "Thank you for using our services!!\n"
     ]
    }
   ],
   "source": [
    "obj.create_pin()\n",
    "obj.balance = 'hehehe' # This will change the value of balance when it is a public variable"
   ]
  },
  {
   "cell_type": "code",
   "execution_count": 7,
   "metadata": {},
   "outputs": [
    {
     "ename": "TypeError",
     "evalue": "'<=' not supported between instances of 'int' and 'str'",
     "output_type": "error",
     "traceback": [
      "\u001b[1;31m---------------------------------------------------------------------------\u001b[0m",
      "\u001b[1;31mTypeError\u001b[0m                                 Traceback (most recent call last)",
      "Cell \u001b[1;32mIn[7], line 1\u001b[0m\n\u001b[1;32m----> 1\u001b[0m \u001b[43mobj\u001b[49m\u001b[38;5;241;43m.\u001b[39;49m\u001b[43mwithdraw\u001b[49m\u001b[43m(\u001b[49m\u001b[43m)\u001b[49m\n",
      "Cell \u001b[1;32mIn[4], line 78\u001b[0m, in \u001b[0;36mAtm.withdraw\u001b[1;34m(self)\u001b[0m\n\u001b[0;32m     76\u001b[0m \u001b[38;5;28;01mif\u001b[39;00m user_pin \u001b[38;5;241m==\u001b[39m \u001b[38;5;28mself\u001b[39m\u001b[38;5;241m.\u001b[39mpin:\n\u001b[0;32m     77\u001b[0m     amount \u001b[38;5;241m=\u001b[39m \u001b[38;5;28mint\u001b[39m(\u001b[38;5;28minput\u001b[39m(\u001b[38;5;124m\"\u001b[39m\u001b[38;5;124mEnter the amount you want to withdraw: \u001b[39m\u001b[38;5;124m\"\u001b[39m))\n\u001b[1;32m---> 78\u001b[0m     \u001b[38;5;28;01mif\u001b[39;00m \u001b[43mamount\u001b[49m\u001b[43m \u001b[49m\u001b[38;5;241;43m<\u001b[39;49m\u001b[38;5;241;43m=\u001b[39;49m\u001b[43m \u001b[49m\u001b[38;5;28;43mself\u001b[39;49m\u001b[38;5;241;43m.\u001b[39;49m\u001b[43mbalance\u001b[49m:\n\u001b[0;32m     79\u001b[0m         \u001b[38;5;28mself\u001b[39m\u001b[38;5;241m.\u001b[39mbalance \u001b[38;5;241m-\u001b[39m\u001b[38;5;241m=\u001b[39m amount\n\u001b[0;32m     80\u001b[0m         \u001b[38;5;28mprint\u001b[39m(\u001b[38;5;124m\"\u001b[39m\u001b[38;5;124mAmount withdrawn successfully\u001b[39m\u001b[38;5;124m\"\u001b[39m)\n",
      "\u001b[1;31mTypeError\u001b[0m: '<=' not supported between instances of 'int' and 'str'"
     ]
    }
   ],
   "source": [
    "obj.withdraw() # "
   ]
  },
  {
   "cell_type": "markdown",
   "metadata": {},
   "source": [
    "Situation when the 'balance' is a private variable"
   ]
  },
  {
   "cell_type": "code",
   "execution_count": null,
   "metadata": {},
   "outputs": [
    {
     "name": "stdout",
     "output_type": "stream",
     "text": [
      "Pin created successfully\n",
      "Thank you for using our services!!\n"
     ]
    }
   ],
   "source": [
    "# What is the change?\n",
    "# It just does not show the suggestion of the private variable when we try to access it\n",
    "\n",
    "obj.create_pin()\n",
    "obj.__balance = 'hehehe' # This will not change the value of balance but rather it will create a new attribute with the name __balance\n",
    "\n",
    "# And private variables are stored with a different name in the memory\n",
    "# Variable name in program --> obj.__balance\n",
    "# Variable name in memory --> obj._Atm__balance\n",
    "# This is called name mangling"
   ]
  },
  {
   "cell_type": "code",
   "execution_count": 17,
   "metadata": {},
   "outputs": [
    {
     "name": "stdout",
     "output_type": "stream",
     "text": [
      "Amount withdrawn successfully\n",
      "Your remaining balance is 900\n",
      "Thank you for using our services!!\n"
     ]
    }
   ],
   "source": [
    "obj.withdraw() "
   ]
  },
  {
   "cell_type": "code",
   "execution_count": 18,
   "metadata": {},
   "outputs": [
    {
     "data": {
      "text/plain": [
       "'hehehe'"
      ]
     },
     "execution_count": 18,
     "metadata": {},
     "output_type": "execute_result"
    }
   ],
   "source": [
    "obj.__balance # Output: 'hehehe'"
   ]
  },
  {
   "cell_type": "markdown",
   "metadata": {},
   "source": [
    "__Note: Generally, whenever any application is made, then all attributes of the class are made private__"
   ]
  },
  {
   "cell_type": "markdown",
   "metadata": {},
   "source": [
    "## <i> __Getter & Setter Methods:__ \n",
    "### Used to control access to private attributes"
   ]
  },
  {
   "cell_type": "code",
   "execution_count": 38,
   "metadata": {},
   "outputs": [],
   "source": [
    "class Atm:\n",
    "    \n",
    "    # Constructor --> special function\n",
    "    def __init__(self):\n",
    "        print(id(self))\n",
    "        self.pin = ''\n",
    "        self.__balance = 0 # private variable\n",
    "        # print(\"Constructor executed\")\n",
    "        # self.menu()\n",
    "        \n",
    "    def get_balance(self):\n",
    "        return self.__balance\n",
    "\n",
    "    def set_balance(self, new_amount):\n",
    "        if type(new_amount) == int:\n",
    "            self.__balance = new_amount\n",
    "            return self.__balance\n",
    "        else:\n",
    "            return print(\"Amount should be in integer!!\")\n",
    "        \n",
    "    def menu(self):\n",
    "        user_input = input(\"\"\"\n",
    "              Hi, how can I help you?\n",
    "              1. Press 1 to create pin\n",
    "              2. Press 2 to change pin\n",
    "              3. Press 3 to check balance\n",
    "              4. Press 4 to deposit\n",
    "              5 Press 5 to withdraw\n",
    "              6. Press 6 to exit\n",
    "              \"\"\")\n",
    "        \n",
    "        if user_input == '1':\n",
    "            self.create_pin()\n",
    "        elif user_input == '2':\n",
    "            self.change_pin()\n",
    "        elif user_input == '3':\n",
    "            self.check_balance()\n",
    "        elif user_input == '4':\n",
    "            self.deposit()\n",
    "        elif user_input == '5':\n",
    "            self.withdraw()\n",
    "        elif user_input == '6':\n",
    "            self.exit()\n",
    "        else:\n",
    "            print(\"Invalid input\")\n",
    "            \n",
    "    def create_pin(self):\n",
    "        self.pin = input(\"Enter your pin: \")\n",
    "        print(\"Pin created successfully\")\n",
    "        self.__balance = int(input(\"Enter your balance: \"))\n",
    "        self.menu()\n",
    "            \n",
    "    def change_pin(self):\n",
    "        old_pin = input(\"Enter your old pin: \")\n",
    "        if old_pin == self.pin:\n",
    "            new_pin = input(\"Enter your new pin:\")\n",
    "            self.pin = new_pin\n",
    "            print(\"Pin changed successfully\")\n",
    "            self.menu()\n",
    "        else:\n",
    "            print(\"Invalid pin\")\n",
    "            self.menu()\n",
    "            \n",
    "    def check_balance(self):\n",
    "        user_pin = input(\"Enter your pin:\")\n",
    "        if user_pin == self.pin:\n",
    "            print(f\"Your balance is {self.__balance}\")\n",
    "            self.menu()\n",
    "        else:\n",
    "            print(\"Vinamrata ek saath nikal yaha se!!\")\n",
    "            self.menu()\n",
    "            \n",
    "    def deposit(self):\n",
    "        user_pin = input(\"Enter your pin: \")\n",
    "        if user_pin == self.pin:\n",
    "            amount = int(input(\"Enter the amount you want to deposit: \"))\n",
    "            self.__balance += amount\n",
    "            print(\"Amount deposited successfully\")\n",
    "            self.menu()\n",
    "        else:\n",
    "            print(\"Vinamrata ek saath nikal yaha se!!\")\n",
    "            self.menu()\n",
    "\n",
    "    def withdraw(self):\n",
    "        user_pin = input(\"Enter your pin: \")\n",
    "        if user_pin == self.pin:\n",
    "            amount = int(input(\"Enter the amount you want to withdraw: \"))\n",
    "            if amount <= self.__balance:\n",
    "                self.__balance -= amount\n",
    "                print(\"Amount withdrawn successfully\")\n",
    "                print(\"Your remaining balance is\", self.__balance)\n",
    "                self.menu()\n",
    "            else:\n",
    "                print(\"Insufficient balance\")\n",
    "                self.menu()\n",
    "        else:\n",
    "            print(\"Saale chor!!\")\n",
    "            self.menu()\n",
    "            \n",
    "    def exit(self):\n",
    "        print(\"Thank you for using our services!!\")\n"
   ]
  },
  {
   "cell_type": "code",
   "execution_count": 41,
   "metadata": {},
   "outputs": [
    {
     "name": "stdout",
     "output_type": "stream",
     "text": [
      "2128492278560\n"
     ]
    }
   ],
   "source": [
    "obj = Atm()"
   ]
  },
  {
   "cell_type": "code",
   "execution_count": 39,
   "metadata": {},
   "outputs": [
    {
     "data": {
      "text/plain": [
       "0"
      ]
     },
     "execution_count": 39,
     "metadata": {},
     "output_type": "execute_result"
    }
   ],
   "source": [
    "obj.get_balance()"
   ]
  },
  {
   "cell_type": "code",
   "execution_count": 43,
   "metadata": {},
   "outputs": [
    {
     "data": {
      "text/plain": [
       "500"
      ]
     },
     "execution_count": 43,
     "metadata": {},
     "output_type": "execute_result"
    }
   ],
   "source": [
    "obj.set_balance(500)"
   ]
  },
  {
   "cell_type": "code",
   "execution_count": 30,
   "metadata": {},
   "outputs": [
    {
     "name": "stdout",
     "output_type": "stream",
     "text": [
      "Saale chor!!\n",
      "Invalid input\n"
     ]
    }
   ],
   "source": [
    "obj.withdraw()"
   ]
  },
  {
   "cell_type": "markdown",
   "metadata": {},
   "source": [
    "## <i> __Collection of Objects__"
   ]
  },
  {
   "cell_type": "code",
   "execution_count": 46,
   "metadata": {},
   "outputs": [],
   "source": [
    "# list of objects\n",
    "class Person:\n",
    "\n",
    "  def __init__(self,name,gender):\n",
    "    self.name = name\n",
    "    self.gender = gender\n",
    "\n",
    "p1 = Person('Akshay','Male')\n",
    "p2 = Person('Ankit','Male')\n",
    "p3 = Person('Ankita','Female')\n",
    "\n",
    "L = [p1,p2,p3] # list of objects"
   ]
  },
  {
   "cell_type": "code",
   "execution_count": 50,
   "metadata": {},
   "outputs": [
    {
     "name": "stdout",
     "output_type": "stream",
     "text": [
      "Akshay ( Male )\n",
      "Ankit ( Male )\n",
      "Ankita ( Female )\n"
     ]
    }
   ],
   "source": [
    "for i in L:\n",
    "    print(i.name,\"(\",i.gender,\")\")"
   ]
  },
  {
   "cell_type": "code",
   "execution_count": 48,
   "metadata": {},
   "outputs": [
    {
     "name": "stdout",
     "output_type": "stream",
     "text": [
      "Akshay\n",
      "Ankit\n",
      "Ankita\n"
     ]
    }
   ],
   "source": [
    "# dictionary of objects\n",
    "d = {'p1':p1,'p2':p2,'p3':p3}\n",
    "\n",
    "for i in d:\n",
    "    print(d[i].name)"
   ]
  },
  {
   "cell_type": "markdown",
   "metadata": {},
   "source": [
    "### <i> __Instance Variable v/s Static Variable__ </i>\n",
    "\n",
    "##### __Instance Variable:__\n",
    "\n",
    "1. Definition:\n",
    "\n",
    "- Instance variables are variables that belong to a specific instance (object) of a class.\n",
    "\n",
    "- They are defined inside the __init__ method or other instance methods using self.\n",
    "\n",
    "2. Scope:\n",
    "\n",
    "- Each object has its own copy of instance variables.\n",
    "\n",
    "- Changes to an instance variable affect only that specific object.\n",
    "\n",
    "3. Purpose:\n",
    "\n",
    "- Used to store data that is unique to each object.\n",
    "\n",
    "- Represent the state or attributes of an object.\n",
    "\n",
    "4. Access:\n",
    "\n",
    "- Accessed using the object name: obj.instance_variable.\n",
    "\n",
    "\n",
    "##### __Static Variable(Class Variable):__\n",
    "\n",
    "1. Definition:\n",
    "\n",
    "- Static variables are variables that belong to the class itself, not to any specific instance.\n",
    "\n",
    "- They are defined directly inside the class, outside any method.\n",
    "\n",
    "2. Scope:\n",
    "\n",
    "- Shared across all instances of the class.\n",
    "\n",
    "- Changes to a static variable affect all objects of the class.\n",
    "\n",
    "3. Purpose:\n",
    "\n",
    "- Used to store data that is common to all objects of the class.\n",
    "\n",
    "- Represent shared properties or constants.\n",
    "\n",
    "4. Access:\n",
    "\n",
    "- Accessed using the class name: Class.static_variable.\n",
    "\n",
    "- Can also be accessed using an object: obj.static_variable."
   ]
  },
  {
   "cell_type": "markdown",
   "metadata": {},
   "source": [
    "## <i> __Static Variables__"
   ]
  },
  {
   "cell_type": "code",
   "execution_count": 70,
   "metadata": {},
   "outputs": [],
   "source": [
    "class Atm:\n",
    "    \n",
    "    __counter = 1\n",
    "    \n",
    "    # Constructor --> special function\n",
    "    def __init__(self):\n",
    "        print(id(self))\n",
    "        self.pin = ''\n",
    "        self.__balance = 0 # private variable\n",
    "        # print(\"Constructor executed\")\n",
    "        # self.menu()\n",
    "        self.cid = Atm.__counter\n",
    "        Atm.__counter += 1\n",
    "        \n",
    "    # Utility functions --> small methods that does not requires any object\n",
    "    @staticmethod \n",
    "    def get_counter():\n",
    "        return Atm.__counter\n",
    "    \n",
    "    @staticmethod\n",
    "    def set_counter(counter):\n",
    "        if type(counter) == int:\n",
    "            Atm.__counter = counter\n",
    "            return Atm.__counter\n",
    "        else:\n",
    "            return print(\"Counter should be in integer only!!\")\n",
    "        \n",
    "    def get_balance(self):\n",
    "        return self.__balance\n",
    "\n",
    "    def set_balance(self, new_amount):\n",
    "        if type(new_amount) == int:\n",
    "            self.__balance = new_amount\n",
    "            return self.__balance\n",
    "        else:\n",
    "            return print(\"Amount should be in integer!!\")\n",
    "        \n",
    "    def menu(self):\n",
    "        user_input = input(\"\"\"\n",
    "              Hi, how can I help you?\n",
    "              1. Press 1 to create pin\n",
    "              2. Press 2 to change pin\n",
    "              3. Press 3 to check balance\n",
    "              4. Press 4 to deposit\n",
    "              5 Press 5 to withdraw\n",
    "              6. Press 6 to exit\n",
    "              \"\"\")\n",
    "        \n",
    "        if user_input == '1':\n",
    "            self.create_pin()\n",
    "        elif user_input == '2':\n",
    "            self.change_pin()\n",
    "        elif user_input == '3':\n",
    "            self.check_balance()\n",
    "        elif user_input == '4':\n",
    "            self.deposit()\n",
    "        elif user_input == '5':\n",
    "            self.withdraw()\n",
    "        elif user_input == '6':\n",
    "            self.exit()\n",
    "        else:\n",
    "            print(\"Invalid input\")\n",
    "            \n",
    "    def create_pin(self):\n",
    "        self.pin = input(\"Enter your pin: \")\n",
    "        print(\"Pin created successfully\")\n",
    "        self.__balance = int(input(\"Enter your balance: \"))\n",
    "        self.menu()\n",
    "            \n",
    "    def change_pin(self):\n",
    "        old_pin = input(\"Enter your old pin: \")\n",
    "        if old_pin == self.pin:\n",
    "            new_pin = input(\"Enter your new pin:\")\n",
    "            self.pin = new_pin\n",
    "            print(\"Pin changed successfully\")\n",
    "            self.menu()\n",
    "        else:\n",
    "            print(\"Invalid pin\")\n",
    "            self.menu()\n",
    "            \n",
    "    def check_balance(self):\n",
    "        user_pin = input(\"Enter your pin:\")\n",
    "        if user_pin == self.pin:\n",
    "            print(f\"Your balance is {self.__balance}\")\n",
    "            self.menu()\n",
    "        else:\n",
    "            print(\"Vinamrata ek saath nikal yaha se!!\")\n",
    "            self.menu()\n",
    "            \n",
    "    def deposit(self):\n",
    "        user_pin = input(\"Enter your pin: \")\n",
    "        if user_pin == self.pin:\n",
    "            amount = int(input(\"Enter the amount you want to deposit: \"))\n",
    "            self.__balance += amount\n",
    "            print(\"Amount deposited successfully\")\n",
    "            self.menu()\n",
    "        else:\n",
    "            print(\"Vinamrata ek saath nikal yaha se!!\")\n",
    "            self.menu()\n",
    "\n",
    "    def withdraw(self):\n",
    "        user_pin = input(\"Enter your pin: \")\n",
    "        if user_pin == self.pin:\n",
    "            amount = int(input(\"Enter the amount you want to withdraw: \"))\n",
    "            if amount <= self.__balance:\n",
    "                self.__balance -= amount\n",
    "                print(\"Amount withdrawn successfully\")\n",
    "                print(\"Your remaining balance is\", self.__balance)\n",
    "                self.menu()\n",
    "            else:\n",
    "                print(\"Insufficient balance\")\n",
    "                self.menu()\n",
    "        else:\n",
    "            print(\"Saale chor!!\")\n",
    "            self.menu()\n",
    "            \n",
    "    def exit(self):\n",
    "        print(\"Thank you for using our services!!\")\n"
   ]
  },
  {
   "cell_type": "code",
   "execution_count": 73,
   "metadata": {},
   "outputs": [
    {
     "name": "stdout",
     "output_type": "stream",
     "text": [
      "2128494096416\n"
     ]
    }
   ],
   "source": [
    "c1 = Atm()"
   ]
  },
  {
   "cell_type": "code",
   "execution_count": 74,
   "metadata": {},
   "outputs": [
    {
     "name": "stdout",
     "output_type": "stream",
     "text": [
      "2128494084800\n"
     ]
    }
   ],
   "source": [
    "c2 = Atm()"
   ]
  },
  {
   "cell_type": "code",
   "execution_count": 75,
   "metadata": {},
   "outputs": [
    {
     "name": "stdout",
     "output_type": "stream",
     "text": [
      "2128494258096\n"
     ]
    }
   ],
   "source": [
    "c3 = Atm()"
   ]
  },
  {
   "cell_type": "code",
   "execution_count": null,
   "metadata": {},
   "outputs": [
    {
     "data": {
      "text/plain": [
       "3"
      ]
     },
     "execution_count": 65,
     "metadata": {},
     "output_type": "execute_result"
    }
   ],
   "source": [
    "# c1.cid # Output: 1\n",
    "# c2.cid # Output: 1\n",
    "# c3.cid # Output: 1\n",
    "# The value of cid is same for all the objects because it is an instance variable"
   ]
  },
  {
   "cell_type": "code",
   "execution_count": null,
   "metadata": {},
   "outputs": [
    {
     "data": {
      "text/plain": [
       "4"
      ]
     },
     "execution_count": 66,
     "metadata": {},
     "output_type": "execute_result"
    }
   ],
   "source": [
    "Atm.counter # Output: 4\n",
    "# The value of counter is 4 because it is a class variable and it is incremented( Atm.counter += 1 ) three times in above case"
   ]
  },
  {
   "cell_type": "code",
   "execution_count": null,
   "metadata": {},
   "outputs": [
    {
     "data": {
      "text/plain": [
       "1"
      ]
     },
     "execution_count": 71,
     "metadata": {},
     "output_type": "execute_result"
    }
   ],
   "source": [
    "Atm.counter = 'hehehe' # This will change the value of counter"
   ]
  },
  {
   "cell_type": "code",
   "execution_count": null,
   "metadata": {},
   "outputs": [
    {
     "name": "stdout",
     "output_type": "stream",
     "text": [
      "2128494232400\n"
     ]
    },
    {
     "ename": "TypeError",
     "evalue": "can only concatenate str (not \"int\") to str",
     "output_type": "error",
     "traceback": [
      "\u001b[1;31m---------------------------------------------------------------------------\u001b[0m",
      "\u001b[1;31mTypeError\u001b[0m                                 Traceback (most recent call last)",
      "Cell \u001b[1;32mIn[68], line 1\u001b[0m\n\u001b[1;32m----> 1\u001b[0m c4 \u001b[38;5;241m=\u001b[39m \u001b[43mAtm\u001b[49m\u001b[43m(\u001b[49m\u001b[43m)\u001b[49m \u001b[38;5;66;03m# This will give an error because the value of counter is not an integer\u001b[39;00m\n",
      "Cell \u001b[1;32mIn[58], line 13\u001b[0m, in \u001b[0;36mAtm.__init__\u001b[1;34m(self)\u001b[0m\n\u001b[0;32m     10\u001b[0m \u001b[38;5;66;03m# print(\"Constructor executed\")\u001b[39;00m\n\u001b[0;32m     11\u001b[0m \u001b[38;5;66;03m# self.menu()\u001b[39;00m\n\u001b[0;32m     12\u001b[0m \u001b[38;5;28mself\u001b[39m\u001b[38;5;241m.\u001b[39mcid \u001b[38;5;241m=\u001b[39m Atm\u001b[38;5;241m.\u001b[39mcounter\n\u001b[1;32m---> 13\u001b[0m \u001b[43mAtm\u001b[49m\u001b[38;5;241;43m.\u001b[39;49m\u001b[43mcounter\u001b[49m\u001b[43m \u001b[49m\u001b[38;5;241;43m+\u001b[39;49m\u001b[38;5;241;43m=\u001b[39;49m\u001b[43m \u001b[49m\u001b[38;5;241;43m1\u001b[39;49m\n",
      "\u001b[1;31mTypeError\u001b[0m: can only concatenate str (not \"int\") to str"
     ]
    }
   ],
   "source": [
    "c4 = Atm() # This will give an error because the value of counter is not an integer"
   ]
  },
  {
   "cell_type": "code",
   "execution_count": 76,
   "metadata": {},
   "outputs": [
    {
     "data": {
      "text/plain": [
       "4"
      ]
     },
     "execution_count": 76,
     "metadata": {},
     "output_type": "execute_result"
    }
   ],
   "source": [
    "Atm.get_counter()"
   ]
  },
  {
   "cell_type": "code",
   "execution_count": 77,
   "metadata": {},
   "outputs": [
    {
     "data": {
      "text/plain": [
       "5"
      ]
     },
     "execution_count": 77,
     "metadata": {},
     "output_type": "execute_result"
    }
   ],
   "source": [
    "Atm.set_counter(5)"
   ]
  }
 ],
 "metadata": {
  "kernelspec": {
   "display_name": "Python 3",
   "language": "python",
   "name": "python3"
  },
  "language_info": {
   "codemirror_mode": {
    "name": "ipython",
    "version": 3
   },
   "file_extension": ".py",
   "mimetype": "text/x-python",
   "name": "python",
   "nbconvert_exporter": "python",
   "pygments_lexer": "ipython3",
   "version": "3.12.4"
  }
 },
 "nbformat": 4,
 "nbformat_minor": 2
}
