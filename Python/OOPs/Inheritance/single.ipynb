{
 "cells": [
  {
   "cell_type": "markdown",
   "metadata": {},
   "source": [
    "## Single Inheritance"
   ]
  },
  {
   "cell_type": "code",
   "execution_count": 4,
   "metadata": {},
   "outputs": [],
   "source": [
    "class College:\n",
    "    college_name = \"iet lucknow\"\n",
    "    college_city = \"lucknow\"\n",
    "\n",
    "class Student(College):\n",
    "    student_name = \"anshika\"\n",
    "    student_home_town = \"kota\"\n"
   ]
  },
  {
   "cell_type": "code",
   "execution_count": 5,
   "metadata": {},
   "outputs": [],
   "source": [
    "college_obj = College()\n",
    "student_obj = Student()\n"
   ]
  },
  {
   "cell_type": "code",
   "execution_count": 6,
   "metadata": {},
   "outputs": [
    {
     "data": {
      "text/plain": [
       "'lucknow'"
      ]
     },
     "execution_count": 6,
     "metadata": {},
     "output_type": "execute_result"
    }
   ],
   "source": [
    "student_obj.college_city"
   ]
  },
  {
   "cell_type": "code",
   "execution_count": 7,
   "metadata": {},
   "outputs": [],
   "source": [
    "# class College:\n",
    "#     college_name = \"iet lucknow\"\n",
    "#     college_city = \"lucknow\"\n",
    "    \n",
    "#     @classmethod\n",
    "#     def college_display(cls):\n",
    "#         print(cls.college_name)\n",
    "#         print(cls.college_city)\n",
    "\n",
    "# class Student(College):\n",
    "#     student_name = \"anshika\"\n",
    "#     student_home_town = \"kota\"\n",
    "    \n",
    "#     @classmethod\n",
    "#     def student_display(cls):\n",
    "#         print(cls.student_name)\n",
    "#         print(cls.student_home_town)"
   ]
  },
  {
   "cell_type": "code",
   "execution_count": 8,
   "metadata": {},
   "outputs": [],
   "source": [
    "student_obj = Student()\n",
    "college_obj = College()"
   ]
  },
  {
   "cell_type": "code",
   "execution_count": 9,
   "metadata": {},
   "outputs": [
    {
     "data": {
      "text/plain": [
       "'lucknow'"
      ]
     },
     "execution_count": 9,
     "metadata": {},
     "output_type": "execute_result"
    }
   ],
   "source": [
    "student_obj.college_city"
   ]
  },
  {
   "cell_type": "markdown",
   "metadata": {},
   "source": [
    "<h3>With Constructor</h3>"
   ]
  },
  {
   "cell_type": "code",
   "execution_count": 10,
   "metadata": {},
   "outputs": [],
   "source": [
    "class College:\n",
    "    college_name = \"iet lucknow\"\n",
    "    college_city = \"lucknow\"\n",
    "    \n",
    "    def __init__(self,no_of_faculty,no_of_department):\n",
    "        self.no_of_faculty = no_of_faculty\n",
    "        self.no_of_department = no_of_department\n",
    "        print(\"College class constructor executed\")\n",
    "        \n",
    "    def college_info(self):\n",
    "        print(self.no_of_faculty)\n",
    "        print(self.no_of_department)\n",
    "    \n",
    "    @classmethod\n",
    "    def college_display(cls):\n",
    "        print(cls.college_name)\n",
    "        print(cls.college_city)\n",
    "        \n",
    "    def testing(self):\n",
    "        print(\"I got executed by super method\")\n",
    "\n",
    "class Student(College):\n",
    "    student_name = \"anshika\"\n",
    "    student_home_town = \"kota\"\n",
    "    \n",
    "    def __init__(self, student_id, student_roll_no):\n",
    "        self.student_id = student_id\n",
    "        self.student_roll_no = student_roll_no\n",
    "        print(\"student class constructor executed\")\n",
    "        super().__init__(no_of_faculty = \"86\",no_of_department = 9)\n",
    "        # super().testing()\n",
    "        \n",
    "    def student_info(self):\n",
    "        print(self.student_id)\n",
    "        print(self.student_roll_no)\n",
    "    \n",
    "    @classmethod\n",
    "    def student_display(cls):\n",
    "        print(cls.student_name)\n",
    "        print(cls.student_home_town)"
   ]
  },
  {
   "cell_type": "code",
   "execution_count": 11,
   "metadata": {},
   "outputs": [
    {
     "name": "stdout",
     "output_type": "stream",
     "text": [
      "student class constructor executed\n",
      "College class constructor executed\n"
     ]
    }
   ],
   "source": [
    "st_obj = Student(student_id = \"01\", student_roll_no=786)"
   ]
  },
  {
   "cell_type": "code",
   "execution_count": 12,
   "metadata": {},
   "outputs": [
    {
     "name": "stdout",
     "output_type": "stream",
     "text": [
      "86\n",
      "9\n"
     ]
    }
   ],
   "source": [
    "st_obj.college_info()"
   ]
  },
  {
   "cell_type": "code",
   "execution_count": null,
   "metadata": {},
   "outputs": [],
   "source": []
  },
  {
   "cell_type": "code",
   "execution_count": null,
   "metadata": {},
   "outputs": [],
   "source": []
  },
  {
   "cell_type": "code",
   "execution_count": null,
   "metadata": {},
   "outputs": [],
   "source": []
  },
  {
   "cell_type": "code",
   "execution_count": null,
   "metadata": {},
   "outputs": [],
   "source": []
  },
  {
   "cell_type": "code",
   "execution_count": null,
   "metadata": {},
   "outputs": [],
   "source": []
  },
  {
   "cell_type": "code",
   "execution_count": null,
   "metadata": {},
   "outputs": [],
   "source": []
  },
  {
   "cell_type": "code",
   "execution_count": null,
   "metadata": {},
   "outputs": [],
   "source": []
  },
  {
   "cell_type": "code",
   "execution_count": null,
   "metadata": {},
   "outputs": [],
   "source": []
  },
  {
   "cell_type": "code",
   "execution_count": null,
   "metadata": {},
   "outputs": [],
   "source": []
  },
  {
   "cell_type": "code",
   "execution_count": null,
   "metadata": {},
   "outputs": [],
   "source": []
  },
  {
   "cell_type": "code",
   "execution_count": null,
   "metadata": {},
   "outputs": [],
   "source": []
  },
  {
   "cell_type": "code",
   "execution_count": null,
   "metadata": {},
   "outputs": [],
   "source": []
  },
  {
   "cell_type": "code",
   "execution_count": null,
   "metadata": {},
   "outputs": [],
   "source": []
  },
  {
   "cell_type": "code",
   "execution_count": null,
   "metadata": {},
   "outputs": [],
   "source": []
  }
 ],
 "metadata": {
  "kernelspec": {
   "display_name": "Python 3",
   "language": "python",
   "name": "python3"
  },
  "language_info": {
   "codemirror_mode": {
    "name": "ipython",
    "version": 3
   },
   "file_extension": ".py",
   "mimetype": "text/x-python",
   "name": "python",
   "nbconvert_exporter": "python",
   "pygments_lexer": "ipython3",
   "version": "3.12.4"
  }
 },
 "nbformat": 4,
 "nbformat_minor": 2
}
