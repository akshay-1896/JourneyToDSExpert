{
 "cells": [
  {
   "cell_type": "code",
   "execution_count": 8,
   "metadata": {},
   "outputs": [
    {
     "name": "stdout",
     "output_type": "stream",
     "text": [
      "GrandFather class constructor executed!\n",
      "Father class constructor executed!\n",
      "Child class constructor executed!\n"
     ]
    },
    {
     "data": {
      "text/plain": [
       "[__main__.Child, __main__.GrandFather, __main__.Father, object]"
      ]
     },
     "execution_count": 8,
     "metadata": {},
     "output_type": "execute_result"
    }
   ],
   "source": [
    "class GrandFather:\n",
    "    def __init__(self, grandpa_name, grandpa_age):\n",
    "        self.grandpa_name = grandpa_name\n",
    "        self.grandpa_age = grandpa_age\n",
    "        print(\"GrandFather class constructor executed!\")\n",
    "\n",
    "    def grandpa_hii(self):\n",
    "        print(\"GrandFather properties\")\n",
    "        print(\"Grandpa name: \", self.grandpa_name)\n",
    "        print(\"Grandpa age: \", self.grandpa_age)\n",
    "\n",
    "\n",
    "class Father():\n",
    "    def __init__(self, father_name, father_age):\n",
    "        self.father_name = father_name\n",
    "        self.father_age = father_age\n",
    "        # super().__init__(grandpa_name=grandpa_name, grandpa_age=grandpa_age) #type: ignore\n",
    "        print(\"Father class constructor executed!\")\n",
    "\n",
    "    def father_hii(self):\n",
    "        print(\"Father properties\")\n",
    "        print(f\"Father name: {self.father_name}\")\n",
    "        print(f\"Father age: {self.father_age}\")\n",
    "\n",
    "\n",
    "class Child(GrandFather,Father):\n",
    "    def __init__(self, child_name, child_age, father_name, father_age, grandpa_name, grandpa_age):\n",
    "        self.child_name = child_name\n",
    "        self.child_age = child_age\n",
    "        GrandFather.__init__(self,grandpa_name=grandpa_name,grandpa_age=grandpa_age) # type: ignore\n",
    "        Father.__init__(self,father_name=father_name, father_age=father_age)\n",
    "        print(\"Child class constructor executed!\")\n",
    "\n",
    "    def child_hii(self):\n",
    "        print(\"Child properties\")\n",
    "        print(f\"Child name: {self.child_name}\")\n",
    "        print(f\"Child age: {self.child_age}\")\n",
    "\n",
    "    def full_intro(self):\n",
    "        print()\n",
    "        print(\"Full Introduction\")\n",
    "        print(end=\"\\n\")\n",
    "        self.child_hii()\n",
    "        print(end=\"\\n\")\n",
    "        self.father_hii()\n",
    "        print(end=\"\\n\")\n",
    "        self.grandpa_hii()\n",
    "\n",
    "\n",
    "child_obj = Child(child_name=\"Krishna\", child_age=125, father_name=\"Vasudeva\",father_age=500, grandpa_name=\"Ugrasena\", grandpa_age=1000)\n",
    "\n",
    "# child_obj.full_intro()\n",
    "\n",
    "Child.mro()"
   ]
  },
  {
   "cell_type": "markdown",
   "metadata": {},
   "source": [
    "<h3>Method Resolution Order (MRO)</h3>"
   ]
  },
  {
   "cell_type": "code",
   "execution_count": 9,
   "metadata": {},
   "outputs": [
    {
     "data": {
      "text/plain": [
       "[__main__.Father, object]"
      ]
     },
     "execution_count": 9,
     "metadata": {},
     "output_type": "execute_result"
    }
   ],
   "source": [
    "Father.mro()"
   ]
  },
  {
   "cell_type": "code",
   "execution_count": null,
   "metadata": {},
   "outputs": [],
   "source": []
  },
  {
   "cell_type": "code",
   "execution_count": null,
   "metadata": {},
   "outputs": [],
   "source": []
  },
  {
   "cell_type": "code",
   "execution_count": null,
   "metadata": {},
   "outputs": [],
   "source": []
  },
  {
   "cell_type": "code",
   "execution_count": null,
   "metadata": {},
   "outputs": [],
   "source": []
  },
  {
   "cell_type": "code",
   "execution_count": null,
   "metadata": {},
   "outputs": [],
   "source": []
  },
  {
   "cell_type": "code",
   "execution_count": null,
   "metadata": {},
   "outputs": [],
   "source": []
  }
 ],
 "metadata": {
  "kernelspec": {
   "display_name": "Python 3",
   "language": "python",
   "name": "python3"
  },
  "language_info": {
   "codemirror_mode": {
    "name": "ipython",
    "version": 3
   },
   "file_extension": ".py",
   "mimetype": "text/x-python",
   "name": "python",
   "nbconvert_exporter": "python",
   "pygments_lexer": "ipython3",
   "version": "3.12.4"
  }
 },
 "nbformat": 4,
 "nbformat_minor": 2
}
