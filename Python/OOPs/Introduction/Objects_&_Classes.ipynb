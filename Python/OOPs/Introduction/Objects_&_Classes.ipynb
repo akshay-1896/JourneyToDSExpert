{
 "cells": [
  {
   "cell_type": "markdown",
   "metadata": {},
   "source": [
    "<i>There are two types of classes in Python: <br>\n",
    "<i>    1. User defined <br>\n",
    "<i>    2. Built in"
   ]
  },
  {
   "cell_type": "code",
   "execution_count": null,
   "metadata": {},
   "outputs": [],
   "source": [
    "# There will be no output until and unless there is an object created\n",
    "class Atm: # User defined class\n",
    "    \n",
    "    # Constructor\n",
    "    def __init__(self):\n",
    "        self.pin = ''\n",
    "        self.balance = 0"
   ]
  },
  {
   "cell_type": "code",
   "execution_count": null,
   "metadata": {},
   "outputs": [],
   "source": [
    "# Creating an object\n",
    "obj = Atm()"
   ]
  },
  {
   "cell_type": "code",
   "execution_count": 3,
   "metadata": {},
   "outputs": [
    {
     "name": "stdout",
     "output_type": "stream",
     "text": [
      "<class '__main__.Atm'>\n"
     ]
    }
   ],
   "source": [
    "print(type(obj)) # <class '__main__.Atm'>"
   ]
  },
  {
   "cell_type": "code",
   "execution_count": 20,
   "metadata": {},
   "outputs": [],
   "source": [
    "class Atm:\n",
    "    \n",
    "    # Constructor --> special function\n",
    "    def __init__(self):\n",
    "        self.pin = ''\n",
    "        self.balance = 0\n",
    "        # print(\"Constructor executed\")\n",
    "        self.menu()\n",
    "        \n",
    "    def menu(self):\n",
    "        user_input = input(\"\"\"\n",
    "              Hi, how can I help you?\n",
    "              1. Press 1 to create pin\n",
    "              2. Press 2 to change pin\n",
    "              3. Press 3 to check balance\n",
    "              4. Press 4 to deposit\n",
    "              5 Press 5 to withdraw\n",
    "              6. Press 6 to exit\n",
    "              \"\"\")\n",
    "        \n",
    "        if user_input == '1':\n",
    "            self.create_pin()\n",
    "        elif user_input == '2':\n",
    "            self.change_pin()\n",
    "        elif user_input == '3':\n",
    "            self.check_balance()\n",
    "        elif user_input == '4':\n",
    "            self.deposit()\n",
    "        elif user_input == '5':\n",
    "            self.withdraw()\n",
    "        elif user_input == '6':\n",
    "            self.exit()\n",
    "        else:\n",
    "            print(\"Invalid input\")\n",
    "            \n",
    "    def create_pin(self):\n",
    "        self.pin = input(\"Enter your pin: \")\n",
    "        print(\"Pin created successfully\")\n",
    "        self.balance = int(input(\"Enter your balance: \"))\n",
    "        self.menu()\n",
    "            \n",
    "    def change_pin(self):\n",
    "        old_pin = input(\"Enter your old pin: \")\n",
    "        if old_pin == self.pin:\n",
    "            new_pin = input(\"Enter your new pin:\")\n",
    "            self.pin = new_pin\n",
    "            print(\"Pin changed successfully\")\n",
    "            self.menu()\n",
    "        else:\n",
    "            print(\"Invalid pin\")\n",
    "            self.menu()\n",
    "            \n",
    "    def check_balance(self):\n",
    "        user_pin = input(\"Enter your pin:\")\n",
    "        if user_pin == self.pin:\n",
    "            print(f\"Your balance is {self.balance}\")\n",
    "            self.menu()\n",
    "        else:\n",
    "            print(\"Vinamrata ek saath nikal yaha se!!\")\n",
    "            self.menu()\n",
    "            \n",
    "    def deposit(self):\n",
    "        user_pin = input(\"Enter your pin: \")\n",
    "        if user_pin == self.pin:\n",
    "            amount = int(input(\"Enter the amount you want to deposit: \"))\n",
    "            self.balance += amount\n",
    "            print(\"Amount deposited successfully\")\n",
    "            self.menu()\n",
    "        else:\n",
    "            print(\"Vinamrata ek saath nikal yaha se!!\")\n",
    "            self.menu()\n",
    "\n",
    "    def withdraw(self):\n",
    "        user_pin = input(\"Enter your pin: \")\n",
    "        if user_pin == self.pin:\n",
    "            amount = int(input(\"Enter the amount you want to withdraw: \"))\n",
    "            if amount <= self.balance:\n",
    "                self.balance -= amount\n",
    "                print(\"Amount withdrawn successfully\")\n",
    "                print(\"Your remaining balance is\", self.balance)\n",
    "                self.menu()\n",
    "            else:\n",
    "                print(\"Insufficient balance\")\n",
    "                self.menu()\n",
    "        else:\n",
    "            print(\"Saale chor!!\")\n",
    "            self.menu()\n",
    "            \n",
    "    def exit(self):\n",
    "        print(\"Thank you for using our services!!\")\n"
   ]
  },
  {
   "cell_type": "code",
   "execution_count": 21,
   "metadata": {},
   "outputs": [
    {
     "name": "stdout",
     "output_type": "stream",
     "text": [
      "Invalid pin\n",
      "Thank you for using our services!!\n"
     ]
    }
   ],
   "source": [
    "# Constructor is a special function that is automatically executed when an object is created and it is used to initialize the object and its attributes\n",
    "obj = Atm()"
   ]
  }
 ],
 "metadata": {
  "kernelspec": {
   "display_name": "Python 3",
   "language": "python",
   "name": "python3"
  },
  "language_info": {
   "codemirror_mode": {
    "name": "ipython",
    "version": 3
   },
   "file_extension": ".py",
   "mimetype": "text/x-python",
   "name": "python",
   "nbconvert_exporter": "python",
   "pygments_lexer": "ipython3",
   "version": "3.12.4"
  }
 },
 "nbformat": 4,
 "nbformat_minor": 2
}
