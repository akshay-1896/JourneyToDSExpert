{
 "cells": [
  {
   "cell_type": "markdown",
   "metadata": {},
   "source": [
    "### Write OOP classes to handle the following scenarios:\n",
    "- A user can create and view 2D coordinates\n",
    "- A user can find out the distance between 2 coordinates\n",
    "- A user can find find the distance of a coordinate from origin\n",
    "- A user can check if a point lies on a given line\n",
    "- A user can find the distance between a given 2D point and a given line"
   ]
  },
  {
   "cell_type": "code",
   "execution_count": null,
   "metadata": {},
   "outputs": [],
   "source": [
    "class Point:\n",
    "\n",
    "    def __init__(self, x, y):\n",
    "        self.x_cod = x\n",
    "        self.y_cod = y\n",
    "\n",
    "    def __str__(self):  # to view 2D coordinates\n",
    "        return '<{},{}>'.format(self.x_cod, self.y_cod)\n",
    "\n",
    "    # to calculate distance between two coordinates\n",
    "    def euclidean_distance(self, other):\n",
    "        return ((self.x_cod - other.x_cod)**2 + (self.y_cod - other.y_cod)**2)**0.5\n",
    "\n",
    "    def distance_from_origin(self):  # to calculate distance from origin\n",
    "        # return ((self.x_cod)**2 + (self.y_cod)**2)**0.5\n",
    "        # creating object of class Point and passing it to the method euclidean_distance()\n",
    "        return self.euclidean_distance(Point(0, 0))\n",
    "        # Here, in self.euclidean_distance(), self is the object but not the class, which means that only objects are passed to the methods but not the classes\n",
    "\n",
    "\n",
    "class Line:\n",
    "\n",
    "    def __init__(self, A, B, C):\n",
    "        self.A = A  # both A's are different and have no relation\n",
    "        self.B = B\n",
    "        self.C = C\n",
    "\n",
    "    def __str__(self):\n",
    "        return '{}x + {}y + {}'.format(self.A, self.B, self.C)\n",
    "\n",
    "    def point_on_line(line, point): # to check whether the point lies on the line or not\n",
    "        if line.A*point.x_cod + line.B*point.y_cod + line.C == 0:\n",
    "            return \"Point <{},{}> lies on the line {}x + {}y + {}\".format(point.x_cod, point.y_cod, line.A, line.B, line.C)\n",
    "        else:\n",
    "            return \"Point <{},{}> does not lie on the line {}x + {}y + {}\".format(point.x_cod, point.y_cod, line.A, line.B, line.C)\n",
    "\n",
    "    def shortest_distance(line, point): # to calculate shortest distance between 2D line and point\n",
    "        num = abs(line.A*point.x_cod + line.B*point.y_cod + line.C)\n",
    "        den = ((line.A**2 + line.B**2)**0.5)\n",
    "        return round(num / den)\n",
    "\n",
    "\n",
    "p1 = Point(3, 4)\n",
    "p2 = Point(0, 0)\n",
    "l1 = Line(1, 2, 3)"
   ]
  },
  {
   "cell_type": "code",
   "execution_count": 38,
   "metadata": {},
   "outputs": [
    {
     "name": "stdout",
     "output_type": "stream",
     "text": [
      "<3,4>\n",
      "<0,0>\n"
     ]
    }
   ],
   "source": [
    "# Viewing 2D points\n",
    "# <x,y>\n",
    "print(p1)\n",
    "print(p2)"
   ]
  },
  {
   "cell_type": "code",
   "execution_count": 42,
   "metadata": {},
   "outputs": [
    {
     "name": "stdout",
     "output_type": "stream",
     "text": [
      "1x + 2y + 3\n"
     ]
    }
   ],
   "source": [
    "print(l1)"
   ]
  },
  {
   "cell_type": "code",
   "execution_count": 40,
   "metadata": {},
   "outputs": [
    {
     "data": {
      "text/plain": [
       "5.0"
      ]
     },
     "execution_count": 40,
     "metadata": {},
     "output_type": "execute_result"
    }
   ],
   "source": [
    "# Euclidean distance between p1 and p2\n",
    "p1.euclidean_distance(p2)"
   ]
  },
  {
   "cell_type": "code",
   "execution_count": 41,
   "metadata": {},
   "outputs": [
    {
     "name": "stdout",
     "output_type": "stream",
     "text": [
      "5.0\n",
      "0.0\n"
     ]
    }
   ],
   "source": [
    "# Distance form origin\n",
    "print(p1.distance_from_origin())\n",
    "print(p2.distance_from_origin())"
   ]
  },
  {
   "cell_type": "code",
   "execution_count": null,
   "metadata": {},
   "outputs": [
    {
     "data": {
      "text/plain": [
       "'Point <-1,-1> lies on the line 1x + 2y + 3'"
      ]
     },
     "execution_count": 50,
     "metadata": {},
     "output_type": "execute_result"
    }
   ],
   "source": [
    "# Checking if point lies on line\n",
    "l1 = Line(1,2,3)\n",
    "p1 = Point(-1,-1) # lies on the line\n",
    "p1 = Point(-2,-1) # does not lie on the line\n",
    "\n",
    "l1.point_on_line(p1)"
   ]
  },
  {
   "cell_type": "code",
   "execution_count": 56,
   "metadata": {},
   "outputs": [
    {
     "data": {
      "text/plain": [
       "6"
      ]
     },
     "execution_count": 56,
     "metadata": {},
     "output_type": "execute_result"
    }
   ],
   "source": [
    "# Shortest distance between point and line\n",
    "l1 = Line(1,1,-2)\n",
    "p1 = Point(1,10)\n",
    "\n",
    "l1.shortest_distance(p1)"
   ]
  },
  {
   "cell_type": "code",
   "execution_count": null,
   "metadata": {},
   "outputs": [],
   "source": []
  },
  {
   "cell_type": "code",
   "execution_count": null,
   "metadata": {},
   "outputs": [],
   "source": []
  },
  {
   "cell_type": "code",
   "execution_count": null,
   "metadata": {},
   "outputs": [],
   "source": []
  },
  {
   "cell_type": "code",
   "execution_count": null,
   "metadata": {},
   "outputs": [],
   "source": []
  },
  {
   "cell_type": "code",
   "execution_count": null,
   "metadata": {},
   "outputs": [],
   "source": []
  },
  {
   "cell_type": "code",
   "execution_count": null,
   "metadata": {},
   "outputs": [],
   "source": []
  }
 ],
 "metadata": {
  "kernelspec": {
   "display_name": "Python 3",
   "language": "python",
   "name": "python3"
  },
  "language_info": {
   "codemirror_mode": {
    "name": "ipython",
    "version": 3
   },
   "file_extension": ".py",
   "mimetype": "text/x-python",
   "name": "python",
   "nbconvert_exporter": "python",
   "pygments_lexer": "ipython3",
   "version": "3.12.4"
  }
 },
 "nbformat": 4,
 "nbformat_minor": 2
}
