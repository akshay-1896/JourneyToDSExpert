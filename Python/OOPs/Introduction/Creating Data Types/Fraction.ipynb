{
 "cells": [
  {
   "cell_type": "markdown",
   "metadata": {},
   "source": [
    "# Creating our own data type <i>__Fraction__</i>"
   ]
  },
  {
   "cell_type": "code",
   "execution_count": 27,
   "metadata": {},
   "outputs": [],
   "source": [
    "class Fraction:\n",
    "    \n",
    "    # Parameterized constructor\n",
    "    def __init__(self, x, y):\n",
    "        self.num = x\n",
    "        self.den = y"
   ]
  },
  {
   "cell_type": "markdown",
   "metadata": {},
   "source": [
    "# <i>__str__</i> constructor"
   ]
  },
  {
   "cell_type": "code",
   "execution_count": 28,
   "metadata": {},
   "outputs": [],
   "source": [
    "fr1 = Fraction(3, 4)\n",
    "fr2 = Fraction(5, 7)"
   ]
  },
  {
   "cell_type": "markdown",
   "metadata": {},
   "source": [
    "Output: <__main__.Fraction object at 0x7f3f0c1f3b38><br>\n",
    "<br> The output is not what we expected. We want to print the fraction in the form of '3/4' but it is showing the memory address of the object and therefore we need to define a method to print the fraction in the desired format."
   ]
  },
  {
   "cell_type": "code",
   "execution_count": 29,
   "metadata": {},
   "outputs": [
    {
     "name": "stdout",
     "output_type": "stream",
     "text": [
      "<__main__.Fraction object at 0x000001D527FF47D0>\n",
      "<__main__.Fraction object at 0x000001D527FF7A40>\n"
     ]
    }
   ],
   "source": [
    "print(fr1)\n",
    "print(fr2)"
   ]
  },
  {
   "cell_type": "code",
   "execution_count": 32,
   "metadata": {},
   "outputs": [],
   "source": [
    "class Fraction:\n",
    "    \n",
    "    # Parameterized constructor\n",
    "    def __init__(self, x, y):\n",
    "        self.num = x\n",
    "        self.den = y\n",
    "        \n",
    "    # Method to display the fraction\n",
    "    def __str__(self): # __str__ constructor is used to display the object\n",
    "        return '{}/{}'.format(self.num, self.den)\n",
    "    \n",
    "fr1 = Fraction(3, 4)\n",
    "fr2 = Fraction(5, 7)"
   ]
  },
  {
   "cell_type": "code",
   "execution_count": 33,
   "metadata": {},
   "outputs": [
    {
     "name": "stdout",
     "output_type": "stream",
     "text": [
      "3/4\n",
      "5/7\n"
     ]
    }
   ],
   "source": [
    "print(fr1)\n",
    "print(fr2)"
   ]
  },
  {
   "cell_type": "markdown",
   "metadata": {},
   "source": [
    "# <i>__add__</i> constructor"
   ]
  },
  {
   "cell_type": "code",
   "execution_count": 25,
   "metadata": {},
   "outputs": [
    {
     "ename": "TypeError",
     "evalue": "unsupported operand type(s) for +: 'Fraction' and 'Fraction'",
     "output_type": "error",
     "traceback": [
      "\u001b[1;31m---------------------------------------------------------------------------\u001b[0m",
      "\u001b[1;31mTypeError\u001b[0m                                 Traceback (most recent call last)",
      "Cell \u001b[1;32mIn[25], line 1\u001b[0m\n\u001b[1;32m----> 1\u001b[0m \u001b[38;5;28mprint\u001b[39m(\u001b[43mfr1\u001b[49m\u001b[43m \u001b[49m\u001b[38;5;241;43m+\u001b[39;49m\u001b[43m \u001b[49m\u001b[43mfr2\u001b[49m) \u001b[38;5;66;03m# This will give an error as we have not defined the __add__ method\u001b[39;00m\n",
      "\u001b[1;31mTypeError\u001b[0m: unsupported operand type(s) for +: 'Fraction' and 'Fraction'"
     ]
    }
   ],
   "source": [
    "print(fr1 + fr2) # This will give an error as we have not defined the __add__ method"
   ]
  },
  {
   "cell_type": "code",
   "execution_count": null,
   "metadata": {},
   "outputs": [
    {
     "ename": "TypeError",
     "evalue": "unsupported operand type(s) for +: 'set' and 'set'",
     "output_type": "error",
     "traceback": [
      "\u001b[1;31m---------------------------------------------------------------------------\u001b[0m",
      "\u001b[1;31mTypeError\u001b[0m                                 Traceback (most recent call last)",
      "Cell \u001b[1;32mIn[16], line 4\u001b[0m\n\u001b[0;32m      1\u001b[0m s1 \u001b[38;5;241m=\u001b[39m {\u001b[38;5;241m1\u001b[39m, \u001b[38;5;241m2\u001b[39m, \u001b[38;5;241m3\u001b[39m}\n\u001b[0;32m      2\u001b[0m s2 \u001b[38;5;241m=\u001b[39m {\u001b[38;5;241m3\u001b[39m, \u001b[38;5;241m4\u001b[39m, \u001b[38;5;241m5\u001b[39m}\n\u001b[1;32m----> 4\u001b[0m \u001b[43ms1\u001b[49m\u001b[43m \u001b[49m\u001b[38;5;241;43m+\u001b[39;49m\u001b[43m \u001b[49m\u001b[43ms2\u001b[49m\n\u001b[0;32m      5\u001b[0m \u001b[38;5;66;03m# TypeError: unsupported operand type(s) for +: 'set' and 'set'\u001b[39;00m\n\u001b[0;32m      6\u001b[0m \u001b[38;5;66;03m# The error occurs because the + operator is not defined in the set data type.\u001b[39;00m\n",
      "\u001b[1;31mTypeError\u001b[0m: unsupported operand type(s) for +: 'set' and 'set'"
     ]
    }
   ],
   "source": [
    "# s1 = {1, 2, 3}\n",
    "# s2 = {3, 4, 5}\n",
    "\n",
    "# s1 + s2\n",
    "\n",
    "# TypeError: unsupported operand type(s) for +: 'set' and 'set'\n",
    "# The error occurs because the + operator is not defined in the set data type."
   ]
  },
  {
   "cell_type": "code",
   "execution_count": 36,
   "metadata": {},
   "outputs": [],
   "source": [
    "class Fraction:\n",
    "    \n",
    "    # Parameterized constructor\n",
    "    def __init__(self, x, y):\n",
    "        self.num = x\n",
    "        self.den = y\n",
    "        \n",
    "    # Method to display the fraction\n",
    "    def __str__(self): # __str__ constructor is used to display the object\n",
    "        return '{}/{}'.format(self.num, self.den)\n",
    "    \n",
    "    def __add__(self, other): # requires two arguments where first argument(fr1) is self and second argument(fr2) is other\n",
    "        new_num = self.num * other.den + self.den * other.num\n",
    "        new_den = self.den * other.den\n",
    "        # return Fraction(new_num, new_den)\n",
    "        return '{}/{}'.format(new_num, new_den)\n",
    "        \n",
    "fr1 = Fraction(3, 4)\n",
    "fr2 = Fraction(5, 7)"
   ]
  },
  {
   "cell_type": "code",
   "execution_count": 37,
   "metadata": {},
   "outputs": [
    {
     "name": "stdout",
     "output_type": "stream",
     "text": [
      "41/28\n"
     ]
    }
   ],
   "source": [
    "print(fr1 + fr2)"
   ]
  },
  {
   "cell_type": "markdown",
   "metadata": {},
   "source": [
    "# __sub__ constructor"
   ]
  },
  {
   "cell_type": "code",
   "execution_count": null,
   "metadata": {},
   "outputs": [
    {
     "ename": "TypeError",
     "evalue": "unsupported operand type(s) for -: 'Fraction' and 'Fraction'",
     "output_type": "error",
     "traceback": [
      "\u001b[1;31m---------------------------------------------------------------------------\u001b[0m",
      "\u001b[1;31mTypeError\u001b[0m                                 Traceback (most recent call last)",
      "Cell \u001b[1;32mIn[38], line 1\u001b[0m\n\u001b[1;32m----> 1\u001b[0m \u001b[38;5;28mprint\u001b[39m(\u001b[43mfr1\u001b[49m\u001b[43m \u001b[49m\u001b[38;5;241;43m-\u001b[39;49m\u001b[43m \u001b[49m\u001b[43mfr2\u001b[49m)\n",
      "\u001b[1;31mTypeError\u001b[0m: unsupported operand type(s) for -: 'Fraction' and 'Fraction'"
     ]
    }
   ],
   "source": [
    "print(fr1 - fr2) # This will give an error as we have not defined the __sub__ method"
   ]
  },
  {
   "cell_type": "code",
   "execution_count": 39,
   "metadata": {},
   "outputs": [],
   "source": [
    "class Fraction:\n",
    "    \n",
    "    # Parameterized constructor\n",
    "    def __init__(self, x, y):\n",
    "        self.num = x\n",
    "        self.den = y\n",
    "        \n",
    "    # Method to display the fraction\n",
    "    def __str__(self): # __str__ constructor is used to display the object\n",
    "        return '{}/{}'.format(self.num, self.den)\n",
    "    \n",
    "    def __add__(self, other): # requires two arguments where first argument(fr1) is self and second argument(fr2) is other\n",
    "        new_num = self.num * other.den + self.den * other.num\n",
    "        new_den = self.den * other.den\n",
    "        # return Fraction(new_num, new_den)\n",
    "        return '{}/{}'.format(new_num, new_den)\n",
    "    \n",
    "    def __sub__(self, other): # requires two arguments where first argument(fr1) is self and second argument(fr2) is other\n",
    "        new_num = self.num * other.den - self.den * other.num\n",
    "        new_den = self.den * other.den\n",
    "        # return '{}/{}'.format(new_num, new_den)\n",
    "        return Fraction(new_num, new_den)\n",
    "        \n",
    "fr1 = Fraction(3, 4)\n",
    "fr2 = Fraction(5, 7)"
   ]
  },
  {
   "cell_type": "code",
   "execution_count": 40,
   "metadata": {},
   "outputs": [
    {
     "name": "stdout",
     "output_type": "stream",
     "text": [
      "1/28\n"
     ]
    }
   ],
   "source": [
    "print(fr1 - fr2)"
   ]
  },
  {
   "cell_type": "markdown",
   "metadata": {},
   "source": [
    "# <i>__mul__</i> constructor"
   ]
  },
  {
   "cell_type": "code",
   "execution_count": 41,
   "metadata": {},
   "outputs": [
    {
     "ename": "TypeError",
     "evalue": "unsupported operand type(s) for *: 'Fraction' and 'Fraction'",
     "output_type": "error",
     "traceback": [
      "\u001b[1;31m---------------------------------------------------------------------------\u001b[0m",
      "\u001b[1;31mTypeError\u001b[0m                                 Traceback (most recent call last)",
      "Cell \u001b[1;32mIn[41], line 1\u001b[0m\n\u001b[1;32m----> 1\u001b[0m \u001b[38;5;28mprint\u001b[39m(\u001b[43mfr1\u001b[49m\u001b[43m \u001b[49m\u001b[38;5;241;43m*\u001b[39;49m\u001b[43m \u001b[49m\u001b[43mfr2\u001b[49m) \u001b[38;5;66;03m# This will give an error as we have not defined the __mul__ method\u001b[39;00m\n",
      "\u001b[1;31mTypeError\u001b[0m: unsupported operand type(s) for *: 'Fraction' and 'Fraction'"
     ]
    }
   ],
   "source": [
    "print(fr1 * fr2) # This will give an error as we have not defined the __mul__ method"
   ]
  },
  {
   "cell_type": "code",
   "execution_count": 42,
   "metadata": {},
   "outputs": [],
   "source": [
    "class Fraction:\n",
    "    \n",
    "    # Parameterized constructor\n",
    "    def __init__(self, x, y):\n",
    "        self.num = x\n",
    "        self.den = y\n",
    "        \n",
    "    # Method to display the fraction\n",
    "    def __str__(self): # __str__ constructor is used to display the object\n",
    "        return '{}/{}'.format(self.num, self.den)\n",
    "    \n",
    "    def __add__(self, other): # requires two arguments where first argument(fr1) is self and second argument(fr2) is other\n",
    "        new_num = self.num * other.den + self.den * other.num\n",
    "        new_den = self.den * other.den\n",
    "        # return Fraction(new_num, new_den)\n",
    "        return '{}/{}'.format(new_num, new_den)\n",
    "    \n",
    "    def __sub__(self, other): # requires two arguments where first argument(fr1) is self and second argument(fr2) is other\n",
    "        new_num = self.num * other.den - self.den * other.num\n",
    "        new_den = self.den * other.den\n",
    "        # return '{}/{}'.format(new_num, new_den)\n",
    "        return Fraction(new_num, new_den)\n",
    "    \n",
    "    def __mul__(self, other):\n",
    "        new_num = self.num * other.num\n",
    "        new_den = self.den * other.den\n",
    "        return '{}/{}'.format(new_num, new_den)\n",
    "        \n",
    "fr1 = Fraction(3, 4)\n",
    "fr2 = Fraction(5, 7)"
   ]
  },
  {
   "cell_type": "code",
   "execution_count": 43,
   "metadata": {},
   "outputs": [
    {
     "name": "stdout",
     "output_type": "stream",
     "text": [
      "15/28\n"
     ]
    }
   ],
   "source": [
    "print(fr1 * fr2)"
   ]
  },
  {
   "cell_type": "markdown",
   "metadata": {},
   "source": [
    "# <i>__truediv__</i> constructor"
   ]
  },
  {
   "cell_type": "code",
   "execution_count": 44,
   "metadata": {},
   "outputs": [
    {
     "ename": "TypeError",
     "evalue": "unsupported operand type(s) for /: 'Fraction' and 'Fraction'",
     "output_type": "error",
     "traceback": [
      "\u001b[1;31m---------------------------------------------------------------------------\u001b[0m",
      "\u001b[1;31mTypeError\u001b[0m                                 Traceback (most recent call last)",
      "Cell \u001b[1;32mIn[44], line 1\u001b[0m\n\u001b[1;32m----> 1\u001b[0m \u001b[38;5;28mprint\u001b[39m(\u001b[43mfr1\u001b[49m\u001b[43m \u001b[49m\u001b[38;5;241;43m/\u001b[39;49m\u001b[43m \u001b[49m\u001b[43mfr2\u001b[49m) \u001b[38;5;66;03m# This will give an error as we have not defined the __truediv__ method or any division method\u001b[39;00m\n",
      "\u001b[1;31mTypeError\u001b[0m: unsupported operand type(s) for /: 'Fraction' and 'Fraction'"
     ]
    }
   ],
   "source": [
    "print(fr1 / fr2) # This will give an error as we have not defined the __truediv__ method or any division method"
   ]
  },
  {
   "cell_type": "code",
   "execution_count": 56,
   "metadata": {},
   "outputs": [],
   "source": [
    "class Fraction:\n",
    "    \n",
    "    # Parameterized constructor\n",
    "    def __init__(self, x, y):\n",
    "        self.num = x\n",
    "        self.den = y\n",
    "        \n",
    "    # Method to display the fraction\n",
    "    def __str__(self): # __str__ constructor is used to display the object\n",
    "        return '{}/{}'.format(self.num, self.den)\n",
    "    \n",
    "    def __add__(self, other): # requires two arguments where first argument(fr1) is self and second argument(fr2) is other\n",
    "        new_num = self.num * other.den + self.den * other.num\n",
    "        new_den = self.den * other.den\n",
    "        # return Fraction(new_num, new_den)\n",
    "        return '{}/{}'.format(new_num, new_den)\n",
    "    \n",
    "    def __sub__(self, other): # requires two arguments where first argument(fr1) is self and second argument(fr2) is other\n",
    "        new_num = self.num * other.den - self.den * other.num\n",
    "        new_den = self.den * other.den\n",
    "        # return '{}/{}'.format(new_num, new_den)\n",
    "        return Fraction(new_num, new_den)\n",
    "    \n",
    "    def __mul__(self, other):\n",
    "        new_num = self.num * other.num\n",
    "        new_den = self.den * other.den\n",
    "        return '{}/{}'.format(new_num, new_den)\n",
    "    \n",
    "    def __truediv__(self, other):\n",
    "        new_num = self.num * other.den\n",
    "        new_den = self.den * other.num\n",
    "        return '{}/{}'.format(new_num, new_den)\n",
    "    \n",
    "    def decimal(self):\n",
    "        return self.num / self.den\n",
    "        \n",
    "fr1 = Fraction(3, 4)\n",
    "fr2 = Fraction(5, 7)"
   ]
  },
  {
   "cell_type": "code",
   "execution_count": 57,
   "metadata": {},
   "outputs": [
    {
     "name": "stdout",
     "output_type": "stream",
     "text": [
      "21/20\n"
     ]
    }
   ],
   "source": [
    "print(fr1 / fr2)"
   ]
  },
  {
   "cell_type": "code",
   "execution_count": 51,
   "metadata": {},
   "outputs": [
    {
     "data": {
      "text/plain": [
       "0.75"
      ]
     },
     "execution_count": 51,
     "metadata": {},
     "output_type": "execute_result"
    }
   ],
   "source": [
    "fr1.decimal()"
   ]
  }
 ],
 "metadata": {
  "kernelspec": {
   "display_name": "Python 3",
   "language": "python",
   "name": "python3"
  },
  "language_info": {
   "codemirror_mode": {
    "name": "ipython",
    "version": 3
   },
   "file_extension": ".py",
   "mimetype": "text/x-python",
   "name": "python",
   "nbconvert_exporter": "python",
   "pygments_lexer": "ipython3",
   "version": "3.12.4"
  }
 },
 "nbformat": 4,
 "nbformat_minor": 2
}
