{
 "cells": [
  {
   "cell_type": "markdown",
   "metadata": {},
   "source": [
    "#### How objects Access Attributes?"
   ]
  },
  {
   "cell_type": "code",
   "execution_count": 19,
   "metadata": {},
   "outputs": [],
   "source": [
    "class Person:\n",
    "\n",
    "  def __init__(self,name_input,country_input):\n",
    "    self.name = name_input\n",
    "    self.country = country_input\n",
    "\n",
    "  def greet(self):\n",
    "    if self.country == 'india':\n",
    "      print('Namaste',self.name)\n",
    "    else:\n",
    "      print('Hello',self.name)\n"
   ]
  },
  {
   "cell_type": "code",
   "execution_count": 20,
   "metadata": {},
   "outputs": [],
   "source": [
    "# How to access attributes of a class\n",
    "p = Person('Akshay', 'India')"
   ]
  },
  {
   "cell_type": "markdown",
   "metadata": {},
   "source": [
    "#### Creating Attributes out of the class"
   ]
  },
  {
   "cell_type": "code",
   "execution_count": 22,
   "metadata": {},
   "outputs": [
    {
     "data": {
      "text/plain": [
       "'Male'"
      ]
     },
     "execution_count": 22,
     "metadata": {},
     "output_type": "execute_result"
    }
   ],
   "source": [
    "# Using object.new_attribute we can create new attributes out of the class\n",
    "p.gender = 'Male'\n",
    "p.gender"
   ]
  },
  {
   "cell_type": "markdown",
   "metadata": {},
   "source": [
    "## <i> __Reference Variables__\n",
    "\n",
    "- Reference variables hold the objects\n",
    "- We can create objects without reference variable as well\n",
    "- An object can have multiple reference variables\n",
    "- Assigning a new reference variable to an existing object does not create a new object"
   ]
  },
  {
   "cell_type": "code",
   "execution_count": null,
   "metadata": {},
   "outputs": [],
   "source": [
    "# object without a reference\n",
    "class Person:\n",
    "\n",
    "  def __init__(self):\n",
    "    self.name = 'Akshay'\n",
    "    self.gender = 'Male'\n",
    "\n",
    "Person() # This object will be created but will not be stored in any reference variable\n",
    "p = Person() # This object will be created and stored in p "
   ]
  },
  {
   "cell_type": "markdown",
   "metadata": {},
   "source": [
    "#### Multiple Reference"
   ]
  },
  {
   "cell_type": "code",
   "execution_count": 23,
   "metadata": {},
   "outputs": [
    {
     "name": "stdout",
     "output_type": "stream",
     "text": [
      "1894425310512\n",
      "1894425310512\n"
     ]
    }
   ],
   "source": [
    "q = p # q will point to the same object as p and this technigue is called as aliasing\n",
    "print(id(q))\n",
    "print(id(p))"
   ]
  },
  {
   "cell_type": "markdown",
   "metadata": {},
   "source": [
    "#### Changing attribute value with the help of 2nd object"
   ]
  },
  {
   "cell_type": "code",
   "execution_count": null,
   "metadata": {},
   "outputs": [
    {
     "name": "stdout",
     "output_type": "stream",
     "text": [
      "Akshay\n",
      "Akshay\n",
      "Rahul\n",
      "Rahul\n"
     ]
    }
   ],
   "source": [
    "print(p.name)\n",
    "print(q.name)\n",
    "\n",
    "q.name = 'Rahul'\n",
    "\n",
    "print(q.name)\n",
    "print(p.name)"
   ]
  },
  {
   "cell_type": "markdown",
   "metadata": {},
   "source": [
    "### <i> __Pass by Reference__"
   ]
  },
  {
   "cell_type": "code",
   "execution_count": 29,
   "metadata": {},
   "outputs": [
    {
     "name": "stdout",
     "output_type": "stream",
     "text": [
      "Hi, my name is Akshay and I am a Male\n",
      "Ankit\n",
      "Male\n"
     ]
    }
   ],
   "source": [
    "class Person:\n",
    "\n",
    "  def __init__(self,name,gender):\n",
    "    self.name = name\n",
    "    self.gender = gender\n",
    "    \n",
    "# Outside of class --> function\n",
    "def greet(person):\n",
    "    print('Hi, my name is', person.name,'and I am a',person.gender)\n",
    "    p1 = Person('Ankit', 'Male')\n",
    "    return p1\n",
    "\n",
    "p = Person('Akshay', 'Male')\n",
    "# greet(p) # This is how we can pass object to a function\n",
    "\n",
    "x = greet(p)\n",
    "print(x.name)\n",
    "print(x.gender)"
   ]
  },
  {
   "cell_type": "markdown",
   "metadata": {},
   "source": [
    "### <i> __Object Mutability__"
   ]
  },
  {
   "cell_type": "code",
   "execution_count": null,
   "metadata": {},
   "outputs": [
    {
     "name": "stdout",
     "output_type": "stream",
     "text": [
      "1894426845184\n",
      "1894426845184\n"
     ]
    }
   ],
   "source": [
    "class Person:\n",
    "\n",
    "  def __init__(self,name,gender):\n",
    "    self.name = name\n",
    "    self.gender = gender\n",
    "    \n",
    "# Outside of class --> function\n",
    "def greet(person):\n",
    "    # print(id(person))\n",
    "    person.name = 'Ankit' # This will change the name stored on the memory address of the object\n",
    "    # print(person.name)\n",
    "    return person\n",
    "\n",
    "p = Person('Akshay', 'Male')\n",
    "print(id(p)) # This will print the memory address of the object\n",
    "# greet(p) # This is how we can pass object(memory address) to a function\n",
    "# print(p.name)\n",
    "p1 = greet(p)\n",
    "print(id(p1)) # This will print the same memory address as of (p), which means that object of a class is mutable"
   ]
  }
 ],
 "metadata": {
  "kernelspec": {
   "display_name": "Python 3",
   "language": "python",
   "name": "python3"
  },
  "language_info": {
   "codemirror_mode": {
    "name": "ipython",
    "version": 3
   },
   "file_extension": ".py",
   "mimetype": "text/x-python",
   "name": "python",
   "nbconvert_exporter": "python",
   "pygments_lexer": "ipython3",
   "version": "3.12.4"
  }
 },
 "nbformat": 4,
 "nbformat_minor": 2
}
