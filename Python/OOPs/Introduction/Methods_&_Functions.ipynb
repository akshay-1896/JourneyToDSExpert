{
 "cells": [
  {
   "cell_type": "markdown",
   "metadata": {},
   "source": [
    "<i>Methods --> Functions that are defined inside a class\n",
    "<br><i>Functions --> Functions that are defined outside a class"
   ]
  },
  {
   "cell_type": "code",
   "execution_count": null,
   "metadata": {},
   "outputs": [],
   "source": [
    "L = [1, 2, 3]\n",
    "len(L) # Function\n",
    "L.append(4) # Method"
   ]
  },
  {
   "cell_type": "markdown",
   "metadata": {},
   "source": [
    "### <i> What is the advantage of constructor?\n",
    "<i> It is used to write configuration related tasks like connecting to the internet or database whenever the application is opened,\n",
    "<br> <i> which helps in executing the functionalities which are independent of user and can be executed without the compulsory intereference of the user "
   ]
  },
  {
   "cell_type": "code",
   "execution_count": 1,
   "metadata": {},
   "outputs": [
    {
     "name": "stdout",
     "output_type": "stream",
     "text": [
      "hello\n"
     ]
    }
   ],
   "source": [
    "# Constructor\n",
    "\n",
    "class Temp:\n",
    "    \n",
    "    def __init__(self):\n",
    "        print(\"hello\")\n",
    "\n",
    "obj = Temp()"
   ]
  },
  {
   "cell_type": "markdown",
   "metadata": {},
   "source": [
    "# <i> __Self Keyword__\n",
    "### <i> What is its purpose?\n",
    "<i> Self keyword is used to establish intra-class communication between the attributes and methods.\n",
    "\n",
    "### <i> How does it works?\n",
    "<i> It replaces itself (self) with the object in every default parameter of the method and thus communicates with other ones.\n",
    "<i>(Self means 'the object itself')\n",
    "\n",
    "The name 'self' is a naming convention and any name other than self could be used\n"
   ]
  },
  {
   "cell_type": "code",
   "execution_count": 7,
   "metadata": {},
   "outputs": [],
   "source": [
    "class Atm:\n",
    "    \n",
    "    # Constructor --> special function\n",
    "    def __init__(self):\n",
    "        print(id(self))\n",
    "        self.pin = ''\n",
    "        self.balance = 0\n",
    "        # print(\"Constructor executed\")\n",
    "        # self.menu()\n",
    "        \n",
    "    def menu(self):\n",
    "        user_input = input(\"\"\"\n",
    "              Hi, how can I help you?\n",
    "              1. Press 1 to create pin\n",
    "              2. Press 2 to change pin\n",
    "              3. Press 3 to check balance\n",
    "              4. Press 4 to deposit\n",
    "              5 Press 5 to withdraw\n",
    "              6. Press 6 to exit\n",
    "              \"\"\")\n",
    "        \n",
    "        if user_input == '1':\n",
    "            self.create_pin()\n",
    "        elif user_input == '2':\n",
    "            self.change_pin()\n",
    "        elif user_input == '3':\n",
    "            self.check_balance()\n",
    "        elif user_input == '4':\n",
    "            self.deposit()\n",
    "        elif user_input == '5':\n",
    "            self.withdraw()\n",
    "        elif user_input == '6':\n",
    "            self.exit()\n",
    "        else:\n",
    "            print(\"Invalid input\")\n",
    "            \n",
    "    def create_pin(self):\n",
    "        self.pin = input(\"Enter your pin: \")\n",
    "        print(\"Pin created successfully\")\n",
    "        self.balance = int(input(\"Enter your balance: \"))\n",
    "        self.menu()\n",
    "            \n",
    "    def change_pin():\n",
    "        old_pin = input(\"Enter your old pin: \")\n",
    "        if old_pin == self.pin:\n",
    "            new_pin = input(\"Enter your new pin:\")\n",
    "            self.pin = new_pin\n",
    "            print(\"Pin changed successfully\")\n",
    "            self.menu()\n",
    "        else:\n",
    "            print(\"Invalid pin\")\n",
    "            self.menu()\n",
    "            \n",
    "    def check_balance(self):\n",
    "        user_pin = input(\"Enter your pin:\")\n",
    "        if user_pin == self.pin:\n",
    "            print(f\"Your balance is {self.balance}\")\n",
    "            self.menu()\n",
    "        else:\n",
    "            print(\"Vinamrata ek saath nikal yaha se!!\")\n",
    "            self.menu()\n",
    "            \n",
    "    def deposit(self):\n",
    "        user_pin = input(\"Enter your pin: \")\n",
    "        if user_pin == self.pin:\n",
    "            amount = int(input(\"Enter the amount you want to deposit: \"))\n",
    "            self.balance += amount\n",
    "            print(\"Amount deposited successfully\")\n",
    "            self.menu()\n",
    "        else:\n",
    "            print(\"Vinamrata ek saath nikal yaha se!!\")\n",
    "            self.menu()\n",
    "\n",
    "    def withdraw(self):\n",
    "        user_pin = input(\"Enter your pin: \")\n",
    "        if user_pin == self.pin:\n",
    "            amount = int(input(\"Enter the amount you want to withdraw: \"))\n",
    "            if amount <= self.balance:\n",
    "                self.balance -= amount\n",
    "                print(\"Amount withdrawn successfully\")\n",
    "                print(\"Your remaining balance is\", self.balance)\n",
    "                self.menu()\n",
    "            else:\n",
    "                print(\"Insufficient balance\")\n",
    "                self.menu()\n",
    "        else:\n",
    "            print(\"Saale chor!!\")\n",
    "            self.menu()\n",
    "            \n",
    "    def exit(self):\n",
    "        print(\"Thank you for using our services!!\")\n"
   ]
  },
  {
   "cell_type": "code",
   "execution_count": 8,
   "metadata": {},
   "outputs": [
    {
     "name": "stdout",
     "output_type": "stream",
     "text": [
      "1799095685136\n"
     ]
    }
   ],
   "source": [
    "obj = Atm() # it will print the address of the object"
   ]
  },
  {
   "cell_type": "code",
   "execution_count": null,
   "metadata": {},
   "outputs": [
    {
     "data": {
      "text/plain": [
       "1799095428512"
      ]
     },
     "execution_count": 4,
     "metadata": {},
     "output_type": "execute_result"
    }
   ],
   "source": [
    "id(obj) # self and obj both have the same id(address), which means self is the object itself"
   ]
  },
  {
   "cell_type": "code",
   "execution_count": null,
   "metadata": {},
   "outputs": [
    {
     "ename": "TypeError",
     "evalue": "Atm.change_pin() takes 0 positional arguments but 1 was given",
     "output_type": "error",
     "traceback": [
      "\u001b[1;31m---------------------------------------------------------------------------\u001b[0m",
      "\u001b[1;31mTypeError\u001b[0m                                 Traceback (most recent call last)",
      "Cell \u001b[1;32mIn[9], line 1\u001b[0m\n\u001b[1;32m----> 1\u001b[0m \u001b[43mobj\u001b[49m\u001b[38;5;241;43m.\u001b[39;49m\u001b[43mchange_pin\u001b[49m\u001b[43m(\u001b[49m\u001b[43m)\u001b[49m\n",
      "\u001b[1;31mTypeError\u001b[0m: Atm.change_pin() takes 0 positional arguments but 1 was given"
     ]
    }
   ],
   "source": [
    "obj.change_pin() \n",
    "# It gives following error :\n",
    "# Atm.change_pin() takes 0 positional arguments but 1 was given\n",
    "# This is because we have not passed self in the change_pin method, which means there is no placeholder(self) for the object to perform any intra-class communication with the methods of the class"
   ]
  },
  {
   "cell_type": "code",
   "execution_count": 12,
   "metadata": {},
   "outputs": [
    {
     "name": "stdout",
     "output_type": "stream",
     "text": [
      "1799097225904\n",
      "1799095693584\n"
     ]
    }
   ],
   "source": [
    "obj2 = Atm()\n",
    "obj3 = Atm()"
   ]
  }
 ],
 "metadata": {
  "kernelspec": {
   "display_name": "Python 3",
   "language": "python",
   "name": "python3"
  },
  "language_info": {
   "codemirror_mode": {
    "name": "ipython",
    "version": 3
   },
   "file_extension": ".py",
   "mimetype": "text/x-python",
   "name": "python",
   "nbconvert_exporter": "python",
   "pygments_lexer": "ipython3",
   "version": "3.12.4"
  }
 },
 "nbformat": 4,
 "nbformat_minor": 2
}
