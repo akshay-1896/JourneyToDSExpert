{
 "cells": [
  {
   "cell_type": "markdown",
   "metadata": {},
   "source": [
    "## Exception Handling\n",
    "\n",
    "    Exceptions --> unwanted and unexpected errors occured during the execution of the program"
   ]
  },
  {
   "cell_type": "code",
   "execution_count": 1,
   "metadata": {},
   "outputs": [
    {
     "name": "stdout",
     "output_type": "stream",
     "text": [
      "akshay\n",
      "I am akshay and my age is 10\n"
     ]
    }
   ],
   "source": [
    "name = input(\"Enter your name: \")\n",
    "print(name)\n",
    "age = int(input(\"Enter your age: \")) # will raise runtime error if input is string\n",
    "print(f\"I am {name} and my age is {age}\")"
   ]
  },
  {
   "cell_type": "code",
   "execution_count": 6,
   "metadata": {},
   "outputs": [
    {
     "name": "stdout",
     "output_type": "stream",
     "text": [
      "ak\n",
      "Code executed!!\n",
      "else block\n",
      "Finally block\n",
      "code lines executed after try and except block\n"
     ]
    }
   ],
   "source": [
    "try:\n",
    "    name = input(\"Enter your name: \")\n",
    "    print(name)\n",
    "    age = int(input(\"Enter your age: \"))\n",
    "    print(\"Code executed!!\")\n",
    "except:\n",
    "    print(\"except executed\")\n",
    "else:\n",
    "    print('else block')\n",
    "finally:\n",
    "    print(\"Finally block\")\n",
    "    \n",
    "print(\"code lines executed after try and except block\")"
   ]
  },
  {
   "cell_type": "code",
   "execution_count": 17,
   "metadata": {},
   "outputs": [
    {
     "name": "stdout",
     "output_type": "stream",
     "text": [
      "First number: 2 & second number: 0\n",
      "No any number could be divided by zero\n"
     ]
    }
   ],
   "source": [
    "# To get the error message and error class\n",
    "\n",
    "try:\n",
    "    num1 = int(input(\"Enter your number 1: \"))\n",
    "    num2 = int(input(\"Enter your number 2: \"))\n",
    "    print(f\"First number: {num1} & second number: {num2}\")\n",
    "    result = num1/num2\n",
    "    print(result)\n",
    "# except Exception as e:\n",
    "#     print(f\"Error Class: {e.__class__.__name__}\")\n",
    "#     print(f\"Error message: {e}\")\n",
    "#     # print(type(e))\n",
    "except ValueError:\n",
    "    print(\"Not a valid input.\")\n",
    "except ZeroDivisionError:\n",
    "    print(\"No any number could be divided by zero\")"
   ]
  },
  {
   "cell_type": "code",
   "execution_count": 24,
   "metadata": {},
   "outputs": [
    {
     "name": "stdout",
     "output_type": "stream",
     "text": [
      "First number: 25 & second number: 0\n",
      "Error line no: 14\n",
      "Error class: <class 'ZeroDivisionError'>\n",
      "Error message: division by zero\n"
     ]
    }
   ],
   "source": [
    "import sys\n",
    "\n",
    "try:\n",
    "    num1 = int(input(\"Enter your number 1: \"))\n",
    "    num2 = int(input(\"Enter your number 2: \"))\n",
    "    print(f\"First number: {num1} & second number: {num2}\")\n",
    "    result = num1/num2\n",
    "    print(result)\n",
    "    \n",
    "# except: # by default: except Exception as e\n",
    "\n",
    "except Exception as e:\n",
    "    error_class,error_message,tbframe = sys.exc_info()\n",
    "    error_line_no = tbframe.tb_frame.f_lineno\n",
    "    print(f\"Error line no: {error_line_no}\")\n",
    "    print(f\"Error class: {error_class}\")\n",
    "    print(f\"Error message: {error_message}\")"
   ]
  },
  {
   "cell_type": "code",
   "execution_count": null,
   "metadata": {},
   "outputs": [],
   "source": [
    "# What is the difference between error and exception?"
   ]
  },
  {
   "cell_type": "code",
   "execution_count": null,
   "metadata": {},
   "outputs": [],
   "source": []
  },
  {
   "cell_type": "code",
   "execution_count": null,
   "metadata": {},
   "outputs": [],
   "source": []
  },
  {
   "cell_type": "code",
   "execution_count": null,
   "metadata": {},
   "outputs": [],
   "source": []
  },
  {
   "cell_type": "code",
   "execution_count": null,
   "metadata": {},
   "outputs": [],
   "source": []
  },
  {
   "cell_type": "code",
   "execution_count": null,
   "metadata": {},
   "outputs": [],
   "source": []
  },
  {
   "cell_type": "code",
   "execution_count": null,
   "metadata": {},
   "outputs": [],
   "source": []
  },
  {
   "cell_type": "code",
   "execution_count": null,
   "metadata": {},
   "outputs": [],
   "source": []
  },
  {
   "cell_type": "code",
   "execution_count": null,
   "metadata": {},
   "outputs": [],
   "source": []
  },
  {
   "cell_type": "code",
   "execution_count": null,
   "metadata": {},
   "outputs": [],
   "source": []
  },
  {
   "cell_type": "code",
   "execution_count": null,
   "metadata": {},
   "outputs": [],
   "source": []
  },
  {
   "cell_type": "code",
   "execution_count": null,
   "metadata": {},
   "outputs": [],
   "source": []
  },
  {
   "cell_type": "code",
   "execution_count": null,
   "metadata": {},
   "outputs": [],
   "source": []
  },
  {
   "cell_type": "code",
   "execution_count": null,
   "metadata": {},
   "outputs": [],
   "source": []
  }
 ],
 "metadata": {
  "kernelspec": {
   "display_name": "Python 3",
   "language": "python",
   "name": "python3"
  },
  "language_info": {
   "codemirror_mode": {
    "name": "ipython",
    "version": 3
   },
   "file_extension": ".py",
   "mimetype": "text/x-python",
   "name": "python",
   "nbconvert_exporter": "python",
   "pygments_lexer": "ipython3",
   "version": "3.12.4"
  }
 },
 "nbformat": 4,
 "nbformat_minor": 2
}
