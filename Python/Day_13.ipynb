{
 "cells": [
  {
   "cell_type": "markdown",
   "metadata": {},
   "source": [
    "Filter() Function"
   ]
  },
  {
   "cell_type": "code",
   "execution_count": null,
   "metadata": {},
   "outputs": [],
   "source": []
  },
  {
   "cell_type": "markdown",
   "metadata": {},
   "source": [
    "## Zip() Function\n",
    "\n",
    "The zip() function in Python is used to combine two or more iterables (e.g., lists, tuples, etc.) into a single iterable of tuples."
   ]
  },
  {
   "cell_type": "code",
   "execution_count": 8,
   "metadata": {},
   "outputs": [
    {
     "name": "stdout",
     "output_type": "stream",
     "text": [
      "('A', 10)\n",
      "('B', 20)\n",
      "('C', 30)\n",
      "('D', 40)\n",
      "('E', 50)\n"
     ]
    }
   ],
   "source": [
    "# lists\n",
    "\n",
    "ls1 = ['A','B','C','D','E']\n",
    "ls2 = [10,20,30,40,50]\n",
    "ls3 = [0.1,0.2,0.3,0.4,0.5]\n",
    "# print(type(zip(ls1,ls2))) \n",
    "# output = list(zip(ls1,ls2,ls3))\n",
    "# print(output)\n",
    "# print(output[2][2])\n",
    "\n",
    "for item in zip(ls1,ls2):\n",
    "    print(item)"
   ]
  },
  {
   "cell_type": "code",
   "execution_count": 9,
   "metadata": {},
   "outputs": [
    {
     "name": "stdout",
     "output_type": "stream",
     "text": [
      "('a', '1')\n",
      "('b', '2')\n",
      "('c', '3')\n"
     ]
    }
   ],
   "source": [
    "# strings\n",
    "\n",
    "st1 = 'abc'\n",
    "st2 = '123'\n",
    "\n",
    "for item in zip(st1,st2):\n",
    "    print(item)"
   ]
  },
  {
   "cell_type": "markdown",
   "metadata": {},
   "source": [
    "zip(*unpacking)"
   ]
  },
  {
   "cell_type": "code",
   "execution_count": 11,
   "metadata": {},
   "outputs": [
    {
     "name": "stdout",
     "output_type": "stream",
     "text": [
      "<class 'tuple'>\n",
      "('a', 'b', 'c')\n"
     ]
    }
   ],
   "source": [
    "# inverse of zip() --> we can use zip() in combination with the * operator to unpack a list of tuples back into individual lists \n",
    "\n",
    "pairs = [(1, 'a'), (2, 'b'), (3, 'c')]\n",
    "\n",
    "# Unzip the pairs back into two separate lists\n",
    "list1, list2 = zip(*pairs)\n",
    "\n",
    "print(list1)\n",
    "print(list2)"
   ]
  },
  {
   "cell_type": "markdown",
   "metadata": {},
   "source": [
    "1. Iterating over Two or More Iterables in Parallel:"
   ]
  },
  {
   "cell_type": "code",
   "execution_count": 13,
   "metadata": {},
   "outputs": [
    {
     "name": "stdout",
     "output_type": "stream",
     "text": [
      "Vinay Prabhu is 19 years old.\n",
      "Lakshay Prabhu is 19 years old.\n",
      "Akshay is 21 years old.\n"
     ]
    }
   ],
   "source": [
    "names = ['Vinay Prabhu', 'Lakshay Prabhu', 'Akshay']\n",
    "ages = [19, 19, 21]\n",
    "\n",
    "for name, age in zip(names, ages):\n",
    "    print(f\"{name} is {age} years old.\")"
   ]
  },
  {
   "cell_type": "markdown",
   "metadata": {},
   "source": [
    "2. Creating Dictionaries from Two Lists:"
   ]
  },
  {
   "cell_type": "code",
   "execution_count": 14,
   "metadata": {},
   "outputs": [
    {
     "name": "stdout",
     "output_type": "stream",
     "text": [
      "{'name': 'Alice', 'age': 30, 'city': 'New York'}\n"
     ]
    }
   ],
   "source": [
    "keys = ['name', 'age', 'city']\n",
    "values = ['Alice', 30, 'New York']\n",
    "\n",
    "# Create a dictionary by zipping keys and values\n",
    "my_dict = dict(zip(keys, values))\n",
    "\n",
    "print(my_dict)"
   ]
  },
  {
   "cell_type": "markdown",
   "metadata": {},
   "source": [
    "3. Transposing a Matrix:"
   ]
  },
  {
   "cell_type": "code",
   "execution_count": 33,
   "metadata": {},
   "outputs": [
    {
     "name": "stdout",
     "output_type": "stream",
     "text": [
      "Transposed matrix = [   [1, 4, 7],\n",
      "\t\t\t[2, 5, 8],\n",
      "\t\t\t[3, 6, 9]   ]\n"
     ]
    }
   ],
   "source": [
    "matrix = [\n",
    "    [1, 2, 3],\n",
    "    [4, 5, 6],\n",
    "    [7, 8, 9]\n",
    "]\n",
    "\n",
    "# Transpose the matrix\n",
    "transposed = list(zip(*matrix))\n",
    "\n",
    "\n",
    "# for item in transposed:\n",
    "#     print(transposed[0])\n",
    "\n",
    "print(f'Transposed matrix = [   {list(transposed[0])},')\n",
    "# print(f'\\t\\t\\t{list(transposed[0])},')\n",
    "print(f'\\t\\t\\t{list(transposed[1])},')\n",
    "print(f'\\t\\t\\t{list(transposed[2])}   ]')\n",
    "# print('\\t\\t\\t\\t\\t]')"
   ]
  }
 ],
 "metadata": {
  "kernelspec": {
   "display_name": "Python 3",
   "language": "python",
   "name": "python3"
  },
  "language_info": {
   "codemirror_mode": {
    "name": "ipython",
    "version": 3
   },
   "file_extension": ".py",
   "mimetype": "text/x-python",
   "name": "python",
   "nbconvert_exporter": "python",
   "pygments_lexer": "ipython3",
   "version": "3.12.4"
  }
 },
 "nbformat": 4,
 "nbformat_minor": 2
}
