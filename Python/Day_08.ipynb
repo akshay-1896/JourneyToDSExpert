{
 "cells": [
  {
   "cell_type": "markdown",
   "metadata": {},
   "source": [
    "## LOOPS"
   ]
  },
  {
   "cell_type": "code",
   "execution_count": null,
   "metadata": {},
   "outputs": [],
   "source": [
    "# 1 nested if else statement\n",
    "# 2 ternary operator\n",
    "# 3 short hand if\n",
    "# 4 short hand if else"
   ]
  },
  {
   "cell_type": "code",
   "execution_count": null,
   "metadata": {},
   "outputs": [],
   "source": [
    "# Iterable: An iterable is any object that can return an iterator (i.e., it can be looped over).\n",
    "\n",
    "# Iterator: An iterator is the actual object that performs iteration by returning the next item in the sequence, keeping track of the iteration state.\n",
    "\n",
    "# Decorator: \n",
    "\n",
    "# Generator:"
   ]
  },
  {
   "cell_type": "code",
   "execution_count": null,
   "metadata": {},
   "outputs": [],
   "source": [
    "for i in range(9,-1,-1):\n",
    "    print(i)\n",
    "\n",
    "for i in range(10):\n",
    "    print(i)"
   ]
  },
  {
   "cell_type": "code",
   "execution_count": null,
   "metadata": {},
   "outputs": [],
   "source": [
    "ls = [10,20,30,40,50,60,70,80,90]\n",
    "# for i in range(len(ls)):\n",
    "#     print(ls[i])\n",
    "\n",
    "for item in ls:\n",
    "    print(item)"
   ]
  },
  {
   "cell_type": "code",
   "execution_count": null,
   "metadata": {},
   "outputs": [],
   "source": [
    "st = \"upflairs\"\n",
    "for char in st:\n",
    "    print(char, end='')"
   ]
  },
  {
   "cell_type": "code",
   "execution_count": null,
   "metadata": {},
   "outputs": [],
   "source": [
    "tpl = (10,20,30,40,50,60,70,80,90)\n",
    "for item in tpl:\n",
    "    print(item)"
   ]
  },
  {
   "cell_type": "code",
   "execution_count": null,
   "metadata": {},
   "outputs": [],
   "source": [
    "set = {10,20,30,40,50,60,70,80,90}\n",
    "for item in set:\n",
    "    print(item)"
   ]
  },
  {
   "cell_type": "code",
   "execution_count": null,
   "metadata": {},
   "outputs": [],
   "source": [
    "# dict.fromkeys(list(range(5,25)),\"unknown\")\n",
    "\n",
    "dt= {'A':10,'B':20,'C':30,'D':40}\n",
    "# print(dt.items())\n",
    "\n",
    "# for item in dt.keys():\n",
    "#     print(item) # returns all the keys of dictionary\n",
    "\n",
    "# for item in dt.values():\n",
    "#     print(item) # returns all the values of dictionary\n",
    "\n",
    "# for item in dt.items():\n",
    "#     print(item) # returns the tuple pair of keys and values of dictionary\n",
    "\n",
    "for item in dt.items():\n",
    "    print(f'key: {item[0]} --> value: {item[1]}')\n",
    "\n",
    "# for keys, values in dt.items():\n",
    "#     print(keys)\n",
    "#     print(values)"
   ]
  },
  {
   "cell_type": "code",
   "execution_count": null,
   "metadata": {},
   "outputs": [],
   "source": [
    "# Enumerate\n",
    "\n",
    "tpl = (10,20,30,40,50,60,70,80,90)\n",
    "# count = 0\n",
    "# for item in tpl:\n",
    "#     print(f'{count} --> {item}')\n",
    "#     count += 1\n",
    "\n",
    "for i,item in enumerate(reversed(tpl),1):\n",
    "    print(f'{i} --> {item}')"
   ]
  },
  {
   "cell_type": "code",
   "execution_count": null,
   "metadata": {},
   "outputs": [],
   "source": [
    "tpl = (10,20,30,40,50,60,70,80,90)\n",
    "  \n",
    "for i, item in enumerate(tpl):\n",
    "    print(item,\"  ===>  \",i,\" <==>  \",item,\"  ===>  \",-((len(tpl)+1)-i-1))"
   ]
  },
  {
   "cell_type": "code",
   "execution_count": null,
   "metadata": {},
   "outputs": [],
   "source": [
    "ls = [25,45,63,96,85,75,48]\n",
    "\n",
    "for i in range(len(ls)):\n",
    "    print(f\"Position : {len(ls)-i-1}  ==>  {ls[len(ls)-i-1]}   position : {i} ==> {ls[i]}\")"
   ]
  },
  {
   "cell_type": "code",
   "execution_count": null,
   "metadata": {},
   "outputs": [],
   "source": [
    "i = 5\n",
    "while i >= 0:\n",
    "    print(i)\n",
    "    i -= 1"
   ]
  },
  {
   "cell_type": "code",
   "execution_count": null,
   "metadata": {},
   "outputs": [],
   "source": [
    "# Linear Searching\n",
    "\n",
    "ls = [25,45,63,96,85,75]\n",
    "for i in range(len(ls)):\n",
    "    if ls[i] == 96:\n",
    "        print(f'{ls[i]} is present at index {i}')"
   ]
  },
  {
   "cell_type": "code",
   "execution_count": null,
   "metadata": {},
   "outputs": [],
   "source": [
    "ls = [25, 45, 63, 96, 85, 75, 96]\n",
    "\n",
    "t1 = 0\n",
    "\n",
    "for i in ls:\n",
    "    t1 += i\n",
    "    \n",
    "avg = t1/len(ls)\n",
    "\n",
    "print(avg)\n",
    "print(t1)"
   ]
  },
  {
   "cell_type": "code",
   "execution_count": null,
   "metadata": {},
   "outputs": [],
   "source": [
    "ls = [25, 45, 63, 96, 85, 75, 96]\n",
    "\n",
    "t2 = 0\n",
    "i = 0\n",
    "\n",
    "while i < len(ls):\n",
    "    # print(ls[i])\n",
    "    t2 += ls[i]\n",
    "    i += 1\n",
    "\n",
    "avg = t2/len(ls)\n",
    "\n",
    "print(avg)\n",
    "print(t2)"
   ]
  },
  {
   "cell_type": "code",
   "execution_count": null,
   "metadata": {},
   "outputs": [],
   "source": [
    "ls = [25, 48, 63, 96, 85, 75, 96 , 44, 22, 31, 72, 89]\n",
    "ls1 = []\n",
    "\n",
    "for item in ls:\n",
    "    if item % 2 == 0:\n",
    "        ls1.append(item)\n",
    "        \n",
    "print(ls1)\n",
    "total = 0\n",
    "\n",
    "for item in ls1:\n",
    "    total += item\n",
    "\n",
    "avg = total/len(ls1)\n",
    "print(avg)\n",
    "print(total)"
   ]
  },
  {
   "cell_type": "markdown",
   "metadata": {},
   "source": [
    "Completed!!"
   ]
  }
 ],
 "metadata": {
  "kernelspec": {
   "display_name": "Python 3",
   "language": "python",
   "name": "python3"
  },
  "language_info": {
   "codemirror_mode": {
    "name": "ipython",
    "version": 3
   },
   "file_extension": ".py",
   "mimetype": "text/x-python",
   "name": "python",
   "nbconvert_exporter": "python",
   "pygments_lexer": "ipython3",
   "version": "3.12.4"
  }
 },
 "nbformat": 4,
 "nbformat_minor": 2
}
