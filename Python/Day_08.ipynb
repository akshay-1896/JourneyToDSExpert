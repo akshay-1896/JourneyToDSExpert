{
 "cells": [
  {
   "cell_type": "markdown",
   "metadata": {},
   "source": [
    "## LOOPS"
   ]
  },
  {
   "cell_type": "code",
   "execution_count": null,
   "metadata": {},
   "outputs": [],
   "source": [
    "# 1 nested if else statement\n",
    "# 2 ternary operator\n",
    "# 3 short hand if\n",
    "# 4 short hand if else"
   ]
  },
  {
   "cell_type": "code",
   "execution_count": null,
   "metadata": {},
   "outputs": [],
   "source": [
    "# Iterable: An iterable is any object that can return an iterator (i.e., it can be looped over).\n",
    "\n",
    "# Iterator: An iterator is the actual object that performs iteration by returning the next item in the sequence, keeping track of the iteration state.\n",
    "\n",
    "# Decorator: \n",
    "\n",
    "# Generator:"
   ]
  },
  {
   "cell_type": "code",
   "execution_count": null,
   "metadata": {},
   "outputs": [],
   "source": [
    "# for i in range(9,-1,-1):\n",
    "#     print(i)\n",
    "\n",
    "# for i in range(10):\n",
    "#     print(i)"
   ]
  },
  {
   "cell_type": "code",
   "execution_count": 13,
   "metadata": {},
   "outputs": [
    {
     "name": "stdout",
     "output_type": "stream",
     "text": [
      "10\n",
      "20\n",
      "30\n",
      "40\n",
      "50\n",
      "60\n",
      "70\n",
      "80\n",
      "90\n"
     ]
    }
   ],
   "source": [
    "ls = [10,20,30,40,50,60,70,80,90]\n",
    "# for i in range(len(ls)):\n",
    "#     print(ls[i])\n",
    "\n",
    "for item in ls:\n",
    "    print(item)"
   ]
  },
  {
   "cell_type": "code",
   "execution_count": 2,
   "metadata": {},
   "outputs": [
    {
     "name": "stdout",
     "output_type": "stream",
     "text": [
      "upflairs"
     ]
    }
   ],
   "source": [
    "st = \"upflairs\"\n",
    "for char in st:\n",
    "    print(char, end='')"
   ]
  },
  {
   "cell_type": "code",
   "execution_count": 3,
   "metadata": {},
   "outputs": [
    {
     "name": "stdout",
     "output_type": "stream",
     "text": [
      "10\n",
      "20\n",
      "30\n",
      "40\n",
      "50\n",
      "60\n",
      "70\n",
      "80\n",
      "90\n"
     ]
    }
   ],
   "source": [
    "tpl = (10,20,30,40,50,60,70,80,90)\n",
    "for item in tpl:\n",
    "    print(item)"
   ]
  },
  {
   "cell_type": "code",
   "execution_count": 8,
   "metadata": {},
   "outputs": [
    {
     "name": "stdout",
     "output_type": "stream",
     "text": [
      "70\n",
      "40\n",
      "10\n",
      "80\n",
      "50\n",
      "20\n",
      "90\n",
      "60\n",
      "30\n"
     ]
    }
   ],
   "source": [
    "set = {10,20,30,40,50,60,70,80,90}\n",
    "for item in set:\n",
    "    print(item)"
   ]
  },
  {
   "cell_type": "code",
   "execution_count": 27,
   "metadata": {},
   "outputs": [
    {
     "name": "stdout",
     "output_type": "stream",
     "text": [
      "key: A --> value: 10\n",
      "key: B --> value: 20\n",
      "key: C --> value: 30\n",
      "key: D --> value: 40\n"
     ]
    }
   ],
   "source": [
    "# dict.fromkeys(list(range(5,25)),\"unknown\")\n",
    "\n",
    "dt= {'A':10,'B':20,'C':30,'D':40}\n",
    "# print(dt.items())\n",
    "\n",
    "# for item in dt.keys():\n",
    "#     print(item) # returns all the keys of dictionary\n",
    "\n",
    "# for item in dt.values():\n",
    "#     print(item) # returns all the values of dictionary\n",
    "\n",
    "# for item in dt.items():\n",
    "#     print(item) # returns the tuple pair of keys and values of dictionary\n",
    "\n",
    "for item in dt.items():\n",
    "    print(f'key: {item[0]} --> value: {item[1]}')\n",
    "\n",
    "# for keys, values in dt.items():\n",
    "#     print(keys)\n",
    "#     print(values)"
   ]
  },
  {
   "cell_type": "code",
   "execution_count": 4,
   "metadata": {},
   "outputs": [
    {
     "name": "stdout",
     "output_type": "stream",
     "text": [
      "1 --> 90\n",
      "2 --> 80\n",
      "3 --> 70\n",
      "4 --> 60\n",
      "5 --> 50\n",
      "6 --> 40\n",
      "7 --> 30\n",
      "8 --> 20\n",
      "9 --> 10\n"
     ]
    }
   ],
   "source": [
    "# Enumerate\n",
    "\n",
    "tpl = (10,20,30,40,50,60,70,80,90)\n",
    "# count = 0\n",
    "# for item in tpl:\n",
    "#     print(f'{count} --> {item}')\n",
    "#     count += 1\n",
    "\n",
    "for i,item in enumerate(reversed(tpl),1):\n",
    "    print(f'{i} --> {item}')"
   ]
  },
  {
   "cell_type": "code",
   "execution_count": 2,
   "metadata": {},
   "outputs": [
    {
     "name": "stdout",
     "output_type": "stream",
     "text": [
      "10   ===>   0  <==>   10   ===>   -9\n",
      "20   ===>   1  <==>   20   ===>   -8\n",
      "30   ===>   2  <==>   30   ===>   -7\n",
      "40   ===>   3  <==>   40   ===>   -6\n",
      "50   ===>   4  <==>   50   ===>   -5\n",
      "60   ===>   5  <==>   60   ===>   -4\n",
      "70   ===>   6  <==>   70   ===>   -3\n",
      "80   ===>   7  <==>   80   ===>   -2\n",
      "90   ===>   8  <==>   90   ===>   -1\n"
     ]
    }
   ],
   "source": [
    "tpl = (10,20,30,40,50,60,70,80,90)\n",
    "  \n",
    "for i, item in enumerate(tpl):\n",
    "    print(item,\"  ===>  \",i,\" <==>  \",item,\"  ===>  \",-((len(tpl)+1)-i-1))"
   ]
  },
  {
   "cell_type": "code",
   "execution_count": 1,
   "metadata": {},
   "outputs": [
    {
     "name": "stdout",
     "output_type": "stream",
     "text": [
      "Position : 6  ==>  48   position : 0 ==> 25\n",
      "Position : 5  ==>  75   position : 1 ==> 45\n",
      "Position : 4  ==>  85   position : 2 ==> 63\n",
      "Position : 3  ==>  96   position : 3 ==> 96\n",
      "Position : 2  ==>  63   position : 4 ==> 85\n",
      "Position : 1  ==>  45   position : 5 ==> 75\n",
      "Position : 0  ==>  25   position : 6 ==> 48\n"
     ]
    }
   ],
   "source": [
    "ls = [25,45,63,96,85,75,48]\n",
    "\n",
    "for i in range(len(ls)):\n",
    "    print(f\"Position : {len(ls)-i-1}  ==>  {ls[len(ls)-i-1]}   position : {i} ==> {ls[i]}\")"
   ]
  },
  {
   "cell_type": "code",
   "execution_count": 26,
   "metadata": {},
   "outputs": [
    {
     "name": "stdout",
     "output_type": "stream",
     "text": [
      "-1\n"
     ]
    }
   ],
   "source": [
    "i = 5\n",
    "while i >= 0:\n",
    "    print(i)\n",
    "    i -= 1"
   ]
  },
  {
   "cell_type": "code",
   "execution_count": 42,
   "metadata": {},
   "outputs": [
    {
     "name": "stdout",
     "output_type": "stream",
     "text": [
      "96 is present at index 3\n"
     ]
    }
   ],
   "source": [
    "# Linear Searching\n",
    "\n",
    "ls = [25,45,63,96,85,75]\n",
    "for i in range(len(ls)):\n",
    "    if ls[i] == 96:\n",
    "        print(f'{ls[i]} is present at index {i}')"
   ]
  },
  {
   "cell_type": "code",
   "execution_count": 63,
   "metadata": {},
   "outputs": [
    {
     "name": "stdout",
     "output_type": "stream",
     "text": [
      "69.28571428571429\n",
      "485\n",
      "7\n"
     ]
    }
   ],
   "source": [
    "ls = [25, 45, 63, 96, 85, 75, 96]\n",
    "\n",
    "t1 = 0\n",
    "\n",
    "for i in ls:\n",
    "    t1 += i\n",
    "    \n",
    "avg = t1/len(ls)\n",
    "\n",
    "print(avg)\n",
    "print(t1)"
   ]
  },
  {
   "cell_type": "code",
   "execution_count": 3,
   "metadata": {},
   "outputs": [
    {
     "name": "stdout",
     "output_type": "stream",
     "text": [
      "69.28571428571429\n",
      "485\n"
     ]
    }
   ],
   "source": [
    "ls = [25, 45, 63, 96, 85, 75, 96]\n",
    "\n",
    "t2 = 0\n",
    "i = 0\n",
    "\n",
    "while i < len(ls):\n",
    "    # print(ls[i])\n",
    "    t2 += ls[i]\n",
    "    i += 1\n",
    "\n",
    "avg = t2/len(ls)\n",
    "\n",
    "print(avg)\n",
    "print(t2)"
   ]
  },
  {
   "cell_type": "code",
   "execution_count": 1,
   "metadata": {},
   "outputs": [
    {
     "name": "stdout",
     "output_type": "stream",
     "text": [
      "\n",
      "\n",
      "* * * * * * \n",
      "\n",
      "* * * * * * \n",
      "\n",
      "* * * * * * \n",
      "\n",
      "* * * * * * \n",
      "\n",
      "* * * * * * "
     ]
    }
   ],
   "source": [
    "i = 0\n",
    "j = 0\n",
    "for i in range(5):\n",
    "    print('\\n')\n",
    "    for j in range(6):\n",
    "        print('*',end=' ')"
   ]
  },
  {
   "cell_type": "code",
   "execution_count": null,
   "metadata": {},
   "outputs": [],
   "source": []
  },
  {
   "cell_type": "code",
   "execution_count": null,
   "metadata": {},
   "outputs": [],
   "source": []
  },
  {
   "cell_type": "code",
   "execution_count": null,
   "metadata": {},
   "outputs": [],
   "source": []
  },
  {
   "cell_type": "code",
   "execution_count": null,
   "metadata": {},
   "outputs": [],
   "source": []
  },
  {
   "cell_type": "code",
   "execution_count": null,
   "metadata": {},
   "outputs": [],
   "source": []
  },
  {
   "cell_type": "code",
   "execution_count": null,
   "metadata": {},
   "outputs": [],
   "source": []
  },
  {
   "cell_type": "code",
   "execution_count": null,
   "metadata": {},
   "outputs": [],
   "source": []
  }
 ],
 "metadata": {
  "kernelspec": {
   "display_name": "Python 3",
   "language": "python",
   "name": "python3"
  },
  "language_info": {
   "codemirror_mode": {
    "name": "ipython",
    "version": 3
   },
   "file_extension": ".py",
   "mimetype": "text/x-python",
   "name": "python",
   "nbconvert_exporter": "python",
   "pygments_lexer": "ipython3",
   "version": "3.12.4"
  }
 },
 "nbformat": 4,
 "nbformat_minor": 2
}
