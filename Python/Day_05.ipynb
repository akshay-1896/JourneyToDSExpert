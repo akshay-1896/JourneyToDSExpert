{
 "cells": [
  {
   "cell_type": "markdown",
   "metadata": {},
   "source": [
    "## TUPLES\n",
    "\n",
    "Immutable / \n",
    "Static /\n",
    "Heterogeneous /\n",
    "Hashable /\n",
    "Ordered"
   ]
  },
  {
   "cell_type": "code",
   "execution_count": null,
   "metadata": {},
   "outputs": [],
   "source": [
    "tpl = (10,20,30,40,10)\n",
    "# print(tpl)\n",
    "# print(type(tpl))\n",
    "# print(tpl.count(10)) # it will return no. of items the item is repeated\n",
    "# tpl.index(20) # returns the index position of given item\n",
    "# print(tpl * 2) # replicates the item for n times"
   ]
  },
  {
   "cell_type": "code",
   "execution_count": null,
   "metadata": {},
   "outputs": [],
   "source": [
    "student_marks = (56,67)\n",
    "# print(student_marks[0]) # slicing of tuple\n",
    "# student_marks[0] = 18 # immutable\n",
    "print(student_marks[0])"
   ]
  },
  {
   "cell_type": "markdown",
   "metadata": {},
   "source": [
    "<h3>Tuple Unpacking</h3>"
   ]
  },
  {
   "cell_type": "code",
   "execution_count": null,
   "metadata": {},
   "outputs": [],
   "source": [
    "# Tuple unpacking method\n",
    "student_marks = (56,67,78)\n",
    "rohit, mohit, rahul = student_marks # assigning copied tuple values to rohit and mohit\n",
    "print(rohit)\n",
    "print(mohit)\n",
    "print(student_marks)"
   ]
  },
  {
   "cell_type": "code",
   "execution_count": null,
   "metadata": {},
   "outputs": [],
   "source": [
    "l = list(range(1,10))\n",
    "print(l)\n",
    "t = tuple(range(1,10))\n",
    "print(t)"
   ]
  },
  {
   "cell_type": "markdown",
   "metadata": {},
   "source": [
    "## SETS\n",
    "\n",
    "Mutable / Unordered / Unique Elements / Dynamic / Efficient Membership Testing"
   ]
  },
  {
   "cell_type": "markdown",
   "metadata": {},
   "source": [
    "<h3>Frozen Sets</h3>"
   ]
  },
  {
   "cell_type": "code",
   "execution_count": null,
   "metadata": {},
   "outputs": [],
   "source": [
    "frozen = frozenset([1, 2, 3])\n",
    "# frozen.add(4)  # This will raise an AttributeError because frozenset is immutable"
   ]
  },
  {
   "cell_type": "code",
   "execution_count": null,
   "metadata": {},
   "outputs": [],
   "source": [
    "set = {10,34,45,33,67}\n",
    "print(set)"
   ]
  },
  {
   "cell_type": "code",
   "execution_count": null,
   "metadata": {},
   "outputs": [],
   "source": [
    "st = {10,85,65,45,72,72,72,72}\n",
    "st.add(50) # to add single elements\n",
    "print(st)"
   ]
  },
  {
   "cell_type": "code",
   "execution_count": null,
   "metadata": {},
   "outputs": [],
   "source": [
    "st = {10,85,65,45,72,72,72,72}\n",
    "st.update([4,5]) # to add multiple elements at once\n",
    "print(st)\n",
    "st.update({6,7})\n",
    "print(st)"
   ]
  },
  {
   "cell_type": "code",
   "execution_count": null,
   "metadata": {},
   "outputs": [],
   "source": [
    "st = {10,85,65,45,72,72,72,72}\n",
    "st.pop() # removes random item\n",
    "print(st)"
   ]
  },
  {
   "cell_type": "code",
   "execution_count": null,
   "metadata": {},
   "outputs": [],
   "source": [
    "st = {10,85,65,45,72,72,72,72}\n",
    "st.remove(45) # removes specific element and raises KeyError if element is not present\n",
    "print(st)"
   ]
  },
  {
   "cell_type": "code",
   "execution_count": null,
   "metadata": {},
   "outputs": [],
   "source": [
    "st = {10,85,65,45,72,72,72,72}\n",
    "st.discard(65) # removes specific element and returns nothing if element is not present\n",
    "print(st)"
   ]
  },
  {
   "cell_type": "code",
   "execution_count": null,
   "metadata": {},
   "outputs": [],
   "source": [
    "st = {10,85,65,45,72,72,72,72}\n",
    "st.clear() # clears or removes all elements of set\n",
    "print(st)"
   ]
  },
  {
   "cell_type": "code",
   "execution_count": null,
   "metadata": {},
   "outputs": [],
   "source": [
    "st1 = {10,85,65,45,72,72,72,72}\n",
    "st2 = {10,85,62,88}\n",
    "print(st1.difference(st2)) # returns set of elements which are only present in st1\n",
    "print(st2.difference(st1)) # returns set of elements which are only present in st2\n",
    "print(st1.intersection(st2)) # returns common elements of st1 and st2\n",
    "print(st1.union(st2)) # unites all elements"
   ]
  },
  {
   "cell_type": "code",
   "execution_count": null,
   "metadata": {},
   "outputs": [],
   "source": [
    "st1 = {10,85,65,45,72,72,72,72}\n",
    "st2 = {10,85,45}\n",
    "\n",
    "st2.issubset(st1) # checks for subset"
   ]
  },
  {
   "cell_type": "code",
   "execution_count": null,
   "metadata": {},
   "outputs": [],
   "source": [
    "st1 = {10,85,65,45,72,72,72,72}\n",
    "st2 = {10,85,65}\n",
    "\n",
    "st1.issuperset(st2) # returns TRUE iff all elements of st2 are in st1\n",
    "# st2.issuperset(st1)"
   ]
  },
  {
   "cell_type": "code",
   "execution_count": null,
   "metadata": {},
   "outputs": [],
   "source": [
    "st1 = {10,85,65,45,72,72,72,72}\n",
    "st2 = {23,44,32,67}\n",
    "\n",
    "st1.isdisjoint(st2) # returns TRUE if both sets have uncommon elements"
   ]
  },
  {
   "cell_type": "code",
   "execution_count": null,
   "metadata": {},
   "outputs": [],
   "source": [
    "ls = [10,20,30,30,40,10,50,10,20,7,77,88,88,99,7,2]\n",
    "# To remove all duplicates in the list, typecast the list to set and then to list again\n",
    "ls = set(ls)\n",
    "ls = list(ls)\n",
    "print(ls)"
   ]
  },
  {
   "cell_type": "markdown",
   "metadata": {},
   "source": [
    "## <h2>Completed!!</h2>"
   ]
  }
 ],
 "metadata": {
  "kernelspec": {
   "display_name": "Python 3",
   "language": "python",
   "name": "python3"
  },
  "language_info": {
   "codemirror_mode": {
    "name": "ipython",
    "version": 3
   },
   "file_extension": ".py",
   "mimetype": "text/x-python",
   "name": "python",
   "nbconvert_exporter": "python",
   "pygments_lexer": "ipython3",
   "version": "3.12.4"
  }
 },
 "nbformat": 4,
 "nbformat_minor": 2
}
