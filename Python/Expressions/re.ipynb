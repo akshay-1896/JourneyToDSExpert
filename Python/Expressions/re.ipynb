{
 "cells": [
  {
   "cell_type": "markdown",
   "metadata": {},
   "source": [
    "## Regular Expressions\n",
    "\n",
    "--> used in NLP"
   ]
  },
  {
   "cell_type": "code",
   "execution_count": null,
   "metadata": {},
   "outputs": [],
   "source": [
    "import re\n"
   ]
  },
  {
   "cell_type": "code",
   "execution_count": null,
   "metadata": {},
   "outputs": [
    {
     "name": "stdout",
     "output_type": "stream",
     "text": [
      "<re.Match object; span=(9, 12), match='pvt'>\n"
     ]
    }
   ],
   "source": [
    "st = \"upflairs pvt ltd pvt jaipur rajasthan\"\n",
    "st.find(\"pvt\")\n",
    "\n",
    "match = re.search('pvt', st)\n",
    "print(match)"
   ]
  },
  {
   "cell_type": "code",
   "execution_count": 5,
   "metadata": {},
   "outputs": [
    {
     "name": "stdout",
     "output_type": "stream",
     "text": [
      "pvt\n"
     ]
    }
   ],
   "source": [
    "st = \"upflairs pvt ltd pvt jaipur rajasthan\"\n",
    "st.find(\"pvt\")\n",
    "\n",
    "match = re.search('pvt', st)\n",
    "print(match.group())"
   ]
  },
  {
   "cell_type": "code",
   "execution_count": 6,
   "metadata": {},
   "outputs": [
    {
     "name": "stdout",
     "output_type": "stream",
     "text": [
      "['pvt', 'pvt']\n"
     ]
    }
   ],
   "source": [
    "st = \"upflairs pvt ltd pvt jaipur rajasthan\"\n",
    "\n",
    "match = re.findall('pvt', st)\n",
    "print(match)"
   ]
  },
  {
   "cell_type": "code",
   "execution_count": 9,
   "metadata": {},
   "outputs": [
    {
     "name": "stdout",
     "output_type": "stream",
     "text": [
      "upflairs 45 pvt4 ltd# pvt jaipur rajasthan\n"
     ]
    },
    {
     "data": {
      "text/plain": [
       "['p', 'p', 'v', 't', 't', 'p', 'v', 't', 'p', 't']"
      ]
     },
     "execution_count": 9,
     "metadata": {},
     "output_type": "execute_result"
    }
   ],
   "source": [
    "st = \"upflairs 45 pvt4 ltd# pvt jaipur rajasthan\"\n",
    "print(st)\n",
    "re.findall('[pvt]',st)"
   ]
  },
  {
   "cell_type": "code",
   "execution_count": 16,
   "metadata": {},
   "outputs": [
    {
     "name": "stdout",
     "output_type": "stream",
     "text": [
      "upflairs pvt ltd pvt jaipur rajasthan\n"
     ]
    },
    {
     "data": {
      "text/plain": [
       "['pvt', 'pvt']"
      ]
     },
     "execution_count": 16,
     "metadata": {},
     "output_type": "execute_result"
    }
   ],
   "source": [
    "st = \"upflairs pvt ltd pvt jaipur rajasthan\"\n",
    "print(st)\n",
    "re.findall('pvt',st)"
   ]
  },
  {
   "cell_type": "code",
   "execution_count": 17,
   "metadata": {},
   "outputs": [
    {
     "name": "stdout",
     "output_type": "stream",
     "text": [
      "upflairs pvt ltd pvt jaipur rajasthan\n",
      "['f', 'a', 'd', 'a', 'a', 'a', 'a']\n"
     ]
    }
   ],
   "source": [
    "st = \"upflairs pvt ltd pvt jaipur rajasthan\"\n",
    "print(st)\n",
    "print(re.findall('[a-f]',st))"
   ]
  },
  {
   "cell_type": "code",
   "execution_count": 18,
   "metadata": {},
   "outputs": [
    {
     "name": "stdout",
     "output_type": "stream",
     "text": [
      "upflairs 0pvt20 l10td pvt 6jaipur r8ajasthan\n",
      "['0', '2', '0', '1', '0', '6', '8']\n"
     ]
    }
   ],
   "source": [
    "st = \"upflairs 0pvt20 l10td pvt 6jaipur r8ajasthan\"\n",
    "print(st)\n",
    "print(re.findall('[0-9]',st))"
   ]
  },
  {
   "cell_type": "code",
   "execution_count": 20,
   "metadata": {},
   "outputs": [
    {
     "name": "stdout",
     "output_type": "stream",
     "text": [
      "\n"
     ]
    }
   ],
   "source": [
    "# how we can fetch contact no. and email address from the string using regular expressions\n",
    "st = \"hey this is my contact 9975634871 and my postal code is 302017 and my email address is officialakshay@gmail.com\".join(re.findall('[0-9]{10}', st))\n",
    "\n",
    "print(st)"
   ]
  },
  {
   "cell_type": "code",
   "execution_count": 15,
   "metadata": {},
   "outputs": [
    {
     "name": "stdout",
     "output_type": "stream",
     "text": [
      "upflairs pvt ltd pvt jaipur rajasthan India and Mississippi\n"
     ]
    },
    {
     "data": {
      "text/plain": [
       "['Mississippi']"
      ]
     },
     "execution_count": 15,
     "metadata": {},
     "output_type": "execute_result"
    }
   ],
   "source": [
    "st = \"upflairs pvt ltd pvt jaipur rajasthan India and Mississippi\"\n",
    "print(st)\n",
    "re.findall('M.*i',st)"
   ]
  },
  {
   "cell_type": "code",
   "execution_count": null,
   "metadata": {},
   "outputs": [],
   "source": []
  },
  {
   "cell_type": "code",
   "execution_count": null,
   "metadata": {},
   "outputs": [],
   "source": []
  },
  {
   "cell_type": "code",
   "execution_count": null,
   "metadata": {},
   "outputs": [],
   "source": []
  },
  {
   "cell_type": "code",
   "execution_count": null,
   "metadata": {},
   "outputs": [],
   "source": []
  },
  {
   "cell_type": "code",
   "execution_count": null,
   "metadata": {},
   "outputs": [],
   "source": []
  },
  {
   "cell_type": "code",
   "execution_count": null,
   "metadata": {},
   "outputs": [],
   "source": []
  }
 ],
 "metadata": {
  "kernelspec": {
   "display_name": "Python 3",
   "language": "python",
   "name": "python3"
  },
  "language_info": {
   "codemirror_mode": {
    "name": "ipython",
    "version": 3
   },
   "file_extension": ".py",
   "mimetype": "text/x-python",
   "name": "python",
   "nbconvert_exporter": "python",
   "pygments_lexer": "ipython3",
   "version": "3.12.4"
  }
 },
 "nbformat": 4,
 "nbformat_minor": 2
}
