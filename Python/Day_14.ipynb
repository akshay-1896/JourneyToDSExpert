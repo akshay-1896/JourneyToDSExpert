{
 "cells": [
  {
   "cell_type": "markdown",
   "metadata": {},
   "source": [
    "## filter() Function"
   ]
  },
  {
   "cell_type": "code",
   "execution_count": null,
   "metadata": {},
   "outputs": [],
   "source": []
  },
  {
   "cell_type": "markdown",
   "metadata": {},
   "source": [
    "## Decorator"
   ]
  },
  {
   "cell_type": "code",
   "execution_count": null,
   "metadata": {},
   "outputs": [],
   "source": [
    "def testing(fun):\n",
    "    print(\"Hey! I am testing function\")\n",
    "    fun()\n",
    "    \n",
    "def test2():\n",
    "    print(\"function test2 is executed\")\n",
    "\n",
    "testing(test2)"
   ]
  },
  {
   "cell_type": "code",
   "execution_count": null,
   "metadata": {},
   "outputs": [],
   "source": [
    "def testing1():\n",
    "    print('Testing - 1')\n",
    "    def testing2():\n",
    "        print(\"Testing - 2\")\n",
    "        # def testing3():\n",
    "        #     print(\"Testing - 3\")\n",
    "        # return testing3()\n",
    "    return testing2\n",
    "\n",
    "output = testing1()\n",
    "output()"
   ]
  },
  {
   "cell_type": "code",
   "execution_count": null,
   "metadata": {},
   "outputs": [],
   "source": [
    "def wraper(fun): # Decorator defining\n",
    "    def inner_function():\n",
    "        print('Modification before calling function')\n",
    "        fun()\n",
    "        print(\"Modification after calling function\")\n",
    "    return inner_function\n",
    "\n",
    "@wraper  # Decorator calling and changing functionality of the to_modify()\n",
    "def to_modify():\n",
    "    print(\"Function to be modified\")\n",
    "\n",
    "to_modify()\n",
    "\n",
    "# output = wraper(to_modify)\n",
    "# output()"
   ]
  },
  {
   "cell_type": "code",
   "execution_count": null,
   "metadata": {},
   "outputs": [],
   "source": [
    "def wrapper(fn):\n",
    "    def inner_function(ls):\n",
    "        total_sum = sum(ls)\n",
    "        count = len(ls)\n",
    "        fn(total_sum,count)\n",
    "    return inner_function\n",
    "\n",
    "@wrapper\n",
    "def average_finder(total_sum,count):\n",
    "    print(f\"Your average is: {total_sum/count:.2f}\")\n",
    "    \n",
    "ls= [10,20,30,40]\n",
    "average_finder(ls)\n",
    "        "
   ]
  },
  {
   "cell_type": "markdown",
   "metadata": {},
   "source": [
    "## Iterator"
   ]
  },
  {
   "cell_type": "code",
   "execution_count": null,
   "metadata": {},
   "outputs": [],
   "source": [
    "ls = [10,20,30,40,50]\n",
    "# print(type(ls))\n",
    "# print(type(iter(ls)))\n",
    "var2 = iter(ls)\n",
    "var2"
   ]
  },
  {
   "cell_type": "code",
   "execution_count": null,
   "metadata": {},
   "outputs": [],
   "source": [
    "# next(ls)"
   ]
  },
  {
   "cell_type": "code",
   "execution_count": null,
   "metadata": {},
   "outputs": [],
   "source": [
    "print(type(var2))\n",
    "\n",
    "for item in var2:\n",
    "    print(item)\n",
    "\n",
    "print(type(var2))"
   ]
  },
  {
   "cell_type": "code",
   "execution_count": null,
   "metadata": {},
   "outputs": [],
   "source": [
    "next(var2)"
   ]
  },
  {
   "cell_type": "code",
   "execution_count": null,
   "metadata": {},
   "outputs": [],
   "source": []
  },
  {
   "cell_type": "code",
   "execution_count": null,
   "metadata": {},
   "outputs": [],
   "source": []
  },
  {
   "cell_type": "code",
   "execution_count": null,
   "metadata": {},
   "outputs": [],
   "source": []
  },
  {
   "cell_type": "code",
   "execution_count": null,
   "metadata": {},
   "outputs": [],
   "source": []
  },
  {
   "cell_type": "code",
   "execution_count": null,
   "metadata": {},
   "outputs": [],
   "source": []
  },
  {
   "cell_type": "code",
   "execution_count": null,
   "metadata": {},
   "outputs": [],
   "source": []
  },
  {
   "cell_type": "code",
   "execution_count": null,
   "metadata": {},
   "outputs": [],
   "source": []
  },
  {
   "cell_type": "code",
   "execution_count": null,
   "metadata": {},
   "outputs": [],
   "source": []
  }
 ],
 "metadata": {
  "kernelspec": {
   "display_name": "Python 3",
   "language": "python",
   "name": "python3"
  },
  "language_info": {
   "codemirror_mode": {
    "name": "ipython",
    "version": 3
   },
   "file_extension": ".py",
   "mimetype": "text/x-python",
   "name": "python",
   "nbconvert_exporter": "python",
   "pygments_lexer": "ipython3",
   "version": "3.12.4"
  }
 },
 "nbformat": 4,
 "nbformat_minor": 2
}
