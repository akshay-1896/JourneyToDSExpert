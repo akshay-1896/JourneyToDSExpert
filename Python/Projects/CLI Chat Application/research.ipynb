{
 "cells": [
  {
   "cell_type": "code",
   "execution_count": 70,
   "metadata": {},
   "outputs": [],
   "source": [
    "with open('Functions.pdf','rb') as file:\n",
    "    pdf_content = file.read()"
   ]
  },
  {
   "cell_type": "code",
   "execution_count": 71,
   "metadata": {},
   "outputs": [
    {
     "data": {
      "text/plain": [
       "b'(Mozilla/5'"
      ]
     },
     "execution_count": 71,
     "metadata": {},
     "output_type": "execute_result"
    }
   ],
   "source": [
    "pdf_content[50:60]\n",
    "# pdf_content.decode('ascii')"
   ]
  },
  {
   "cell_type": "code",
   "execution_count": 72,
   "metadata": {},
   "outputs": [
    {
     "data": {
      "text/plain": [
       "'2DSA.pdf|'"
      ]
     },
     "execution_count": 72,
     "metadata": {},
     "output_type": "execute_result"
    }
   ],
   "source": [
    "label = '2' + 'DSA.pdf' + '|'\n",
    "label"
   ]
  },
  {
   "cell_type": "code",
   "execution_count": null,
   "metadata": {},
   "outputs": [],
   "source": [
    "# pdf_data = encrypted_label + pdf_content"
   ]
  },
  {
   "cell_type": "code",
   "execution_count": null,
   "metadata": {},
   "outputs": [
    {
     "ename": "AttributeError",
     "evalue": "'bytes' object has no attribute 'encode'",
     "output_type": "error",
     "traceback": [
      "\u001b[1;31m---------------------------------------------------------------------------\u001b[0m",
      "\u001b[1;31mAttributeError\u001b[0m                            Traceback (most recent call last)",
      "Cell \u001b[1;32mIn[75], line 23\u001b[0m\n\u001b[0;32m     20\u001b[0m size \u001b[38;5;241m=\u001b[39m \u001b[38;5;28mlen\u001b[39m(pdf_data)\n\u001b[0;32m     21\u001b[0m size\n\u001b[1;32m---> 23\u001b[0m ascii_content_encoded \u001b[38;5;241m=\u001b[39m \u001b[43mcontent_encoded\u001b[49m\u001b[38;5;241;43m.\u001b[39;49m\u001b[43mencode\u001b[49m(\u001b[38;5;124m'\u001b[39m\u001b[38;5;124mascii\u001b[39m\u001b[38;5;124m'\u001b[39m)\n",
      "\u001b[1;31mAttributeError\u001b[0m: 'bytes' object has no attribute 'encode'"
     ]
    }
   ],
   "source": [
    "import base64\n",
    "\n",
    "# Step 1: Read the PDF file in binary mode\n",
    "# with open(\"example.pdf\", \"rb\") as pdf_file:\n",
    "#     pdf_bytes = pdf_file.read()\n",
    "\n",
    "# Step 2: Encode the byte object into Base64\n",
    "content_encoded = base64.b64encode(pdf_content)\n",
    "# label_encoded = base64.b64encode(encrypted_label)\n",
    "\n",
    "# pdf_data = label_encoded + '|' + content_encoded\n",
    "\n",
    "# Step 3: Convert the Base64 bytes to a string (optional)\n",
    "encoded_string = content_encoded.decode('ascii')\n",
    "pdf_data = label + encoded_string\n",
    "pdf_data[:18]\n",
    "# print(content_encoded[:10])\n",
    "# print(encoded_string[:10])\n",
    "\n",
    "size = len(pdf_data)\n",
    "size\n",
    "\n"
   ]
  },
  {
   "cell_type": "code",
   "execution_count": null,
   "metadata": {},
   "outputs": [
    {
     "ename": "Error",
     "evalue": "Incorrect padding",
     "output_type": "error",
     "traceback": [
      "\u001b[1;31m---------------------------------------------------------------------------\u001b[0m",
      "\u001b[1;31mError\u001b[0m                                     Traceback (most recent call last)",
      "Cell \u001b[1;32mIn[76], line 12\u001b[0m\n\u001b[0;32m     10\u001b[0m ascii_pdf_decoded \u001b[38;5;241m=\u001b[39m ascii_data_encoded\u001b[38;5;241m.\u001b[39mdecode(\u001b[38;5;124m'\u001b[39m\u001b[38;5;124mascii\u001b[39m\u001b[38;5;124m'\u001b[39m)\n\u001b[0;32m     11\u001b[0m \u001b[38;5;66;03m# decoded_pdf = base64.b64decode(content_encoded)\u001b[39;00m\n\u001b[1;32m---> 12\u001b[0m decoded_pdf \u001b[38;5;241m=\u001b[39m \u001b[43mbase64\u001b[49m\u001b[38;5;241;43m.\u001b[39;49m\u001b[43mb64decode\u001b[49m\u001b[43m(\u001b[49m\u001b[43mascii_pdf_decoded\u001b[49m\u001b[43m)\u001b[49m\n\u001b[0;32m     13\u001b[0m \u001b[38;5;66;03m# decoded_pdf[0]\u001b[39;00m\n\u001b[0;32m     15\u001b[0m splitted_data \u001b[38;5;241m=\u001b[39m pdf_data\u001b[38;5;241m.\u001b[39msplit(\u001b[38;5;124m'\u001b[39m\u001b[38;5;124m|\u001b[39m\u001b[38;5;124m'\u001b[39m, maxsplit\u001b[38;5;241m=\u001b[39m\u001b[38;5;241m1\u001b[39m)\n",
      "File \u001b[1;32mc:\\Users\\bhart\\AppData\\Local\\Programs\\Python\\Python312\\Lib\\base64.py:88\u001b[0m, in \u001b[0;36mb64decode\u001b[1;34m(s, altchars, validate)\u001b[0m\n\u001b[0;32m     86\u001b[0m     \u001b[38;5;28;01massert\u001b[39;00m \u001b[38;5;28mlen\u001b[39m(altchars) \u001b[38;5;241m==\u001b[39m \u001b[38;5;241m2\u001b[39m, \u001b[38;5;28mrepr\u001b[39m(altchars)\n\u001b[0;32m     87\u001b[0m     s \u001b[38;5;241m=\u001b[39m s\u001b[38;5;241m.\u001b[39mtranslate(\u001b[38;5;28mbytes\u001b[39m\u001b[38;5;241m.\u001b[39mmaketrans(altchars, \u001b[38;5;124mb\u001b[39m\u001b[38;5;124m'\u001b[39m\u001b[38;5;124m+/\u001b[39m\u001b[38;5;124m'\u001b[39m))\n\u001b[1;32m---> 88\u001b[0m \u001b[38;5;28;01mreturn\u001b[39;00m \u001b[43mbinascii\u001b[49m\u001b[38;5;241;43m.\u001b[39;49m\u001b[43ma2b_base64\u001b[49m\u001b[43m(\u001b[49m\u001b[43ms\u001b[49m\u001b[43m,\u001b[49m\u001b[43m \u001b[49m\u001b[43mstrict_mode\u001b[49m\u001b[38;5;241;43m=\u001b[39;49m\u001b[43mvalidate\u001b[49m\u001b[43m)\u001b[49m\n",
      "\u001b[1;31mError\u001b[0m: Incorrect padding"
     ]
    }
   ],
   "source": [
    "# Step 1: Decode the Base64 string back into bytes\n",
    "# decoded_pdf_bytes = base64.b64decode(ascii_string)\n",
    "\n",
    "# Step 2: Write the bytes back to a new PDF file\n",
    "# with open(\"decoded_example.pdf\", \"wb\") as pdf_file:\n",
    "#     pdf_file.write(decoded_pdf_bytes)\n",
    "\n",
    "ascii_data_encoded = pdf_data.encode('ascii')\n",
    "\n",
    "ascii_pdf_decoded = ascii_data_encoded.decode('ascii')\n",
    "# decoded_pdf = base64.b64decode(content_encoded)\n",
    "decoded_pdf = base64.b64decode(ascii_pdf_decoded)\n",
    "# decoded_pdf[0]\n",
    "\n",
    "splitted_data = pdf_data.split('|', maxsplit=1)\n",
    "decoded_pdf_bytes = base64.b64decode(splitted_data[1])\n",
    "splitted_data[1][:10]\n",
    "decoded_pdf_bytes[:10]\n"
   ]
  },
  {
   "cell_type": "code",
   "execution_count": null,
   "metadata": {},
   "outputs": [],
   "source": [
    "# send_to(pdf_data,address)"
   ]
  },
  {
   "cell_type": "code",
   "execution_count": 8,
   "metadata": {},
   "outputs": [],
   "source": [
    "import os"
   ]
  },
  {
   "cell_type": "code",
   "execution_count": 10,
   "metadata": {},
   "outputs": [],
   "source": [
    "location_folder = r'media'\n",
    "pdf_file_path = os.path.join(os.getcwd(),location_folder,\"test.pdf\")\n",
    "with open(pdf_file_path,'ab') as file:\n",
    "    file.write(pdf_data)"
   ]
  },
  {
   "cell_type": "code",
   "execution_count": null,
   "metadata": {},
   "outputs": [],
   "source": [
    "# for image reading\n",
    "# pillow library\n",
    "from PIL import Image"
   ]
  },
  {
   "cell_type": "code",
   "execution_count": null,
   "metadata": {},
   "outputs": [],
   "source": [
    "Image.open(r\"\")"
   ]
  },
  {
   "cell_type": "code",
   "execution_count": null,
   "metadata": {},
   "outputs": [],
   "source": [
    "import MySQLdb"
   ]
  },
  {
   "cell_type": "code",
   "execution_count": 7,
   "metadata": {},
   "outputs": [
    {
     "data": {
      "text/plain": [
       "'1'"
      ]
     },
     "execution_count": 7,
     "metadata": {},
     "output_type": "execute_result"
    }
   ],
   "source": [
    "msg = \"Hello World\"\n",
    "e_msg = msg.encode('ascii')\n",
    "label = '1' + 'msg' + '|'\n",
    "e_label = label.encode('ascii')\n",
    "msg_data = e_label + e_msg\n",
    "data= msg_data.decode('ascii')\n",
    "# data\n",
    "msg_data.decode('ascii')[0]"
   ]
  },
  {
   "cell_type": "code",
   "execution_count": null,
   "metadata": {},
   "outputs": [],
   "source": [
    "input_path = input(\"Enter the Path: \")\n",
    "with open(input_path,'rb') as file:\n",
    "    pdf_content = file.read()\n",
    "    ls_path = input_path.rsplit('\\\\',maxsplit=1)\n",
    "    pdf_label = '3/' + ls_path[1] + '/'\n",
    "    encrypted_pdf_label = pdf_label.encode('ascii')\n",
    "    pdf_data = encrypted_pdf_label + pdf_content\n",
    "    # encrypted_pdf_data = pdf_data.encode('ascii')\n",
    "\n",
    "pdf_data\n"
   ]
  },
  {
   "cell_type": "code",
   "execution_count": null,
   "metadata": {},
   "outputs": [],
   "source": [
    "d = pdf_data.decode('ascii')\n",
    "d[0]"
   ]
  },
  {
   "cell_type": "code",
   "execution_count": null,
   "metadata": {},
   "outputs": [],
   "source": [
    "from fpdf import FPDF\n",
    "\n",
    "# Create instance of FPDF class\n",
    "pdf = FPDF()\n",
    "pdf.set_auto_page_break(auto=True, margin=15)\n",
    "pdf.add_page()\n",
    "pdf.set_font(\"Arial\", size=12)\n",
    "\n",
    "# Add content to the PDF\n",
    "content = [\n",
    "    \"Python Basics\",\n",
    "    \"-----------------------------\",\n",
    "    \"1. Python is an interpreted, high-level programming language.\",\n",
    "    \"2. It supports multiple programming paradigms, including procedural, object-oriented, and functional programming.\",\n",
    "    \"3. Popular Python libraries include NumPy, pandas, and matplotlib.\",\n",
    "    \"4. Python is widely used in web development, data science, artificial intelligence, and more.\",\n",
    "    \"\",\n",
    "    \"Python Example: Hello, World!\",\n",
    "    \"-----------------------------\",\n",
    "    \"Code:\",\n",
    "    \"    print('Hello, World!')\",\n",
    "    \"\",\n",
    "    \"Output:\",\n",
    "    \"    Hello, World!\",\n",
    "    \"\",\n",
    "    \"Benefits of Python:\",\n",
    "    \"-----------------------------\",\n",
    "    \"- Easy to learn and use.\",\n",
    "    \"- Extensive libraries and frameworks.\",\n",
    "    \"- Versatile for different domains.\",\n",
    "    \"\",\n",
    "    \"This document is small enough to be transferred via UDP.\"\n",
    "]\n",
    "\n",
    "# Add lines to the PDF\n",
    "for line in content:\n",
    "    pdf.cell(0, 10, txt=line, ln=True)\n",
    "\n",
    "# Save the PDF to a file\n",
    "file_path = r\"C:\\Users\\bhart\\OneDrive\\Documents\"\n",
    "pdf.output(file_path)\n",
    "file_path\n"
   ]
  },
  {
   "cell_type": "code",
   "execution_count": null,
   "metadata": {},
   "outputs": [],
   "source": []
  }
 ],
 "metadata": {
  "kernelspec": {
   "display_name": "Python 3",
   "language": "python",
   "name": "python3"
  },
  "language_info": {
   "codemirror_mode": {
    "name": "ipython",
    "version": 3
   },
   "file_extension": ".py",
   "mimetype": "text/x-python",
   "name": "python",
   "nbconvert_exporter": "python",
   "pygments_lexer": "ipython3",
   "version": "3.12.4"
  }
 },
 "nbformat": 4,
 "nbformat_minor": 2
}
